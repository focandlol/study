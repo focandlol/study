{
 "cells": [
  {
   "cell_type": "code",
   "execution_count": 2,
   "id": "15a67888",
   "metadata": {},
   "outputs": [
    {
     "data": {
      "text/plain": [
       "True"
      ]
     },
     "execution_count": 2,
     "metadata": {},
     "output_type": "execute_result"
    }
   ],
   "source": [
    "from dotenv import load_dotenv\n",
    "\n",
    "load_dotenv()"
   ]
  },
  {
   "cell_type": "code",
   "execution_count": 7,
   "id": "5571ac67",
   "metadata": {},
   "outputs": [],
   "source": [
    "from langchain_openai import ChatOpenAI\n",
    "\n",
    "llm = ChatOpenAI(model='gpt-4o-mini', temperature=0)\n",
    "question = '안녕하세요'\n"
   ]
  },
  {
   "cell_type": "code",
   "execution_count": null,
   "id": "00ec5e49",
   "metadata": {},
   "outputs": [],
   "source": [
    "text_prompt = f'아래 질문에 답변해주세요 : {question}'\n",
    "llm.invoke(text_prompt)"
   ]
  },
  {
   "cell_type": "code",
   "execution_count": 8,
   "id": "6b60e9e2",
   "metadata": {},
   "outputs": [
    {
     "data": {
      "text/plain": [
       "StringPromptValue(text='아래 질문에 답변해주세요\\n\\n 안녕하세요')"
      ]
     },
     "execution_count": 8,
     "metadata": {},
     "output_type": "execute_result"
    }
   ],
   "source": [
    "from langchain_core.prompts import PromptTemplate\n",
    "\n",
    "prompt_with_template = '아래 질문에 답변해주세요\\n\\n {question}'\n",
    "prompt_template = PromptTemplate(template=prompt_with_template, input_variables=[\"question\"])\n",
    "prompt_template.invoke({\"question\": question})\n"
   ]
  },
  {
   "cell_type": "code",
   "execution_count": 9,
   "id": "e21d5c1b",
   "metadata": {},
   "outputs": [
    {
     "data": {
      "text/plain": [
       "AIMessage(content='안녕하세요! 어떻게 도와드릴까요?', additional_kwargs={'refusal': None}, response_metadata={'token_usage': {'completion_tokens': 10, 'prompt_tokens': 17, 'total_tokens': 27, 'completion_tokens_details': {'accepted_prediction_tokens': 0, 'audio_tokens': 0, 'reasoning_tokens': 0, 'rejected_prediction_tokens': 0}, 'prompt_tokens_details': {'audio_tokens': 0, 'cached_tokens': 0}}, 'model_name': 'gpt-4o-mini-2024-07-18', 'system_fingerprint': 'fp_34a54ae93c', 'id': 'chatcmpl-BpBD86ov7SiCNCFNGk3cnOtHCNFmj', 'service_tier': 'default', 'finish_reason': 'stop', 'logprobs': None}, id='run--204b25d3-2606-4f41-843c-7861fb7673cd-0', usage_metadata={'input_tokens': 17, 'output_tokens': 10, 'total_tokens': 27, 'input_token_details': {'audio': 0, 'cache_read': 0}, 'output_token_details': {'audio': 0, 'reasoning': 0}})"
      ]
     },
     "execution_count": 9,
     "metadata": {},
     "output_type": "execute_result"
    }
   ],
   "source": [
    "llm.invoke(prompt_template.invoke({\"question\": question}))"
   ]
  },
  {
   "cell_type": "code",
   "execution_count": null,
   "id": "ebf43a53",
   "metadata": {},
   "outputs": [],
   "source": [
    "prompt_chain = prompt_template | llm\n",
    "prompt_chain.invoke({\"question: question\"})"
   ]
  },
  {
   "cell_type": "code",
   "execution_count": 10,
   "id": "ac516b94",
   "metadata": {},
   "outputs": [
    {
     "name": "stdout",
     "output_type": "stream",
     "text": [
      "Note: you may need to restart the kernel to use updated packages.\n"
     ]
    }
   ],
   "source": [
    "%pip install -qU beautifulsoup4"
   ]
  },
  {
   "cell_type": "code",
   "execution_count": 11,
   "id": "629ea590",
   "metadata": {},
   "outputs": [
    {
     "name": "stderr",
     "output_type": "stream",
     "text": [
      "USER_AGENT environment variable not set, consider setting it to identify your requests.\n"
     ]
    }
   ],
   "source": [
    "from langchain_community.document_loaders import WebBaseLoader\n",
    "\n",
    "loader = WebBaseLoader('https://www.inflearn.com/?srsltid=AfmBOorbUcri9mxK6CLctXQP4hJcDN_4X9TAYw0XgGXb-hZf1HtJmvxF')\n",
    "\n"
   ]
  },
  {
   "cell_type": "code",
   "execution_count": 12,
   "id": "8972df14",
   "metadata": {},
   "outputs": [],
   "source": [
    "from langchain_text_splitters import RecursiveCharacterTextSplitter\n",
    "\n",
    "text_splitter = RecursiveCharacterTextSplitter(\n",
    "    chunk_size=1500,\n",
    "    chunk_overlap=200\n",
    ")\n",
    "\n",
    "document_list = loader.load_and_split(text_splitter)"
   ]
  },
  {
   "cell_type": "code",
   "execution_count": 13,
   "id": "0000ded1",
   "metadata": {},
   "outputs": [
    {
     "name": "stderr",
     "output_type": "stream",
     "text": [
      "Failed to send telemetry event ClientStartEvent: capture() takes 1 positional argument but 3 were given\n",
      "Failed to send telemetry event ClientCreateCollectionEvent: capture() takes 1 positional argument but 3 were given\n"
     ]
    }
   ],
   "source": [
    "from langchain_openai import OpenAIEmbeddings\n",
    "from langchain_chroma import Chroma\n",
    "\n",
    "embedding = OpenAIEmbeddings(model='text-embedding-3-large')\n",
    "\n",
    "database = Chroma.from_documents(\n",
    "    documents=document_list,\n",
    "    embedding=embedding,\n",
    "    collection_name='PromptTemplateTest',\n",
    "    persist_directory='./chroma'\n",
    ")\n"
   ]
  },
  {
   "cell_type": "code",
   "execution_count": 14,
   "id": "c727f079",
   "metadata": {},
   "outputs": [
    {
     "name": "stderr",
     "output_type": "stream",
     "text": [
      "Failed to send telemetry event CollectionQueryEvent: capture() takes 1 positional argument but 3 were given\n"
     ]
    }
   ],
   "source": [
    "retriever = database.as_retriever(search_kwargs={'k':1})\n",
    "retriever_docs = retriever.invoke(question)"
   ]
  },
  {
   "cell_type": "code",
   "execution_count": 15,
   "id": "37b5b9bd",
   "metadata": {},
   "outputs": [
    {
     "data": {
      "text/plain": [
       "[Document(id='d7c34e63-96df-4253-8aa9-788f80cb4004', metadata={'description': '프로그래밍, 인공지능, 데이터, 마케팅, 디자인등 입문부터 실전까지 업계 최고 선배들에게 배울 수 있는 곳.', 'source': 'https://www.inflearn.com/?srsltid=AfmBOorbUcri9mxK6CLctXQP4hJcDN_4X9TAYw0XgGXb-hZf1HtJmvxF', 'title': '인프런 - 라이프타임 커리어 플랫폼', 'language': 'ko'}, page_content='인프런 - 라이프타임 커리어 플랫폼인프런 - 라이프타임 커리어 플랫폼검색검색전체전체기술 검색기술 검색AI 활용왕초보답변 활발미션모임/부트캠프난이도난이도추천순추천순')]"
      ]
     },
     "execution_count": 15,
     "metadata": {},
     "output_type": "execute_result"
    }
   ],
   "source": [
    "retriever_docs"
   ]
  },
  {
   "cell_type": "code",
   "execution_count": 16,
   "id": "f6f33f0a",
   "metadata": {},
   "outputs": [
    {
     "data": {
      "text/plain": [
       "AIMessage(content='안녕하세요! 어떻게 도와드릴까요? 인프런에 대한 질문이 있으신가요?', additional_kwargs={'refusal': None}, response_metadata={'token_usage': {'completion_tokens': 22, 'prompt_tokens': 253, 'total_tokens': 275, 'completion_tokens_details': {'accepted_prediction_tokens': 0, 'audio_tokens': 0, 'reasoning_tokens': 0, 'rejected_prediction_tokens': 0}, 'prompt_tokens_details': {'audio_tokens': 0, 'cached_tokens': 0}}, 'model_name': 'gpt-4o-mini-2024-07-18', 'system_fingerprint': 'fp_34a54ae93c', 'id': 'chatcmpl-BpBps22VwoV0z6N8nQYrikbBoz4gu', 'service_tier': 'default', 'finish_reason': 'stop', 'logprobs': None}, id='run--b3dae76d-18d8-421e-bbed-d206966e0930-0', usage_metadata={'input_tokens': 253, 'output_tokens': 22, 'total_tokens': 275, 'input_token_details': {'audio': 0, 'cache_read': 0}, 'output_token_details': {'audio': 0, 'reasoning': 0}})"
      ]
     },
     "execution_count": 16,
     "metadata": {},
     "output_type": "execute_result"
    }
   ],
   "source": [
    "rag_prompt_template = PromptTemplate(\n",
    "    template='''\n",
    "    You are a helpful assistant that can answer questions about the Inflearn website.\n",
    "    You are given the following context:\n",
    "    {context}\n",
    "    Question: {question}\n",
    "''',\n",
    "input_variables=[\"contenxt\",\"question\"]\n",
    ")\n",
    "\n",
    "rag_chain = rag_prompt_template | llm\n",
    "rag_chain.invoke({\"context\": retriever_docs, \"question\": question})"
   ]
  },
  {
   "cell_type": "code",
   "execution_count": 17,
   "id": "f7203a19",
   "metadata": {},
   "outputs": [
    {
     "name": "stderr",
     "output_type": "stream",
     "text": [
      "c:\\Users\\1\\miniconda3\\envs\\disRagEnv\\lib\\site-packages\\langsmith\\client.py:272: LangSmithMissingAPIKeyWarning: API key must be provided when using hosted LangSmith API\n",
      "  warnings.warn(\n"
     ]
    }
   ],
   "source": [
    "from langchain import hub\n",
    "prompt = hub.pull(\"rlm/rag-prompt\")"
   ]
  },
  {
   "cell_type": "code",
   "execution_count": 18,
   "id": "9f6dbd81",
   "metadata": {},
   "outputs": [
    {
     "data": {
      "text/plain": [
       "AIMessage(content='안녕하세요! 어떻게 도와드릴까요?', additional_kwargs={'refusal': None}, response_metadata={'token_usage': {'completion_tokens': 10, 'prompt_tokens': 277, 'total_tokens': 287, 'completion_tokens_details': {'accepted_prediction_tokens': 0, 'audio_tokens': 0, 'reasoning_tokens': 0, 'rejected_prediction_tokens': 0}, 'prompt_tokens_details': {'audio_tokens': 0, 'cached_tokens': 0}}, 'model_name': 'gpt-4o-mini-2024-07-18', 'system_fingerprint': 'fp_34a54ae93c', 'id': 'chatcmpl-BpBvTTRaqltYt77dEZ6A1BKf3I8Kt', 'service_tier': 'default', 'finish_reason': 'stop', 'logprobs': None}, id='run--e0af5e23-7659-48a2-b230-59b65834f72a-0', usage_metadata={'input_tokens': 277, 'output_tokens': 10, 'total_tokens': 287, 'input_token_details': {'audio': 0, 'cache_read': 0}, 'output_token_details': {'audio': 0, 'reasoning': 0}})"
      ]
     },
     "execution_count": 18,
     "metadata": {},
     "output_type": "execute_result"
    }
   ],
   "source": [
    "rag_chain = prompt | llm\n",
    "rag_chain.invoke({\"context\": retriever_docs, \"question\": question})"
   ]
  }
 ],
 "metadata": {
  "kernelspec": {
   "display_name": "disRagEnv",
   "language": "python",
   "name": "python3"
  },
  "language_info": {
   "codemirror_mode": {
    "name": "ipython",
    "version": 3
   },
   "file_extension": ".py",
   "mimetype": "text/x-python",
   "name": "python",
   "nbconvert_exporter": "python",
   "pygments_lexer": "ipython3",
   "version": "3.10.18"
  }
 },
 "nbformat": 4,
 "nbformat_minor": 5
}
