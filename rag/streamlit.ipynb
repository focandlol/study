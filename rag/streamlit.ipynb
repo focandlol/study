{
 "cells": [
  {
   "cell_type": "code",
   "execution_count": 11,
   "id": "094d6bb8",
   "metadata": {},
   "outputs": [
    {
     "name": "stdout",
     "output_type": "stream",
     "text": [
      "Note: you may need to restart the kernel to use updated packages.\n"
     ]
    }
   ],
   "source": [
    "%pip install --upgrade --quiet langchain-pinecone langchain-openai langchain pinecone-notebooks"
   ]
  },
  {
   "cell_type": "code",
   "execution_count": 12,
   "id": "2c707924",
   "metadata": {},
   "outputs": [
    {
     "name": "stdout",
     "output_type": "stream",
     "text": [
      "Requirement already satisfied: python-dotenv in c:\\users\\1\\miniconda3\\envs\\disragenv\\lib\\site-packages (1.1.1)\n",
      "Requirement already satisfied: langchain in c:\\users\\1\\miniconda3\\envs\\disragenv\\lib\\site-packages (0.3.26)\n",
      "Requirement already satisfied: langchain-openai in c:\\users\\1\\miniconda3\\envs\\disragenv\\lib\\site-packages (0.3.27)\n",
      "Requirement already satisfied: langchain-community in c:\\users\\1\\miniconda3\\envs\\disragenv\\lib\\site-packages (0.3.26)\n",
      "Requirement already satisfied: langchain-text-splitters in c:\\users\\1\\miniconda3\\envs\\disragenv\\lib\\site-packages (0.3.8)\n",
      "Requirement already satisfied: docx2txt in c:\\users\\1\\miniconda3\\envs\\disragenv\\lib\\site-packages (0.9)\n",
      "Requirement already satisfied: langchain-chroma in c:\\users\\1\\miniconda3\\envs\\disragenv\\lib\\site-packages (0.2.4)\n",
      "Requirement already satisfied: langchain-core<1.0.0,>=0.3.66 in c:\\users\\1\\miniconda3\\envs\\disragenv\\lib\\site-packages (from langchain) (0.3.66)\n",
      "Requirement already satisfied: langsmith>=0.1.17 in c:\\users\\1\\miniconda3\\envs\\disragenv\\lib\\site-packages (from langchain) (0.4.3)\n",
      "Requirement already satisfied: pydantic<3.0.0,>=2.7.4 in c:\\users\\1\\miniconda3\\envs\\disragenv\\lib\\site-packages (from langchain) (2.11.7)\n",
      "Requirement already satisfied: SQLAlchemy<3,>=1.4 in c:\\users\\1\\miniconda3\\envs\\disragenv\\lib\\site-packages (from langchain) (2.0.41)\n",
      "Requirement already satisfied: requests<3,>=2 in c:\\users\\1\\miniconda3\\envs\\disragenv\\lib\\site-packages (from langchain) (2.32.4)\n",
      "Requirement already satisfied: PyYAML>=5.3 in c:\\users\\1\\miniconda3\\envs\\disragenv\\lib\\site-packages (from langchain) (6.0.2)\n",
      "Requirement already satisfied: async-timeout<5.0.0,>=4.0.0 in c:\\users\\1\\miniconda3\\envs\\disragenv\\lib\\site-packages (from langchain) (4.0.3)\n",
      "Requirement already satisfied: tenacity!=8.4.0,<10.0.0,>=8.1.0 in c:\\users\\1\\miniconda3\\envs\\disragenv\\lib\\site-packages (from langchain-core<1.0.0,>=0.3.66->langchain) (9.1.2)\n",
      "Requirement already satisfied: jsonpatch<2.0,>=1.33 in c:\\users\\1\\miniconda3\\envs\\disragenv\\lib\\site-packages (from langchain-core<1.0.0,>=0.3.66->langchain) (1.33)\n",
      "Requirement already satisfied: packaging<25,>=23.2 in c:\\users\\1\\miniconda3\\envs\\disragenv\\lib\\site-packages (from langchain-core<1.0.0,>=0.3.66->langchain) (24.2)\n",
      "Requirement already satisfied: typing-extensions>=4.7 in c:\\users\\1\\miniconda3\\envs\\disragenv\\lib\\site-packages (from langchain-core<1.0.0,>=0.3.66->langchain) (4.14.0)\n",
      "Requirement already satisfied: jsonpointer>=1.9 in c:\\users\\1\\miniconda3\\envs\\disragenv\\lib\\site-packages (from jsonpatch<2.0,>=1.33->langchain-core<1.0.0,>=0.3.66->langchain) (3.0.0)\n",
      "Requirement already satisfied: annotated-types>=0.6.0 in c:\\users\\1\\miniconda3\\envs\\disragenv\\lib\\site-packages (from pydantic<3.0.0,>=2.7.4->langchain) (0.7.0)\n",
      "Requirement already satisfied: pydantic-core==2.33.2 in c:\\users\\1\\miniconda3\\envs\\disragenv\\lib\\site-packages (from pydantic<3.0.0,>=2.7.4->langchain) (2.33.2)\n",
      "Requirement already satisfied: typing-inspection>=0.4.0 in c:\\users\\1\\miniconda3\\envs\\disragenv\\lib\\site-packages (from pydantic<3.0.0,>=2.7.4->langchain) (0.4.1)\n",
      "Requirement already satisfied: charset_normalizer<4,>=2 in c:\\users\\1\\miniconda3\\envs\\disragenv\\lib\\site-packages (from requests<3,>=2->langchain) (3.4.2)\n",
      "Requirement already satisfied: idna<4,>=2.5 in c:\\users\\1\\miniconda3\\envs\\disragenv\\lib\\site-packages (from requests<3,>=2->langchain) (3.10)\n",
      "Requirement already satisfied: urllib3<3,>=1.21.1 in c:\\users\\1\\miniconda3\\envs\\disragenv\\lib\\site-packages (from requests<3,>=2->langchain) (2.5.0)\n",
      "Requirement already satisfied: certifi>=2017.4.17 in c:\\users\\1\\miniconda3\\envs\\disragenv\\lib\\site-packages (from requests<3,>=2->langchain) (2025.6.15)\n",
      "Requirement already satisfied: greenlet>=1 in c:\\users\\1\\miniconda3\\envs\\disragenv\\lib\\site-packages (from SQLAlchemy<3,>=1.4->langchain) (3.2.3)\n",
      "Requirement already satisfied: openai<2.0.0,>=1.86.0 in c:\\users\\1\\miniconda3\\envs\\disragenv\\lib\\site-packages (from langchain-openai) (1.92.2)\n",
      "Requirement already satisfied: tiktoken<1,>=0.7 in c:\\users\\1\\miniconda3\\envs\\disragenv\\lib\\site-packages (from langchain-openai) (0.9.0)\n",
      "Requirement already satisfied: anyio<5,>=3.5.0 in c:\\users\\1\\miniconda3\\envs\\disragenv\\lib\\site-packages (from openai<2.0.0,>=1.86.0->langchain-openai) (4.9.0)\n",
      "Requirement already satisfied: distro<2,>=1.7.0 in c:\\users\\1\\miniconda3\\envs\\disragenv\\lib\\site-packages (from openai<2.0.0,>=1.86.0->langchain-openai) (1.9.0)\n",
      "Requirement already satisfied: httpx<1,>=0.23.0 in c:\\users\\1\\miniconda3\\envs\\disragenv\\lib\\site-packages (from openai<2.0.0,>=1.86.0->langchain-openai) (0.28.1)\n",
      "Requirement already satisfied: jiter<1,>=0.4.0 in c:\\users\\1\\miniconda3\\envs\\disragenv\\lib\\site-packages (from openai<2.0.0,>=1.86.0->langchain-openai) (0.10.0)\n",
      "Requirement already satisfied: sniffio in c:\\users\\1\\miniconda3\\envs\\disragenv\\lib\\site-packages (from openai<2.0.0,>=1.86.0->langchain-openai) (1.3.1)\n",
      "Requirement already satisfied: tqdm>4 in c:\\users\\1\\miniconda3\\envs\\disragenv\\lib\\site-packages (from openai<2.0.0,>=1.86.0->langchain-openai) (4.67.1)\n",
      "Requirement already satisfied: exceptiongroup>=1.0.2 in c:\\users\\1\\miniconda3\\envs\\disragenv\\lib\\site-packages (from anyio<5,>=3.5.0->openai<2.0.0,>=1.86.0->langchain-openai) (1.3.0)\n",
      "Requirement already satisfied: httpcore==1.* in c:\\users\\1\\miniconda3\\envs\\disragenv\\lib\\site-packages (from httpx<1,>=0.23.0->openai<2.0.0,>=1.86.0->langchain-openai) (1.0.9)\n",
      "Requirement already satisfied: h11>=0.16 in c:\\users\\1\\miniconda3\\envs\\disragenv\\lib\\site-packages (from httpcore==1.*->httpx<1,>=0.23.0->openai<2.0.0,>=1.86.0->langchain-openai) (0.16.0)\n",
      "Requirement already satisfied: regex>=2022.1.18 in c:\\users\\1\\miniconda3\\envs\\disragenv\\lib\\site-packages (from tiktoken<1,>=0.7->langchain-openai) (2024.11.6)\n",
      "Requirement already satisfied: aiohttp<4.0.0,>=3.8.3 in c:\\users\\1\\miniconda3\\envs\\disragenv\\lib\\site-packages (from langchain-community) (3.12.13)\n",
      "Requirement already satisfied: dataclasses-json<0.7,>=0.5.7 in c:\\users\\1\\miniconda3\\envs\\disragenv\\lib\\site-packages (from langchain-community) (0.6.7)\n",
      "Requirement already satisfied: pydantic-settings<3.0.0,>=2.4.0 in c:\\users\\1\\miniconda3\\envs\\disragenv\\lib\\site-packages (from langchain-community) (2.10.1)\n",
      "Requirement already satisfied: httpx-sse<1.0.0,>=0.4.0 in c:\\users\\1\\miniconda3\\envs\\disragenv\\lib\\site-packages (from langchain-community) (0.4.1)\n",
      "Requirement already satisfied: numpy>=1.26.2 in c:\\users\\1\\miniconda3\\envs\\disragenv\\lib\\site-packages (from langchain-community) (2.2.6)\n",
      "Requirement already satisfied: aiohappyeyeballs>=2.5.0 in c:\\users\\1\\miniconda3\\envs\\disragenv\\lib\\site-packages (from aiohttp<4.0.0,>=3.8.3->langchain-community) (2.6.1)\n",
      "Requirement already satisfied: aiosignal>=1.1.2 in c:\\users\\1\\miniconda3\\envs\\disragenv\\lib\\site-packages (from aiohttp<4.0.0,>=3.8.3->langchain-community) (1.3.2)\n",
      "Requirement already satisfied: attrs>=17.3.0 in c:\\users\\1\\miniconda3\\envs\\disragenv\\lib\\site-packages (from aiohttp<4.0.0,>=3.8.3->langchain-community) (25.3.0)\n",
      "Requirement already satisfied: frozenlist>=1.1.1 in c:\\users\\1\\miniconda3\\envs\\disragenv\\lib\\site-packages (from aiohttp<4.0.0,>=3.8.3->langchain-community) (1.7.0)\n",
      "Requirement already satisfied: multidict<7.0,>=4.5 in c:\\users\\1\\miniconda3\\envs\\disragenv\\lib\\site-packages (from aiohttp<4.0.0,>=3.8.3->langchain-community) (6.6.1)\n",
      "Requirement already satisfied: propcache>=0.2.0 in c:\\users\\1\\miniconda3\\envs\\disragenv\\lib\\site-packages (from aiohttp<4.0.0,>=3.8.3->langchain-community) (0.3.2)\n",
      "Requirement already satisfied: yarl<2.0,>=1.17.0 in c:\\users\\1\\miniconda3\\envs\\disragenv\\lib\\site-packages (from aiohttp<4.0.0,>=3.8.3->langchain-community) (1.20.1)\n",
      "Requirement already satisfied: marshmallow<4.0.0,>=3.18.0 in c:\\users\\1\\miniconda3\\envs\\disragenv\\lib\\site-packages (from dataclasses-json<0.7,>=0.5.7->langchain-community) (3.26.1)\n",
      "Requirement already satisfied: typing-inspect<1,>=0.4.0 in c:\\users\\1\\miniconda3\\envs\\disragenv\\lib\\site-packages (from dataclasses-json<0.7,>=0.5.7->langchain-community) (0.9.0)\n",
      "Requirement already satisfied: mypy-extensions>=0.3.0 in c:\\users\\1\\miniconda3\\envs\\disragenv\\lib\\site-packages (from typing-inspect<1,>=0.4.0->dataclasses-json<0.7,>=0.5.7->langchain-community) (1.1.0)\n",
      "Requirement already satisfied: chromadb>=1.0.9 in c:\\users\\1\\miniconda3\\envs\\disragenv\\lib\\site-packages (from langchain-chroma) (1.0.13)\n",
      "Requirement already satisfied: build>=1.0.3 in c:\\users\\1\\miniconda3\\envs\\disragenv\\lib\\site-packages (from chromadb>=1.0.9->langchain-chroma) (1.2.2.post1)\n",
      "Requirement already satisfied: pybase64>=1.4.1 in c:\\users\\1\\miniconda3\\envs\\disragenv\\lib\\site-packages (from chromadb>=1.0.9->langchain-chroma) (1.4.1)\n",
      "Requirement already satisfied: uvicorn>=0.18.3 in c:\\users\\1\\miniconda3\\envs\\disragenv\\lib\\site-packages (from uvicorn[standard]>=0.18.3->chromadb>=1.0.9->langchain-chroma) (0.34.3)\n",
      "Requirement already satisfied: posthog>=2.4.0 in c:\\users\\1\\miniconda3\\envs\\disragenv\\lib\\site-packages (from chromadb>=1.0.9->langchain-chroma) (6.0.0)\n",
      "Requirement already satisfied: onnxruntime>=1.14.1 in c:\\users\\1\\miniconda3\\envs\\disragenv\\lib\\site-packages (from chromadb>=1.0.9->langchain-chroma) (1.22.0)\n",
      "Requirement already satisfied: opentelemetry-api>=1.2.0 in c:\\users\\1\\miniconda3\\envs\\disragenv\\lib\\site-packages (from chromadb>=1.0.9->langchain-chroma) (1.34.1)\n",
      "Requirement already satisfied: opentelemetry-exporter-otlp-proto-grpc>=1.2.0 in c:\\users\\1\\miniconda3\\envs\\disragenv\\lib\\site-packages (from chromadb>=1.0.9->langchain-chroma) (1.34.1)\n",
      "Requirement already satisfied: opentelemetry-sdk>=1.2.0 in c:\\users\\1\\miniconda3\\envs\\disragenv\\lib\\site-packages (from chromadb>=1.0.9->langchain-chroma) (1.34.1)\n",
      "Requirement already satisfied: tokenizers>=0.13.2 in c:\\users\\1\\miniconda3\\envs\\disragenv\\lib\\site-packages (from chromadb>=1.0.9->langchain-chroma) (0.21.2)\n",
      "Requirement already satisfied: pypika>=0.48.9 in c:\\users\\1\\miniconda3\\envs\\disragenv\\lib\\site-packages (from chromadb>=1.0.9->langchain-chroma) (0.48.9)\n",
      "Requirement already satisfied: overrides>=7.3.1 in c:\\users\\1\\miniconda3\\envs\\disragenv\\lib\\site-packages (from chromadb>=1.0.9->langchain-chroma) (7.7.0)\n",
      "Requirement already satisfied: importlib-resources in c:\\users\\1\\miniconda3\\envs\\disragenv\\lib\\site-packages (from chromadb>=1.0.9->langchain-chroma) (6.5.2)\n",
      "Requirement already satisfied: grpcio>=1.58.0 in c:\\users\\1\\miniconda3\\envs\\disragenv\\lib\\site-packages (from chromadb>=1.0.9->langchain-chroma) (1.73.1)\n",
      "Requirement already satisfied: bcrypt>=4.0.1 in c:\\users\\1\\miniconda3\\envs\\disragenv\\lib\\site-packages (from chromadb>=1.0.9->langchain-chroma) (4.3.0)\n",
      "Requirement already satisfied: typer>=0.9.0 in c:\\users\\1\\miniconda3\\envs\\disragenv\\lib\\site-packages (from chromadb>=1.0.9->langchain-chroma) (0.16.0)\n",
      "Requirement already satisfied: kubernetes>=28.1.0 in c:\\users\\1\\miniconda3\\envs\\disragenv\\lib\\site-packages (from chromadb>=1.0.9->langchain-chroma) (33.1.0)\n",
      "Requirement already satisfied: mmh3>=4.0.1 in c:\\users\\1\\miniconda3\\envs\\disragenv\\lib\\site-packages (from chromadb>=1.0.9->langchain-chroma) (5.1.0)\n",
      "Requirement already satisfied: orjson>=3.9.12 in c:\\users\\1\\miniconda3\\envs\\disragenv\\lib\\site-packages (from chromadb>=1.0.9->langchain-chroma) (3.10.18)\n",
      "Requirement already satisfied: rich>=10.11.0 in c:\\users\\1\\miniconda3\\envs\\disragenv\\lib\\site-packages (from chromadb>=1.0.9->langchain-chroma) (14.0.0)\n",
      "Requirement already satisfied: jsonschema>=4.19.0 in c:\\users\\1\\miniconda3\\envs\\disragenv\\lib\\site-packages (from chromadb>=1.0.9->langchain-chroma) (4.24.0)\n",
      "Requirement already satisfied: pyproject_hooks in c:\\users\\1\\miniconda3\\envs\\disragenv\\lib\\site-packages (from build>=1.0.3->chromadb>=1.0.9->langchain-chroma) (1.2.0)\n",
      "Requirement already satisfied: colorama in c:\\users\\1\\miniconda3\\envs\\disragenv\\lib\\site-packages (from build>=1.0.3->chromadb>=1.0.9->langchain-chroma) (0.4.6)\n",
      "Requirement already satisfied: tomli>=1.1.0 in c:\\users\\1\\miniconda3\\envs\\disragenv\\lib\\site-packages (from build>=1.0.3->chromadb>=1.0.9->langchain-chroma) (2.2.1)\n",
      "Requirement already satisfied: jsonschema-specifications>=2023.03.6 in c:\\users\\1\\miniconda3\\envs\\disragenv\\lib\\site-packages (from jsonschema>=4.19.0->chromadb>=1.0.9->langchain-chroma) (2025.4.1)\n",
      "Requirement already satisfied: referencing>=0.28.4 in c:\\users\\1\\miniconda3\\envs\\disragenv\\lib\\site-packages (from jsonschema>=4.19.0->chromadb>=1.0.9->langchain-chroma) (0.36.2)\n",
      "Requirement already satisfied: rpds-py>=0.7.1 in c:\\users\\1\\miniconda3\\envs\\disragenv\\lib\\site-packages (from jsonschema>=4.19.0->chromadb>=1.0.9->langchain-chroma) (0.25.1)\n",
      "Requirement already satisfied: six>=1.9.0 in c:\\users\\1\\miniconda3\\envs\\disragenv\\lib\\site-packages (from kubernetes>=28.1.0->chromadb>=1.0.9->langchain-chroma) (1.17.0)\n",
      "Requirement already satisfied: python-dateutil>=2.5.3 in c:\\users\\1\\miniconda3\\envs\\disragenv\\lib\\site-packages (from kubernetes>=28.1.0->chromadb>=1.0.9->langchain-chroma) (2.9.0.post0)\n",
      "Requirement already satisfied: google-auth>=1.0.1 in c:\\users\\1\\miniconda3\\envs\\disragenv\\lib\\site-packages (from kubernetes>=28.1.0->chromadb>=1.0.9->langchain-chroma) (2.40.3)\n",
      "Requirement already satisfied: websocket-client!=0.40.0,!=0.41.*,!=0.42.*,>=0.32.0 in c:\\users\\1\\miniconda3\\envs\\disragenv\\lib\\site-packages (from kubernetes>=28.1.0->chromadb>=1.0.9->langchain-chroma) (1.8.0)\n",
      "Requirement already satisfied: requests-oauthlib in c:\\users\\1\\miniconda3\\envs\\disragenv\\lib\\site-packages (from kubernetes>=28.1.0->chromadb>=1.0.9->langchain-chroma) (2.0.0)\n",
      "Requirement already satisfied: oauthlib>=3.2.2 in c:\\users\\1\\miniconda3\\envs\\disragenv\\lib\\site-packages (from kubernetes>=28.1.0->chromadb>=1.0.9->langchain-chroma) (3.3.1)\n",
      "Requirement already satisfied: durationpy>=0.7 in c:\\users\\1\\miniconda3\\envs\\disragenv\\lib\\site-packages (from kubernetes>=28.1.0->chromadb>=1.0.9->langchain-chroma) (0.10)\n",
      "Requirement already satisfied: cachetools<6.0,>=2.0.0 in c:\\users\\1\\miniconda3\\envs\\disragenv\\lib\\site-packages (from google-auth>=1.0.1->kubernetes>=28.1.0->chromadb>=1.0.9->langchain-chroma) (5.5.2)\n",
      "Requirement already satisfied: pyasn1-modules>=0.2.1 in c:\\users\\1\\miniconda3\\envs\\disragenv\\lib\\site-packages (from google-auth>=1.0.1->kubernetes>=28.1.0->chromadb>=1.0.9->langchain-chroma) (0.4.2)\n",
      "Requirement already satisfied: rsa<5,>=3.1.4 in c:\\users\\1\\miniconda3\\envs\\disragenv\\lib\\site-packages (from google-auth>=1.0.1->kubernetes>=28.1.0->chromadb>=1.0.9->langchain-chroma) (4.9.1)\n",
      "Requirement already satisfied: pyasn1>=0.1.3 in c:\\users\\1\\miniconda3\\envs\\disragenv\\lib\\site-packages (from rsa<5,>=3.1.4->google-auth>=1.0.1->kubernetes>=28.1.0->chromadb>=1.0.9->langchain-chroma) (0.6.1)\n",
      "Requirement already satisfied: requests-toolbelt<2.0.0,>=1.0.0 in c:\\users\\1\\miniconda3\\envs\\disragenv\\lib\\site-packages (from langsmith>=0.1.17->langchain) (1.0.0)\n",
      "Requirement already satisfied: zstandard<0.24.0,>=0.23.0 in c:\\users\\1\\miniconda3\\envs\\disragenv\\lib\\site-packages (from langsmith>=0.1.17->langchain) (0.23.0)\n",
      "Requirement already satisfied: coloredlogs in c:\\users\\1\\miniconda3\\envs\\disragenv\\lib\\site-packages (from onnxruntime>=1.14.1->chromadb>=1.0.9->langchain-chroma) (15.0.1)\n",
      "Requirement already satisfied: flatbuffers in c:\\users\\1\\miniconda3\\envs\\disragenv\\lib\\site-packages (from onnxruntime>=1.14.1->chromadb>=1.0.9->langchain-chroma) (25.2.10)\n",
      "Requirement already satisfied: protobuf in c:\\users\\1\\miniconda3\\envs\\disragenv\\lib\\site-packages (from onnxruntime>=1.14.1->chromadb>=1.0.9->langchain-chroma) (5.29.5)\n",
      "Requirement already satisfied: sympy in c:\\users\\1\\miniconda3\\envs\\disragenv\\lib\\site-packages (from onnxruntime>=1.14.1->chromadb>=1.0.9->langchain-chroma) (1.14.0)\n",
      "Requirement already satisfied: importlib-metadata<8.8.0,>=6.0 in c:\\users\\1\\miniconda3\\envs\\disragenv\\lib\\site-packages (from opentelemetry-api>=1.2.0->chromadb>=1.0.9->langchain-chroma) (8.7.0)\n",
      "Requirement already satisfied: zipp>=3.20 in c:\\users\\1\\miniconda3\\envs\\disragenv\\lib\\site-packages (from importlib-metadata<8.8.0,>=6.0->opentelemetry-api>=1.2.0->chromadb>=1.0.9->langchain-chroma) (3.23.0)\n",
      "Requirement already satisfied: googleapis-common-protos~=1.52 in c:\\users\\1\\miniconda3\\envs\\disragenv\\lib\\site-packages (from opentelemetry-exporter-otlp-proto-grpc>=1.2.0->chromadb>=1.0.9->langchain-chroma) (1.70.0)\n",
      "Requirement already satisfied: opentelemetry-exporter-otlp-proto-common==1.34.1 in c:\\users\\1\\miniconda3\\envs\\disragenv\\lib\\site-packages (from opentelemetry-exporter-otlp-proto-grpc>=1.2.0->chromadb>=1.0.9->langchain-chroma) (1.34.1)\n",
      "Requirement already satisfied: opentelemetry-proto==1.34.1 in c:\\users\\1\\miniconda3\\envs\\disragenv\\lib\\site-packages (from opentelemetry-exporter-otlp-proto-grpc>=1.2.0->chromadb>=1.0.9->langchain-chroma) (1.34.1)\n",
      "Requirement already satisfied: opentelemetry-semantic-conventions==0.55b1 in c:\\users\\1\\miniconda3\\envs\\disragenv\\lib\\site-packages (from opentelemetry-sdk>=1.2.0->chromadb>=1.0.9->langchain-chroma) (0.55b1)\n",
      "Requirement already satisfied: backoff>=1.10.0 in c:\\users\\1\\miniconda3\\envs\\disragenv\\lib\\site-packages (from posthog>=2.4.0->chromadb>=1.0.9->langchain-chroma) (2.2.1)\n",
      "Requirement already satisfied: markdown-it-py>=2.2.0 in c:\\users\\1\\miniconda3\\envs\\disragenv\\lib\\site-packages (from rich>=10.11.0->chromadb>=1.0.9->langchain-chroma) (3.0.0)\n",
      "Requirement already satisfied: pygments<3.0.0,>=2.13.0 in c:\\users\\1\\miniconda3\\envs\\disragenv\\lib\\site-packages (from rich>=10.11.0->chromadb>=1.0.9->langchain-chroma) (2.19.2)\n",
      "Requirement already satisfied: mdurl~=0.1 in c:\\users\\1\\miniconda3\\envs\\disragenv\\lib\\site-packages (from markdown-it-py>=2.2.0->rich>=10.11.0->chromadb>=1.0.9->langchain-chroma) (0.1.2)\n",
      "Requirement already satisfied: huggingface-hub<1.0,>=0.16.4 in c:\\users\\1\\miniconda3\\envs\\disragenv\\lib\\site-packages (from tokenizers>=0.13.2->chromadb>=1.0.9->langchain-chroma) (0.33.1)\n",
      "Requirement already satisfied: filelock in c:\\users\\1\\miniconda3\\envs\\disragenv\\lib\\site-packages (from huggingface-hub<1.0,>=0.16.4->tokenizers>=0.13.2->chromadb>=1.0.9->langchain-chroma) (3.18.0)\n",
      "Requirement already satisfied: fsspec>=2023.5.0 in c:\\users\\1\\miniconda3\\envs\\disragenv\\lib\\site-packages (from huggingface-hub<1.0,>=0.16.4->tokenizers>=0.13.2->chromadb>=1.0.9->langchain-chroma) (2025.5.1)\n",
      "Requirement already satisfied: click>=8.0.0 in c:\\users\\1\\miniconda3\\envs\\disragenv\\lib\\site-packages (from typer>=0.9.0->chromadb>=1.0.9->langchain-chroma) (8.2.1)\n",
      "Requirement already satisfied: shellingham>=1.3.0 in c:\\users\\1\\miniconda3\\envs\\disragenv\\lib\\site-packages (from typer>=0.9.0->chromadb>=1.0.9->langchain-chroma) (1.5.4)\n",
      "Requirement already satisfied: httptools>=0.6.3 in c:\\users\\1\\miniconda3\\envs\\disragenv\\lib\\site-packages (from uvicorn[standard]>=0.18.3->chromadb>=1.0.9->langchain-chroma) (0.6.4)\n",
      "Requirement already satisfied: watchfiles>=0.13 in c:\\users\\1\\miniconda3\\envs\\disragenv\\lib\\site-packages (from uvicorn[standard]>=0.18.3->chromadb>=1.0.9->langchain-chroma) (1.1.0)\n",
      "Requirement already satisfied: websockets>=10.4 in c:\\users\\1\\miniconda3\\envs\\disragenv\\lib\\site-packages (from uvicorn[standard]>=0.18.3->chromadb>=1.0.9->langchain-chroma) (15.0.1)\n",
      "Requirement already satisfied: humanfriendly>=9.1 in c:\\users\\1\\miniconda3\\envs\\disragenv\\lib\\site-packages (from coloredlogs->onnxruntime>=1.14.1->chromadb>=1.0.9->langchain-chroma) (10.0)\n",
      "Requirement already satisfied: pyreadline3 in c:\\users\\1\\miniconda3\\envs\\disragenv\\lib\\site-packages (from humanfriendly>=9.1->coloredlogs->onnxruntime>=1.14.1->chromadb>=1.0.9->langchain-chroma) (3.5.4)\n",
      "Requirement already satisfied: mpmath<1.4,>=1.1.0 in c:\\users\\1\\miniconda3\\envs\\disragenv\\lib\\site-packages (from sympy->onnxruntime>=1.14.1->chromadb>=1.0.9->langchain-chroma) (1.3.0)\n",
      "Note: you may need to restart the kernel to use updated packages.\n"
     ]
    }
   ],
   "source": [
    "\n",
    "%pip install python-dotenv langchain langchain-openai langchain-community langchain-text-splitters docx2txt langchain-chroma"
   ]
  },
  {
   "cell_type": "code",
   "execution_count": 42,
   "id": "7025b24d",
   "metadata": {},
   "outputs": [],
   "source": [
    "from langchain_community.document_loaders import Docx2txtLoader\n",
    "from langchain_text_splitters import RecursiveCharacterTextSplitter\n",
    "\n",
    "text_splitter = RecursiveCharacterTextSplitter(\n",
    "    chunk_size=1500,\n",
    "    chunk_overlap=200,\n",
    ")\n",
    "\n",
    "loader = Docx2txtLoader('./tax_docs/tax_with_markdown.docx')\n",
    "document_list = loader.load_and_split(text_splitter=text_splitter)"
   ]
  },
  {
   "cell_type": "code",
   "execution_count": 52,
   "id": "ff0a3e47",
   "metadata": {},
   "outputs": [
    {
     "data": {
      "text/plain": [
       "Document(metadata={'source': './tax_docs/tax_with_markdown.docx', 'text': '제55조(세율) ①거주자의 종합소득에 대한 소득세는 해당 연도의 종합소득과세표준에 다음의 세율을 적용하여 계산한 금액(이하 “종합소득산출세액”이라 한다)을 그 세액으로 한다. <개정 2014. 1. 1., 2016. 12. 20., 2017. 12. 19., 2020. 12. 29., 2022. 12. 31.>\\n\\n| 종합소득 과세표준          | 세율                                         |\\n\\n|-------------------|--------------------------------------------|\\n\\n| 1,400만원 이하     | 과세표준의 6퍼센트                             |\\n\\n| 1,400만원 초과     5,000만원 이하     | 84만원 + (1,400만원을 초과하는 금액의 15퍼센트)  |\\n\\n| 5,000만원 초과   8,800만원 이하     | 624만원 + (5,000만원을 초과하는 금액의 24퍼센트) |\\n\\n| 8,800만원 초과 1억5천만원 이하    | 3,706만원 + (8,800만원을 초과하는 금액의 35퍼센트)|\\n\\n| 1억5천만원 초과 3억원 이하         | 3,706만원 + (1억5천만원을 초과하는 금액의 38퍼센트)|\\n\\n| 3억원 초과    5억원 이하         | 9,406만원 + (3억원을 초과하는 금액의 38퍼센트)   |\\n\\n| 5억원 초과      10억원 이하        | 1억 7,406만원 + (5억원을 초과하는 금액의 42퍼센트)|\\n\\n| 10억원 초과        | 3억 8,406만원 + (10억원을 초과하는 금액의 45퍼센트)|\\n\\n\\n\\n\\n\\n② 거주자의 퇴직소득에 대한 소득세는 다음 각 호의 순서에 따라 계산한 금액(이하 “퇴직소득 산출세액”이라 한다)으로 한다.<개정 2013. 1. 1., 2014. 12. 23.>\\n\\n1. 해당 과세기간의 퇴직소득과세표준에 제1항의 세율을 적용하여 계산한 금액\\n\\n2. 제1호의 금액을 12로 나눈 금액에 근속연수를 곱한 금액\\n\\n3. 삭제<2014. 12. 23.>\\n\\n[전문개정 2009. 12. 31.]\\n\\n\\n\\n제2관 세액공제 <개정 2009. 12. 31.>\\n\\n\\n\\n제56조(배당세액공제) ① 거주자의 종합소득금액에 제17조제3항 각 호 외의 부분 단서가 적용되는 배당소득금액이 합산되어 있는 경우에는 같은 항 각 호 외의 부분 단서에 따라 해당 과세기간의 총수입금액에 더한 금액에 해당하는 금액을 종합소득 산출세액에서 공제한다. <개정 2009. 12. 31.>\\n\\n② 제1항에 따른 공제를 “배당세액공제”라 한다.<개정 2009. 12. 31.>\\n\\n③ 삭제<2003. 12. 30.>\\n\\n④ 제1항을 적용할 때 배당세액공제의 대상이 되는 배당소득금액은 제14조제2항의 종합소득과세표준에 포함된 배당소득금액으로서 이자소득등의 종합과세기준금액을 초과하는 것으로 한다.<개정 2009. 12. 31.>\\n\\n⑤ 삭제<2006. 12. 30.>'}, page_content='제55조(세율) ①거주자의 종합소득에 대한 소득세는 해당 연도의 종합소득과세표준에 다음의 세율을 적용하여 계산한 금액(이하 “종합소득산출세액”이라 한다)을 그 세액으로 한다. <개정 2014. 1. 1., 2016. 12. 20., 2017. 12. 19., 2020. 12. 29., 2022. 12. 31.>\\n\\n| 종합소득 과세표준          | 세율                                         |\\n\\n|-------------------|--------------------------------------------|\\n\\n| 1,400만원 이하     | 과세표준의 6퍼센트                             |\\n\\n| 1,400만원 초과     5,000만원 이하     | 84만원 + (1,400만원을 초과하는 금액의 15퍼센트)  |\\n\\n| 5,000만원 초과   8,800만원 이하     | 624만원 + (5,000만원을 초과하는 금액의 24퍼센트) |\\n\\n| 8,800만원 초과 1억5천만원 이하    | 3,706만원 + (8,800만원을 초과하는 금액의 35퍼센트)|\\n\\n| 1억5천만원 초과 3억원 이하         | 3,706만원 + (1억5천만원을 초과하는 금액의 38퍼센트)|\\n\\n| 3억원 초과    5억원 이하         | 9,406만원 + (3억원을 초과하는 금액의 38퍼센트)   |\\n\\n| 5억원 초과      10억원 이하        | 1억 7,406만원 + (5억원을 초과하는 금액의 42퍼센트)|\\n\\n| 10억원 초과        | 3억 8,406만원 + (10억원을 초과하는 금액의 45퍼센트)|\\n\\n\\n\\n\\n\\n② 거주자의 퇴직소득에 대한 소득세는 다음 각 호의 순서에 따라 계산한 금액(이하 “퇴직소득 산출세액”이라 한다)으로 한다.<개정 2013. 1. 1., 2014. 12. 23.>\\n\\n1. 해당 과세기간의 퇴직소득과세표준에 제1항의 세율을 적용하여 계산한 금액\\n\\n2. 제1호의 금액을 12로 나눈 금액에 근속연수를 곱한 금액\\n\\n3. 삭제<2014. 12. 23.>\\n\\n[전문개정 2009. 12. 31.]\\n\\n\\n\\n제2관 세액공제 <개정 2009. 12. 31.>\\n\\n\\n\\n제56조(배당세액공제) ① 거주자의 종합소득금액에 제17조제3항 각 호 외의 부분 단서가 적용되는 배당소득금액이 합산되어 있는 경우에는 같은 항 각 호 외의 부분 단서에 따라 해당 과세기간의 총수입금액에 더한 금액에 해당하는 금액을 종합소득 산출세액에서 공제한다. <개정 2009. 12. 31.>\\n\\n② 제1항에 따른 공제를 “배당세액공제”라 한다.<개정 2009. 12. 31.>\\n\\n③ 삭제<2003. 12. 30.>\\n\\n④ 제1항을 적용할 때 배당세액공제의 대상이 되는 배당소득금액은 제14조제2항의 종합소득과세표준에 포함된 배당소득금액으로서 이자소득등의 종합과세기준금액을 초과하는 것으로 한다.<개정 2009. 12. 31.>\\n\\n⑤ 삭제<2006. 12. 30.>')"
      ]
     },
     "execution_count": 52,
     "metadata": {},
     "output_type": "execute_result"
    }
   ],
   "source": [
    "document_list[52]"
   ]
  },
  {
   "cell_type": "code",
   "execution_count": 50,
   "id": "f284ad0e",
   "metadata": {},
   "outputs": [],
   "source": [
    "from dotenv import load_dotenv\n",
    "from langchain_openai import OpenAIEmbeddings\n",
    "\n",
    "# 환경변수를 불러옴\n",
    "load_dotenv()\n",
    "\n",
    "# OpenAI에서 제공하는 Embedding Model을 활용해서 `chunk`를 vector화\n",
    "embedding = OpenAIEmbeddings(model='text-embedding-3-large')"
   ]
  },
  {
   "cell_type": "code",
   "execution_count": 54,
   "id": "c51606ee",
   "metadata": {},
   "outputs": [],
   "source": [
    "import os\n",
    "from pinecone import Pinecone\n",
    "from langchain_pinecone import PineconeVectorStore\n",
    "\n",
    "index_name = 'tax-index'\n",
    "pinecone_api_key = os.getenv(\"PINECONE_API_KEY\")\n",
    "\n",
    "pc = Pinecone(api_key=pinecone_api_key)\n",
    "\n",
    "database = PineconeVectorStore.from_documents([], embedding, index_name=index_name)\n",
    "\n",
    "batch_size = 100\n",
    "\n",
    "for i in range(0, len(document_list), batch_size):\n",
    "    batch = document_list[i: i+batch_size]\n",
    "    database.add_documents(batch)"
   ]
  },
  {
   "cell_type": "code",
   "execution_count": 74,
   "id": "2c7c3dc4",
   "metadata": {},
   "outputs": [],
   "source": [
    "query = '연봉 5천만원인 직장인의 소득세는 얼마인가요?'\n",
    "# query = '연봉 5천만원의 소득세를 구체적으로 계산하고, 세율 및 공제 내용을 포함해 설명해 주세요.'\n",
    "\n",
    "# `k` 값을 조절해서 얼마나 많은 데이터를 불러올지 결정\n",
    "retrieved_docs = database.similarity_search(query)"
   ]
  },
  {
   "cell_type": "code",
   "execution_count": 67,
   "id": "01c96758",
   "metadata": {},
   "outputs": [
    {
     "data": {
      "text/plain": [
       "[Document(id='476d142c-d6c5-42cf-a9e2-db7105642ebc', metadata={'source': './tax_docs/tax_with_markdown.docx'}, page_content='제55조(세율) ①거주자의 종합소득에 대한 소득세는 해당 연도의 종합소득과세표준에 다음의 세율을 적용하여 계산한 금액(이하 “종합소득산출세액”이라 한다)을 그 세액으로 한다. <개정 2014. 1. 1., 2016. 12. 20., 2017. 12. 19., 2020. 12. 29., 2022. 12. 31.>\\n\\n| 종합소득 과세표준          | 세율                                         |\\n\\n|-------------------|--------------------------------------------|\\n\\n| 1,400만원 이하     | 과세표준의 6퍼센트                             |\\n\\n| 1,400만원 초과     5,000만원 이하     | 84만원 + (1,400만원을 초과하는 금액의 15퍼센트)  |\\n\\n| 5,000만원 초과   8,800만원 이하     | 624만원 + (5,000만원을 초과하는 금액의 24퍼센트) |\\n\\n| 8,800만원 초과 1억5천만원 이하    | 3,706만원 + (8,800만원을 초과하는 금액의 35퍼센트)|\\n\\n| 1억5천만원 초과 3억원 이하         | 3,706만원 + (1억5천만원을 초과하는 금액의 38퍼센트)|\\n\\n| 3억원 초과    5억원 이하         | 9,406만원 + (3억원을 초과하는 금액의 38퍼센트)   |\\n\\n| 5억원 초과      10억원 이하        | 1억 7,406만원 + (5억원을 초과하는 금액의 42퍼센트)|\\n\\n| 10억원 초과        | 3억 8,406만원 + (10억원을 초과하는 금액의 45퍼센트)|\\n\\n\\n\\n\\n\\n② 거주자의 퇴직소득에 대한 소득세는 다음 각 호의 순서에 따라 계산한 금액(이하 “퇴직소득 산출세액”이라 한다)으로 한다.<개정 2013. 1. 1., 2014. 12. 23.>\\n\\n1. 해당 과세기간의 퇴직소득과세표준에 제1항의 세율을 적용하여 계산한 금액\\n\\n2. 제1호의 금액을 12로 나눈 금액에 근속연수를 곱한 금액\\n\\n3. 삭제<2014. 12. 23.>\\n\\n[전문개정 2009. 12. 31.]\\n\\n\\n\\n제2관 세액공제 <개정 2009. 12. 31.>\\n\\n\\n\\n제56조(배당세액공제) ① 거주자의 종합소득금액에 제17조제3항 각 호 외의 부분 단서가 적용되는 배당소득금액이 합산되어 있는 경우에는 같은 항 각 호 외의 부분 단서에 따라 해당 과세기간의 총수입금액에 더한 금액에 해당하는 금액을 종합소득 산출세액에서 공제한다. <개정 2009. 12. 31.>\\n\\n② 제1항에 따른 공제를 “배당세액공제”라 한다.<개정 2009. 12. 31.>\\n\\n③ 삭제<2003. 12. 30.>\\n\\n④ 제1항을 적용할 때 배당세액공제의 대상이 되는 배당소득금액은 제14조제2항의 종합소득과세표준에 포함된 배당소득금액으로서 이자소득등의 종합과세기준금액을 초과하는 것으로 한다.<개정 2009. 12. 31.>\\n\\n⑤ 삭제<2006. 12. 30.>'),\n",
       " Document(id='999b71a2-5907-4404-bfa6-b6c7afd731c7', metadata={'source': './tax_docs/tax_with_markdown.docx'}, page_content='1. 「공익신탁법」에 따른 공익신탁의 이익\\n\\n2. 사업소득 중 다음 각 목의 어느 하나에 해당하는 소득\\n\\n가. 논ㆍ밭을 작물 생산에 이용하게 함으로써 발생하는 소득\\n\\n나. 1개의 주택을 소유하는 자의 주택임대소득(제99조에 따른 기준시가가 12억원을 초과하는 주택 및 국외에 소재하는 주택의 임대소득은 제외한다) 또는 해당 과세기간에 대통령령으로 정하는 총수입금액의 합계액이 2천만원 이하인 자의 주택임대소득(2018년 12월 31일 이전에 끝나는 과세기간까지 발생하는 소득으로 한정한다). 이 경우 주택 수의 계산 및 주택임대소득의 산정 등 필요한 사항은 대통령령으로 정한다.\\n\\n다. 대통령령으로 정하는 농어가부업소득\\n\\n라. 대통령령으로 정하는 전통주의 제조에서 발생하는 소득\\n\\n마. 조림기간 5년 이상인 임지(林地)의 임목(林木)의 벌채 또는 양도로 발생하는 소득으로서 연 600만원 이하의 금액. 이 경우 조림기간 및 세액의 계산 등 필요한 사항은 대통령령으로 정한다.\\n\\n바. 대통령령으로 정하는 작물재배업에서 발생하는 소득\\n\\n사. 대통령령으로 정하는 어로어업 또는 양식어업에서 발생하는 소득\\n\\n3. 근로소득과 퇴직소득 중 다음 각 목의 어느 하나에 해당하는 소득\\n\\n가. 대통령령으로 정하는 복무 중인 병(兵)이 받는 급여\\n\\n나. 법률에 따라 동원된 사람이 그 동원 직장에서 받는 급여\\n\\n다. 「산업재해보상보험법」에 따라 수급권자가 받는 요양급여, 휴업급여, 장해급여, 간병급여, 유족급여, 유족특별급여, 장해특별급여, 장의비 또는 근로의 제공으로 인한 부상ㆍ질병ㆍ사망과 관련하여 근로자나 그 유족이 받는 배상ㆍ보상 또는 위자(慰藉)의 성질이 있는 급여\\n\\n라. 「근로기준법」 또는 「선원법」에 따라 근로자ㆍ선원 및 그 유족이 받는 요양보상금, 휴업보상금, 상병보상금(傷病補償金), 일시보상금, 장해보상금, 유족보상금, 행방불명보상금, 소지품 유실보상금, 장의비 및 장제비\\n\\n마. 「고용보험법」에 따라 받는 실업급여, 육아휴직 급여, 육아기 근로시간 단축 급여, 출산전후휴가 급여등, 「제대군인 지원에 관한 법률」에 따라 받는 전직지원금, 「국가공무원법」ㆍ「지방공무원법」에 따른 공무원 또는 「사립학교교직원 연금법」ㆍ「별정우체국법」을 적용받는 사람이 관련 법령에 따라 받는 육아휴직수당(「사립학교법」 제70조의2에 따라 임명된 사무직원이 학교의 정관 또는 규칙에 따라 지급받는 육아휴직수당으로서 대통령령으로 정하는 금액 이하의 것을 포함한다)\\n\\n바. 「국민연금법」에 따라 받는 반환일시금(사망으로 받는 것만 해당한다) 및 사망일시금'),\n",
       " Document(id='74290262-6cd4-4235-8524-d43c82a15a36', metadata={'source': './tax_docs/tax_with_markdown.docx'}, page_content='1. 제94조제1항제1호ㆍ제2호 및 제4호에 따른 소득\\n\\n2. 삭제<2020. 12. 29.>\\n\\n3. 삭제<2020. 12. 29.>\\n\\n4. 제94조제1항제6호에 따른 소득\\n\\n② 제1항에 따라 양도소득금액을 계산할 때 양도차손이 발생한 자산이 있는 경우에는 제1항 각 호별로 해당 자산 외의 다른 자산에서 발생한 양도소득금액에서 그 양도차손을 공제한다. 이 경우 공제방법은 양도소득금액의 세율 등을 고려하여 대통령령으로 정한다.\\n\\n[전문개정 2009. 12. 31.]\\n\\n[시행일: 2025. 1. 1.]  제102조제1항제2호, 제102조제1항제3호\\n\\n\\n\\n제5절 양도소득 기본공제 <개정 2009. 12. 31.>\\n\\n\\n\\n제103조(양도소득 기본공제) ① 양도소득이 있는 거주자에 대해서는 다음 각 호의 소득별로 해당 과세기간의 양도소득금액에서 각각 연 250만원을 공제한다. <개정 2014. 12. 23., 2020. 12. 29.>\\n\\n1. 제94조제1항제1호ㆍ제2호 및 제4호에 따른 소득. 다만, 제104조제3항에 따른 미등기양도자산의 양도소득금액에 대해서는 그러하지 아니하다.\\n\\n2. 제94조제1항제3호에 따른 소득\\n\\n3. 제94조제1항제5호에 따른 소득\\n\\n4. 제94조제1항제6호에 따른 소득\\n\\n② 제1항을 적용할 때 제95조에 따른 양도소득금액에 이 법 또는 「조세특례제한법」이나 그 밖의 법률에 따른 감면소득금액이 있는 경우에는 그 감면소득금액 외의 양도소득금액에서 먼저 공제하고, 감면소득금액 외의 양도소득금액 중에서는 해당 과세기간에 먼저 양도한 자산의 양도소득금액에서부터 순서대로 공제한다.\\n\\n③ 제1항에 따른 공제를 “양도소득 기본공제”라 한다.\\n\\n[전문개정 2009. 12. 31.]\\n\\n\\n\\n제103조(양도소득 기본공제) ① 양도소득이 있는 거주자에 대해서는 다음 각 호의 소득별로 해당 과세기간의 양도소득금액에서 각각 연 250만원을 공제한다. <개정 2014. 12. 23., 2020. 12. 29.>\\n\\n1. 제94조제1항제1호ㆍ제2호 및 제4호에 따른 소득. 다만, 제104조제3항에 따른 미등기양도자산의 양도소득금액에 대해서는 그러하지 아니하다.\\n\\n2. 삭제<2020. 12. 29.>\\n\\n3. 삭제<2020. 12. 29.>\\n\\n4. 제94조제1항제6호에 따른 소득\\n\\n② 제1항을 적용할 때 제95조에 따른 양도소득금액에 이 법 또는 「조세특례제한법」이나 그 밖의 법률에 따른 감면소득금액이 있는 경우에는 그 감면소득금액 외의 양도소득금액에서 먼저 공제하고, 감면소득금액 외의 양도소득금액 중에서는 해당 과세기간에 먼저 양도한 자산의 양도소득금액에서부터 순서대로 공제한다.\\n\\n③ 제1항에 따른 공제를 “양도소득 기본공제”라 한다.\\n\\n[전문개정 2009. 12. 31.]\\n\\n[시행일: 2025. 1. 1.]  제103조제1항제2호, 제103조제1항제3호\\n\\n\\n\\n제6절 양도소득에 대한 세액의 계산 <개정 2009. 12. 31.>'),\n",
       " Document(id='be18e9ec-3d79-496f-ba8d-f768740a1606', metadata={'source': './tax_docs/tax_with_markdown.docx'}, page_content='나. 그 밖의 배당소득에 대해서는 100분의 14\\n\\n3. 원천징수대상 사업소득에 대해서는 100분의 3. 다만, 외국인 직업운동가가 한국표준산업분류에 따른 스포츠 클럽 운영업 중 프로스포츠구단과의 계약(계약기간이 3년 이하인 경우로 한정한다)에 따라 용역을 제공하고 받는 소득에 대해서는 100분의 20으로 한다.\\n\\n4. 근로소득에 대해서는 기본세율. 다만, 일용근로자의 근로소득에 대해서는 100분의 6으로 한다.\\n\\n5. 공적연금소득에 대해서는 기본세율\\n\\n5의2.제20조의3제1항제2호나목 및 다목에 따른 연금계좌 납입액이나 운용실적에 따라 증가된 금액을 연금수령한 연금소득에 대해서는 다음 각 목의 구분에 따른 세율. 이 경우 각 목의 요건을 동시에 충족하는 때에는 낮은 세율을 적용한다.\\n\\n가. 연금소득자의 나이에 따른 다음의 세율\\n\\n\\n\\n나. 삭제<2014. 12. 23.>\\n\\n다. 사망할 때까지 연금수령하는 대통령령으로 정하는 종신계약에 따라 받는 연금소득에 대해서는 100분의 4\\n\\n5의3. 제20조의3제1항제2호가목에 따라 퇴직소득을 연금수령하는 연금소득에 대해서는 다음 각 목의 구분에 따른 세율. 이 경우 연금 실제 수령연차 및 연금외수령 원천징수세율의 구체적인 내용은 대통령령으로 정한다.\\n\\n가. 연금 실제 수령연차가 10년 이하인 경우: 연금외수령 원천징수세율의 100분의 70\\n\\n나. 연금 실제 수령연차가 10년을 초과하는 경우: 연금외수령 원천징수세율의 100분의 60\\n\\n6. 기타소득에 대해서는 다음에 규정하는 세율. 다만, 제8호를 적용받는 경우는 제외한다.\\n\\n가. 제14조제3항제8호라목 및 마목에 해당하는 소득금액이 3억원을 초과하는 경우 그 초과하는 분에 대해서는 100분의 30\\n\\n나. 제21조제1항제18호 및 제21호에 따른 기타소득에 대해서는 100분의 15\\n\\n다. 삭제<2014. 12. 23.>\\n\\n라. 그 밖의 기타소득에 대해서는 100분의 20\\n\\n7. 퇴직소득에 대해서는 기본세율\\n\\n8. 대통령령으로 정하는 봉사료에 대해서는 100분의 5\\n\\n9. 대통령령으로 정하는 금융투자소득에 대해서는 100분의 20\\n\\n② 제1항에도 불구하고 다음 각 호의 이자소득 및 배당소득에 대해서는 다음 각 호에서 정하는 세율을 원천징수세율로 한다.<개정 2013. 1. 1., 2017. 12. 19., 2018. 12. 31., 2022. 12. 31.>\\n\\n1. 「민사집행법」 제113조 및 같은 법 제142조에 따라 법원에 납부한 보증금 및 경락대금에서 발생하는 이자소득에 대해서는 100분의 14\\n\\n2. 대통령령으로 정하는 실지명의가 확인되지 아니하는 소득에 대해서는 100분의 45. 다만, 「금융실명거래 및 비밀보장에 관한 법률」 제5조가 적용되는 경우에는 같은 조에서 정한 세율로 한다.')]"
      ]
     },
     "execution_count": 67,
     "metadata": {},
     "output_type": "execute_result"
    }
   ],
   "source": [
    "retrieved_docs"
   ]
  },
  {
   "cell_type": "code",
   "execution_count": 65,
   "id": "c3468974",
   "metadata": {},
   "outputs": [],
   "source": [
    "from langchain_openai import ChatOpenAI\n",
    "\n",
    "llm = ChatOpenAI(model='gpt-4o')"
   ]
  },
  {
   "cell_type": "code",
   "execution_count": 66,
   "id": "6ad8ac0d",
   "metadata": {},
   "outputs": [
    {
     "name": "stderr",
     "output_type": "stream",
     "text": [
      "c:\\Users\\1\\miniconda3\\envs\\disRagEnv\\lib\\site-packages\\langsmith\\client.py:272: LangSmithMissingAPIKeyWarning: API key must be provided when using hosted LangSmith API\n",
      "  warnings.warn(\n"
     ]
    }
   ],
   "source": [
    "from langchain import hub\n",
    "\n",
    "prompt = hub.pull(\"rlm/rag-prompt\")"
   ]
  },
  {
   "cell_type": "code",
   "execution_count": 68,
   "id": "a7289def",
   "metadata": {},
   "outputs": [],
   "source": [
    "from langchain.chains import RetrievalQA\n",
    "retriever = database.as_retriever()\n",
    "qa_chain = RetrievalQA.from_chain_type(\n",
    "    llm, \n",
    "    retriever=retriever,\n",
    "    chain_type_kwargs={\"prompt\": prompt}\n",
    ")"
   ]
  },
  {
   "cell_type": "code",
   "execution_count": null,
   "id": "e2658bcb",
   "metadata": {},
   "outputs": [
    {
     "data": {
      "text/plain": [
       "[Document(id='46d52f4b-8dff-4f8d-b1c1-a50445f0ef99', metadata={'source': './tax_docs/tax_with_markdown.docx'}, page_content='2. 조정대상지역에 있는 주택으로서 1세대가 1주택과 조합원입주권 또는 분양권을 1개 보유한 경우의 해당 주택. 다만, 대통령령으로 정하는 장기임대주택 등은 제외한다.\\n\\n3. 조정대상지역에 있는 주택으로서 대통령령으로 정하는 1세대 3주택 이상에 해당하는 주택\\n\\n4. 조정대상지역에 있는 주택으로서 1세대가 주택과 조합원입주권 또는 분양권을 보유한 경우로서 그 수의 합이 3 이상인 경우 해당 주택. 다만, 대통령령으로 정하는 장기임대주택 등은 제외한다.\\n\\n⑧ 그 밖에 양도소득 산출세액의 계산에 필요한 사항은 대통령령으로 정한다.<개정 2014. 12. 23., 2016. 12. 20., 2017. 12. 19.>\\n\\n[전문개정 2009. 12. 31.]\\n\\n\\n\\n제104조(양도소득세의 세율) ① 거주자의 양도소득세는 해당 과세기간의 양도소득과세표준에 다음 각 호의 세율을 적용하여 계산한 금액(이하 “양도소득 산출세액”이라 한다)을 그 세액으로 한다. 이 경우 하나의 자산이 다음 각 호에 따른 세율 중 둘 이상에 해당할 때에는 해당 세율을 적용하여 계산한 양도소득 산출세액 중 큰 것을 그 세액으로 한다. <개정 2010. 12. 27., 2014. 1. 1., 2014. 12. 23., 2015. 12. 15., 2016. 12. 20., 2017. 12. 19., 2018. 12. 31., 2019. 12. 31., 2020. 8. 18., 2020. 12. 29., 2022. 12. 31.>\\n\\n1. 제94조제1항제1호ㆍ제2호 및 제4호에 따른 자산\\n\\n\\u3000제55조제1항에 따른 세율(분양권의 경우에는 양도소득 과세표준의 100분의 60)\\n\\n2. 제94조제1항제1호 및 제2호에서 규정하는 자산으로서 그 보유기간이 1년 이상 2년 미만인 것\\n\\n\\u3000양도소득 과세표준의 100분의 40[주택(이에 딸린 토지로서 대통령령으로 정하는 토지를 포함한다. 이하 이 항에서 같다), 조합원입주권 및 분양권의 경우에는 100분의 60]\\n\\n3. 제94조제1항제1호 및 제2호에 따른 자산으로서 그 보유기간이 1년 미만인 것\\n\\n\\u3000양도소득 과세표준의 100분의 50(주택, 조합원입주권 및 분양권의 경우에는 100분의 70)\\n\\n4. 삭제<2020. 8. 18.>\\n\\n5. 삭제<2014. 1. 1.>\\n\\n6. 삭제<2014. 1. 1.>\\n\\n7. 삭제<2014. 1. 1.>\\n\\n8. 제104조의3에 따른 비사업용 토지\\n\\n\\n\\n9. 제94조제1항제4호다목 및 라목에 따른 자산 중 제104조의3에 따른 비사업용 토지의 보유 현황을 고려하여 대통령령으로 정하는 자산\\n\\n\\n\\n10. 미등기양도자산\\n\\n\\u3000\\u3000양도소득 과세표준의 100분의 70\\n\\n11. 삭제<2020. 12. 29.>\\n\\n12. 삭제<2020. 12. 29.>\\n\\n13. 삭제<2020. 12. 29.>\\n\\n14. 제94조제1항제6호에 따른 신탁 수익권'),\n",
       " Document(id='3098b18b-0297-4ef7-8117-c540ee4c8c90', metadata={'source': './tax_docs/tax_with_markdown.docx'}, page_content='④ 대통령령으로 정하는 사유로 장부나 그 밖의 증명서류에 의하여 금융투자소득을 인정 또는 확인할 수 없는 경우에는 대통령령으로 정하는 바에 따라 매매사례가액, 환산취득가액(실지거래가액ㆍ매매사례가액 또는 대통령령으로 정하는 방법에 따라 환산한 가액을 말한다) 또는 기준시가 등에 따라 추계조사하여 결정 또는 경정할 수 있다.\\n\\n⑤ 납세지 관할 세무서장 또는 지방국세청장은 제1항부터 제4항까지의 규정에 따라 거주자의 금융투자소득과세표준과 세액을 결정 또는 경정하였을 때에는 이를 그 거주자에게 대통령령으로 정하는 바에 따라 알려야 한다.\\n\\n⑥ 납세지 관할 세무서장 또는 지방국세청장은 금융투자소득에 대한 신고 내용의 탈루 또는 오류, 그 밖에 거래명세의 적정성을 확인할 필요가 있는 경우에는 「금융실명거래 및 비밀보장에 관한 법률」 등 다른 법률의 규정에도 불구하고 대통령령으로 정하는 바에 따라 「자본시장과 금융투자업에 관한 법률」 제8조제2항 또는 제3항에 따른 투자매매업자 또는 투자중개업자 및 같은 법 제3조에 따른 금융투자상품을 발행한 법인에 이를 조회할 수 있다.\\n\\n[본조신설 2020. 12. 29.]\\n\\n[시행일: 2025. 1. 1.]  제87조의25\\n\\n\\n\\n제87조의26(금융투자소득세액의 징수ㆍ환급) ① 납세지 관할 세무서장은 제87조의22 및 제87조의24에 따라 금융투자소득세를 납부하여야 할 자가 그 세액의 전부 또는 일부를 납부하지 아니한 경우에는 그 미납된 금융투자소득세액을 「국세징수법」에 따라 징수한다.\\n\\n② 납세지 관할 세무서장은 제1항에 따라 징수하거나 납부된 거주자의 해당 과세기간 소득세액이 제87조의25에 따라 납세지 관할 세무서장 또는 지방국세청장이 결정 또는 경정한 소득세액에 미달할 때에는 그 미달하는 세액을 징수한다.\\n\\n③ 납세지 관할 세무서장은 원천징수의무자가 징수하였거나 징수하여야 할 세액을 그 기한까지 납부하지 아니하였거나 미달하게 납부한 경우에는 그 징수하여야 할 세액에 「국세기본법」 제47조의5제1항에 따른 가산세액을 더한 금액을 그 세액으로 하여 그 원천징수의무자로부터 징수하여야 한다. 다만, 원천징수의무자가 원천징수를 하지 아니한 경우로서 다음 각 호의 어느 하나에 해당하는 경우에는 「국세기본법」 제47조의5제1항에 따른 가산세액만을 징수한다.\\n\\n1. 납세의무자가 신고ㆍ납부한 과세표준금액에 원천징수하지 아니한 원천징수대상 소득금액이 이미 산입된 경우\\n\\n2. 원천징수하지 아니한 원천징수대상 소득금액에 대해서 납세의무자의 관할 세무서장이 제87조의25에 따라 그 납세의무자에게 직접 소득세를 부과ㆍ징수하는 경우\\n\\n④ 납세지 관할 세무서장은 과세기간별로 다음 각 호의 세액의 합계액이 금융투자소득 총결정세액을 초과할 때에는 그 초과하는 세액을 환급하거나 다른 국세 및 강제징수비에 충당하여야 한다.\\n\\n1. 제87조의22에 따른 예정신고납부세액과 제87조의24에 따른 확정신고납부세액\\n\\n2. 제1항에 따라 징수하는 세액\\n\\n3. 제82조 및 제87조의27에 따른 수시부과세액\\n\\n4. 제127조에 따라 원천징수한 세액'),\n",
       " Document(id='ad8db97c-e02d-4adf-86a8-5d82aef44919', metadata={'source': './tax_docs/tax_with_markdown.docx'}, page_content='③ 거주자의 부양가족 중 거주자(그 배우자를 포함한다)의 직계존속이 주거 형편에 따라 별거하고 있는 경우에는 제1항에도 불구하고 제50조에서 규정하는 생계를 같이 하는 사람으로 본다.\\n\\n④ 제50조, 제51조 및 제59조의2에 따른 공제대상 배우자, 공제대상 부양가족, 공제대상 장애인 또는 공제대상 경로우대자에 해당하는지 여부의 판정은 해당 과세기간의 과세기간 종료일 현재의 상황에 따른다. 다만, 과세기간 종료일 전에 사망한 사람 또는 장애가 치유된 사람에 대해서는 사망일 전날 또는 치유일 전날의 상황에 따른다.<개정 2014. 1. 1.>\\n\\n⑤ 제50조제1항제3호 및 제59조의2에 따라 적용대상 나이가 정해진 경우에는 제4항 본문에도 불구하고 해당 과세기간의 과세기간 중에 해당 나이에 해당되는 날이 있는 경우에 공제대상자로 본다.<개정 2014. 1. 1.>\\n\\n[전문개정 2009. 12. 31.]\\n\\n\\n\\n제54조(종합소득공제 등의 배제) ① 분리과세이자소득, 분리과세배당소득, 분리과세연금소득과 분리과세기타소득만이 있는 자에 대해서는 종합소득공제를 적용하지 아니한다. <개정 2013. 1. 1.>\\n\\n② 제70조제1항, 제70조의2제2항 또는 제74조에 따라 과세표준확정신고를 하여야 할 자가 제70조제4항제1호에 따른 서류를 제출하지 아니한 경우에는 기본공제 중 거주자 본인에 대한 분(分)과 제59조의4제9항에 따른 표준세액공제만을 공제한다. 다만, 과세표준확정신고 여부와 관계없이 그 서류를 나중에 제출한 경우에는 그러하지 아니하다.<개정 2013. 1. 1., 2014. 1. 1.>\\n\\n③ 제82조에 따른 수시부과 결정의 경우에는 기본공제 중 거주자 본인에 대한 분(分)만을 공제한다.\\n\\n[전문개정 2009. 12. 31.]\\n\\n[제목개정 2014. 1. 1.]\\n\\n\\n\\n제54조의2(공동사업에 대한 소득공제 등 특례) 제51조의3 또는 「조세특례제한법」에 따른 소득공제를 적용하거나 제59조의3에 따른 세액공제를 적용하는 경우 제43조제3항에 따라 소득금액이 주된 공동사업자의 소득금액에 합산과세되는 특수관계인이 지출ㆍ납입ㆍ투자ㆍ출자 등을 한 금액이 있으면 주된 공동사업자의 소득에 합산과세되는 소득금액의 한도에서 주된 공동사업자가 지출ㆍ납입ㆍ투자ㆍ출자 등을 한 금액으로 보아 주된 공동사업자의 합산과세되는 종합소득금액 또는 종합소득산출세액을 계산할 때에 소득공제 또는 세액공제를 받을 수 있다. <개정 2012. 1. 1., 2014. 1. 1.>\\n\\n[전문개정 2009. 12. 31.]\\n\\n[제목개정 2014. 1. 1.]\\n\\n\\n\\n제4절 세액의 계산 <개정 2009. 12. 31.>\\n\\n\\n\\n제1관 세율 <개정 2009. 12. 31.>\\n\\n\\n\\n제55조(세율) ①거주자의 종합소득에 대한 소득세는 해당 연도의 종합소득과세표준에 다음의 세율을 적용하여 계산한 금액(이하 “종합소득산출세액”이라 한다)을 그 세액으로 한다. <개정 2014. 1. 1., 2016. 12. 20., 2017. 12. 19., 2020. 12. 29., 2022. 12. 31.>'),\n",
       " Document(id='c04ff222-dd87-4c9d-ad62-34575858a557', metadata={'source': './tax_docs/tax_with_markdown.docx'}, page_content='⑤ 주식등, 채권등 및 투자계약증권의 평가방법 등 필요경비 계산에 필요한 사항은 대통령령으로 정한다.\\n\\n[본조신설 2020. 12. 29.]\\n\\n[시행일: 2025. 1. 1.]  제87조의12\\n\\n\\n\\n제87조의13(주식등ㆍ채권등ㆍ투자계약증권소득금액 필요경비 계산 특례) ① 거주자가 양도일부터 소급하여 1년 이내에 그 배우자(양도 당시 혼인관계가 소멸된 경우를 포함하되, 사망으로 혼인관계가 소멸된 경우는 제외한다. 이하 이 항에서 같다)로부터 증여받은 주식등ㆍ채권등ㆍ투자계약증권에 대한 주식등ㆍ채권등ㆍ투자계약증권양도소득금액을 계산할 때 주식등ㆍ채권등ㆍ투자계약증권양도가액에서 공제할 필요경비는 그 배우자의 취득 당시 제87조의12제1항제1호, 같은 조 제2항 및 제3항에 따른 금액으로 한다. 이 경우 거주자가 증여받은 주식등ㆍ채권등ㆍ투자계약증권에 대하여 납부하였거나 납부할 증여세 상당액이 있는 경우에는 필요경비에 산입한다.\\n\\n② 제1항을 적용하여 계산한 주식등ㆍ채권등ㆍ투자계약증권소득금액이 제1항을 적용하지 아니하고 계산한 주식등ㆍ채권등ㆍ투자계약증권소득금액보다 적은 경우에는 제1항을 적용하지 아니한다.\\n\\n③ 「상속세 및 증여세법」 제18조의2제1항에 따른 공제(이하 이 항에서 “가업상속공제”라 한다)가 적용된 주식등소득금액을 계산할 때 주식등양도가액에서 공제할 필요경비는 제87조의12제1항 및 제3항에 따른다. 다만, 취득가액은 다음 각 호의 금액을 합한 금액으로 한다.<개정 2022. 12. 31.>\\n\\n1. 피상속인의 취득가액(제87조의12제1항제1호에 따른 금액) × 해당 자산가액 중 가업상속공제가 적용된 비율(이하 이 조에서 “가업상속공제적용률”이라 한다)\\n\\n2. 상속개시일 현재 해당 자산가액 × (1 - 가업상속공제적용률)\\n\\n④ 제1항부터 제3항까지의 규정을 적용할 때 증여세 상당액의 계산과 가업상속공제적용률의 계산방법 등 필요경비의 계산에 필요한 사항은 제97조의2를 준용한다.\\n\\n[본조신설 2020. 12. 29.]\\n\\n[시행일: 2025. 1. 1.]  제87조의13\\n\\n\\n\\n제87조의14(집합투자기구소득금액) ① 집합투자기구소득금액은 제2항에 따른 집합투자증권 양도소득금액으로 한다. <개정 2022. 12. 31.>\\n\\n② 집합투자증권 양도소득금액(제87조의6제1항제4호에 따른 집합투자증권의 환매등으로 발생한 이익의 금액을 말한다)은 환매등에 따라 지급받은 금액, 집합투자증권 취득 시의 기준가격(「자본시장과 금융투자업에 관한 법률」 제238조제6항에 따른 기준가격을 말한다. 이하 이 장에서 같다)과 직전 결산분배 직후 기준가격 등을 고려하여 대통령령으로 정한 금액으로 한다.\\n\\n③ 삭제<2022. 12. 31.>\\n\\n④ 집합투자기구소득금액의 구체적인 계산방법과 그 밖에 필요한 사항은 대통령령으로 정한다.\\n\\n[본조신설 2020. 12. 29.]\\n\\n[시행일: 2025. 1. 1.]  제87조의14')]"
      ]
     },
     "execution_count": 63,
     "metadata": {},
     "output_type": "execute_result"
    }
   ],
   "source": [
    "retriever.invoke(query)"
   ]
  },
  {
   "cell_type": "code",
   "execution_count": 69,
   "id": "7e8f5410",
   "metadata": {},
   "outputs": [],
   "source": [
    "ai_message = qa_chain({\"query\": query})"
   ]
  },
  {
   "cell_type": "code",
   "execution_count": 70,
   "id": "0baec393",
   "metadata": {},
   "outputs": [
    {
     "data": {
      "text/plain": [
       "{'query': '연봉 5천만원의 소득세를 구체적으로 계산하고, 세율 및 공제 내용을 포함해 설명해 주세요.',\n",
       " 'result': '연봉 5천만원의 경우, 소득세는 과세표준 구간 1,400만원 초과 5,000만원 이하에 해당합니다. 따라서 세액은 기본 84만원에다가, 1,400만원을 초과하는 금액인 3,600만원(5,000만원 - 1,400만원)의 15%를 더하게 됩니다. 계산하면 총 소득세는 84만원 + 540만원(3,600만원 x 15%) = 624만원입니다.'}"
      ]
     },
     "execution_count": 70,
     "metadata": {},
     "output_type": "execute_result"
    }
   ],
   "source": [
    "ai_message"
   ]
  },
  {
   "cell_type": "code",
   "execution_count": 81,
   "id": "429c4f9c",
   "metadata": {},
   "outputs": [],
   "source": [
    "from langchain_core.output_parsers import StrOutputParser\n",
    "from langchain_core.prompts import ChatPromptTemplate\n",
    "\n",
    "dictionary = [\"사람을 나타내는 표현 -> 거주자\"]\n",
    "prompt = ChatPromptTemplate.from_template(f\"\"\"\n",
    "    사용자의 질문을 보고, 우리의 사전을 참고해서 사용자의 질문을 변경해주세요.\n",
    "    만약 변경할 필요가 없다고 판단된다면, 사용자의 질문을 변경하지 않아도 됩니다.\n",
    "    그런 경우에는 질문만 리턴해주세요.\n",
    "    사전 : {dictionary}\n",
    "\n",
    "    질문 : {{question}}                           \n",
    "\"\"\")\n",
    "\n",
    "dictionary_chain = prompt | llm | StrOutputParser()"
   ]
  },
  {
   "cell_type": "code",
   "execution_count": 76,
   "id": "e594ebf7",
   "metadata": {},
   "outputs": [],
   "source": [
    "new_question = dictionary_chain.invoke({\"question\": query})"
   ]
  },
  {
   "cell_type": "code",
   "execution_count": 77,
   "id": "96424364",
   "metadata": {},
   "outputs": [
    {
     "data": {
      "text/plain": [
       "'질문 : 연봉 5천만원인 거주자의 소득세는 얼마인가요?'"
      ]
     },
     "execution_count": 77,
     "metadata": {},
     "output_type": "execute_result"
    }
   ],
   "source": [
    "new_question"
   ]
  },
  {
   "cell_type": "code",
   "execution_count": 78,
   "id": "2d5fc4ab",
   "metadata": {},
   "outputs": [],
   "source": [
    "tax_chain = {\"query\": dictionary_chain} | qa_chain"
   ]
  },
  {
   "cell_type": "code",
   "execution_count": 79,
   "id": "387514b1",
   "metadata": {},
   "outputs": [],
   "source": [
    "ai_response = tax_chain.invoke({\"question\": query})"
   ]
  },
  {
   "cell_type": "code",
   "execution_count": 80,
   "id": "38032ef9",
   "metadata": {},
   "outputs": [
    {
     "data": {
      "text/plain": [
       "{'query': '거주자 연봉 5천만원의 소득세는 얼마인가요?',\n",
       " 'result': '거주자의 연봉 5,000만원에 대한 소득세는 624만원입니다. 이 금액은 종합소득 과세표준에서 5,000만원 이하의 구간에 해당하며, 해당 구간의 계산식은 \"84만원 + (1,400만원을 초과하는 금액의 15퍼센트)\"를 적용한 결과입니다.'}"
      ]
     },
     "execution_count": 80,
     "metadata": {},
     "output_type": "execute_result"
    }
   ],
   "source": [
    "ai_response"
   ]
  }
 ],
 "metadata": {
  "kernelspec": {
   "display_name": "disRagEnv",
   "language": "python",
   "name": "python3"
  },
  "language_info": {
   "codemirror_mode": {
    "name": "ipython",
    "version": 3
   },
   "file_extension": ".py",
   "mimetype": "text/x-python",
   "name": "python",
   "nbconvert_exporter": "python",
   "pygments_lexer": "ipython3",
   "version": "3.10.18"
  }
 },
 "nbformat": 4,
 "nbformat_minor": 5
}
