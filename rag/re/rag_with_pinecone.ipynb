{
 "cells": [
  {
   "cell_type": "code",
   "execution_count": null,
   "id": "f284ad0e",
   "metadata": {},
   "outputs": [],
   "source": [
    "from dotenv import load_dotenv\n",
    "from langchain_openai import OpenAIEmbeddings\n",
    "import os\n",
    "from langchain_pinecone import PineconeVectorStore\n",
    "from langchain_openai import ChatOpenAI\n",
    "from langchain import hub\n",
    "from langchain.chains import RetrievalQA\n",
    "from langchain_core.output_parsers import StrOutputParser\n",
    "from langchain_core.prompts import ChatPromptTemplate\n",
    "\n",
    "# 환경변수를 불러옴\n",
    "load_dotenv()\n",
    "\n",
    "# OpenAI에서 제공하는 Embedding Model을 활용해서 `chunk`를 vector화\n",
    "embedding = OpenAIEmbeddings(model='text-embedding-3-large')\n",
    "\n",
    "\n",
    "index_name = 'tax-index'\n",
    "pinecone_api_key = os.getenv(\"PINECONE_API_KEY\")\n",
    "\n",
    "database = PineconeVectorStore.from_documents([], embedding, index_name=index_name)\n",
    "\n",
    "llm = ChatOpenAI(model='gpt-4o')\n",
    "prompt = hub.pull(\"rlm/rag-prompt\")\n",
    "\n",
    "retriever = database.as_retriever()\n",
    "qa_chain = RetrievalQA.from_chain_type(\n",
    "    llm, \n",
    "    retriever=retriever,\n",
    "    chain_type_kwargs={\"prompt\": prompt}\n",
    ")\n",
    "\n",
    "dictionary = [\"사람을 나타내는 표현 -> 거주자\"]\n",
    "prompt = ChatPromptTemplate.from_template(f\"\"\"\n",
    "    사용자의 질문을 보고, 우리의 사전을 참고해서 사용자의 질문을 변경해주세요.\n",
    "    만약 변경할 필요가 없다고 판단된다면, 사용자의 질문을 변경하지 않아도 됩니다.\n",
    "    그런 경우에는 질문만 리턴해주세요.\n",
    "    사전 : {dictionary}\n",
    "\n",
    "    질문 : {{question}}                           \n",
    "\"\"\")\n",
    "\n",
    "dictionary_chain = prompt | llm | StrOutputParser()\n",
    "\n",
    "tax_chain = {\"query\": dictionary_chain} | qa_chain"
   ]
  },
  {
   "cell_type": "code",
   "execution_count": 69,
   "id": "7e8f5410",
   "metadata": {},
   "outputs": [],
   "source": [
    "ai_message = qa_chain({\"query\": query})"
   ]
  },
  {
   "cell_type": "code",
   "execution_count": 70,
   "id": "0baec393",
   "metadata": {},
   "outputs": [
    {
     "data": {
      "text/plain": [
       "{'query': '연봉 5천만원의 소득세를 구체적으로 계산하고, 세율 및 공제 내용을 포함해 설명해 주세요.',\n",
       " 'result': '연봉 5천만원의 경우, 소득세는 과세표준 구간 1,400만원 초과 5,000만원 이하에 해당합니다. 따라서 세액은 기본 84만원에다가, 1,400만원을 초과하는 금액인 3,600만원(5,000만원 - 1,400만원)의 15%를 더하게 됩니다. 계산하면 총 소득세는 84만원 + 540만원(3,600만원 x 15%) = 624만원입니다.'}"
      ]
     },
     "execution_count": 70,
     "metadata": {},
     "output_type": "execute_result"
    }
   ],
   "source": [
    "ai_message"
   ]
  },
  {
   "cell_type": "code",
   "execution_count": null,
   "id": "429c4f9c",
   "metadata": {},
   "outputs": [],
   "source": []
  },
  {
   "cell_type": "code",
   "execution_count": 76,
   "id": "e594ebf7",
   "metadata": {},
   "outputs": [],
   "source": [
    "new_question = dictionary_chain.invoke({\"question\": query})"
   ]
  },
  {
   "cell_type": "code",
   "execution_count": 77,
   "id": "96424364",
   "metadata": {},
   "outputs": [
    {
     "data": {
      "text/plain": [
       "'질문 : 연봉 5천만원인 거주자의 소득세는 얼마인가요?'"
      ]
     },
     "execution_count": 77,
     "metadata": {},
     "output_type": "execute_result"
    }
   ],
   "source": [
    "new_question"
   ]
  },
  {
   "cell_type": "code",
   "execution_count": 78,
   "id": "2d5fc4ab",
   "metadata": {},
   "outputs": [],
   "source": [
    "tax_chain = {\"query\": dictionary_chain} | qa_chain"
   ]
  },
  {
   "cell_type": "code",
   "execution_count": 79,
   "id": "387514b1",
   "metadata": {},
   "outputs": [],
   "source": [
    "ai_response = tax_chain.invoke({\"question\": query})"
   ]
  },
  {
   "cell_type": "code",
   "execution_count": 80,
   "id": "38032ef9",
   "metadata": {},
   "outputs": [
    {
     "data": {
      "text/plain": [
       "{'query': '거주자 연봉 5천만원의 소득세는 얼마인가요?',\n",
       " 'result': '거주자의 연봉 5,000만원에 대한 소득세는 624만원입니다. 이 금액은 종합소득 과세표준에서 5,000만원 이하의 구간에 해당하며, 해당 구간의 계산식은 \"84만원 + (1,400만원을 초과하는 금액의 15퍼센트)\"를 적용한 결과입니다.'}"
      ]
     },
     "execution_count": 80,
     "metadata": {},
     "output_type": "execute_result"
    }
   ],
   "source": [
    "ai_response"
   ]
  }
 ],
 "metadata": {
  "kernelspec": {
   "display_name": "disRagEnv",
   "language": "python",
   "name": "python3"
  },
  "language_info": {
   "codemirror_mode": {
    "name": "ipython",
    "version": 3
   },
   "file_extension": ".py",
   "mimetype": "text/x-python",
   "name": "python",
   "nbconvert_exporter": "python",
   "pygments_lexer": "ipython3",
   "version": "3.10.18"
  }
 },
 "nbformat": 4,
 "nbformat_minor": 5
}
