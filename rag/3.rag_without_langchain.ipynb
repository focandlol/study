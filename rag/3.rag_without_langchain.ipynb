{
 "cells": [
  {
   "cell_type": "code",
   "execution_count": 1,
   "id": "441e8960",
   "metadata": {},
   "outputs": [
    {
     "name": "stdout",
     "output_type": "stream",
     "text": [
      "Requirement already satisfied: python-docx in c:\\users\\1\\miniconda3\\envs\\disragenv\\lib\\site-packages (1.2.0)\n",
      "Requirement already satisfied: lxml>=3.1.0 in c:\\users\\1\\miniconda3\\envs\\disragenv\\lib\\site-packages (from python-docx) (6.0.0)\n",
      "Requirement already satisfied: typing_extensions>=4.9.0 in c:\\users\\1\\miniconda3\\envs\\disragenv\\lib\\site-packages (from python-docx) (4.14.0)\n",
      "Note: you may need to restart the kernel to use updated packages.\n"
     ]
    }
   ],
   "source": [
    "%pip install python-docx"
   ]
  },
  {
   "cell_type": "code",
   "execution_count": 2,
   "id": "c37b8ac9",
   "metadata": {},
   "outputs": [
    {
     "name": "stdout",
     "output_type": "stream",
     "text": [
      "document == <docx.document.Document object at 0x00000205188C2350>\n"
     ]
    }
   ],
   "source": [
    "from docx import Document\n",
    "\n",
    "document = Document('./tax.docx')\n",
    "print(f\"document == {document}\")\n",
    "\n",
    "full_text = ''\n",
    "for paragraph in document.paragraphs:\n",
    "    full_text += f'{paragraph.text}\\n'"
   ]
  },
  {
   "cell_type": "code",
   "execution_count": 3,
   "id": "b50ddaae",
   "metadata": {},
   "outputs": [
    {
     "name": "stdout",
     "output_type": "stream",
     "text": [
      "Requirement already satisfied: tiktoken in c:\\users\\1\\miniconda3\\envs\\disragenv\\lib\\site-packages (0.9.0)\n",
      "Requirement already satisfied: regex>=2022.1.18 in c:\\users\\1\\miniconda3\\envs\\disragenv\\lib\\site-packages (from tiktoken) (2024.11.6)\n",
      "Requirement already satisfied: requests>=2.26.0 in c:\\users\\1\\miniconda3\\envs\\disragenv\\lib\\site-packages (from tiktoken) (2.32.4)\n",
      "Requirement already satisfied: charset_normalizer<4,>=2 in c:\\users\\1\\miniconda3\\envs\\disragenv\\lib\\site-packages (from requests>=2.26.0->tiktoken) (3.4.2)\n",
      "Requirement already satisfied: idna<4,>=2.5 in c:\\users\\1\\miniconda3\\envs\\disragenv\\lib\\site-packages (from requests>=2.26.0->tiktoken) (3.10)\n",
      "Requirement already satisfied: urllib3<3,>=1.21.1 in c:\\users\\1\\miniconda3\\envs\\disragenv\\lib\\site-packages (from requests>=2.26.0->tiktoken) (2.5.0)\n",
      "Requirement already satisfied: certifi>=2017.4.17 in c:\\users\\1\\miniconda3\\envs\\disragenv\\lib\\site-packages (from requests>=2.26.0->tiktoken) (2025.6.15)\n",
      "Note: you may need to restart the kernel to use updated packages.\n"
     ]
    }
   ],
   "source": [
    "%pip install tiktoken"
   ]
  },
  {
   "cell_type": "code",
   "execution_count": 4,
   "id": "0d258bef",
   "metadata": {},
   "outputs": [],
   "source": [
    "import tiktoken\n",
    "\n",
    "def split_text(full_text, chunk_size):\n",
    "    encoder = tiktoken.encoding_for_model(\"gpt-4o\")\n",
    "    total_encoding = encoder.encode(full_text)\n",
    "    total_token_count = len(total_encoding)\n",
    "    text_list = []\n",
    "\n",
    "    for i in range(0, total_token_count, chunk_size):\n",
    "        chunk = total_encoding[i: i+chunk_size]\n",
    "        decoded = encoder.decode(chunk)\n",
    "        text_list.append(decoded)\n",
    "\n",
    "    return text_list\n"
   ]
  },
  {
   "cell_type": "code",
   "execution_count": 5,
   "id": "f46562e6",
   "metadata": {},
   "outputs": [],
   "source": [
    "chunk_list = split_text(full_text, 1500)"
   ]
  },
  {
   "cell_type": "code",
   "execution_count": 6,
   "id": "0af84fe4",
   "metadata": {},
   "outputs": [
    {
     "name": "stdout",
     "output_type": "stream",
     "text": [
      "Requirement already satisfied: chromadb in c:\\users\\1\\miniconda3\\envs\\disragenv\\lib\\site-packages (1.0.13)\n",
      "Requirement already satisfied: build>=1.0.3 in c:\\users\\1\\miniconda3\\envs\\disragenv\\lib\\site-packages (from chromadb) (1.2.2.post1)\n",
      "Requirement already satisfied: pydantic>=1.9 in c:\\users\\1\\miniconda3\\envs\\disragenv\\lib\\site-packages (from chromadb) (2.11.7)\n",
      "Requirement already satisfied: pybase64>=1.4.1 in c:\\users\\1\\miniconda3\\envs\\disragenv\\lib\\site-packages (from chromadb) (1.4.1)\n",
      "Requirement already satisfied: uvicorn>=0.18.3 in c:\\users\\1\\miniconda3\\envs\\disragenv\\lib\\site-packages (from uvicorn[standard]>=0.18.3->chromadb) (0.34.3)\n",
      "Requirement already satisfied: numpy>=1.22.5 in c:\\users\\1\\miniconda3\\envs\\disragenv\\lib\\site-packages (from chromadb) (2.2.6)\n",
      "Requirement already satisfied: posthog>=2.4.0 in c:\\users\\1\\miniconda3\\envs\\disragenv\\lib\\site-packages (from chromadb) (6.0.0)\n",
      "Requirement already satisfied: typing-extensions>=4.5.0 in c:\\users\\1\\miniconda3\\envs\\disragenv\\lib\\site-packages (from chromadb) (4.14.0)\n",
      "Requirement already satisfied: onnxruntime>=1.14.1 in c:\\users\\1\\miniconda3\\envs\\disragenv\\lib\\site-packages (from chromadb) (1.22.0)\n",
      "Requirement already satisfied: opentelemetry-api>=1.2.0 in c:\\users\\1\\miniconda3\\envs\\disragenv\\lib\\site-packages (from chromadb) (1.34.1)\n",
      "Requirement already satisfied: opentelemetry-exporter-otlp-proto-grpc>=1.2.0 in c:\\users\\1\\miniconda3\\envs\\disragenv\\lib\\site-packages (from chromadb) (1.34.1)\n",
      "Requirement already satisfied: opentelemetry-sdk>=1.2.0 in c:\\users\\1\\miniconda3\\envs\\disragenv\\lib\\site-packages (from chromadb) (1.34.1)\n",
      "Requirement already satisfied: tokenizers>=0.13.2 in c:\\users\\1\\miniconda3\\envs\\disragenv\\lib\\site-packages (from chromadb) (0.21.2)\n",
      "Requirement already satisfied: pypika>=0.48.9 in c:\\users\\1\\miniconda3\\envs\\disragenv\\lib\\site-packages (from chromadb) (0.48.9)\n",
      "Requirement already satisfied: tqdm>=4.65.0 in c:\\users\\1\\miniconda3\\envs\\disragenv\\lib\\site-packages (from chromadb) (4.67.1)\n",
      "Requirement already satisfied: overrides>=7.3.1 in c:\\users\\1\\miniconda3\\envs\\disragenv\\lib\\site-packages (from chromadb) (7.7.0)\n",
      "Requirement already satisfied: importlib-resources in c:\\users\\1\\miniconda3\\envs\\disragenv\\lib\\site-packages (from chromadb) (6.5.2)\n",
      "Requirement already satisfied: grpcio>=1.58.0 in c:\\users\\1\\miniconda3\\envs\\disragenv\\lib\\site-packages (from chromadb) (1.73.1)\n",
      "Requirement already satisfied: bcrypt>=4.0.1 in c:\\users\\1\\miniconda3\\envs\\disragenv\\lib\\site-packages (from chromadb) (4.3.0)\n",
      "Requirement already satisfied: typer>=0.9.0 in c:\\users\\1\\miniconda3\\envs\\disragenv\\lib\\site-packages (from chromadb) (0.16.0)\n",
      "Requirement already satisfied: kubernetes>=28.1.0 in c:\\users\\1\\miniconda3\\envs\\disragenv\\lib\\site-packages (from chromadb) (33.1.0)\n",
      "Requirement already satisfied: tenacity>=8.2.3 in c:\\users\\1\\miniconda3\\envs\\disragenv\\lib\\site-packages (from chromadb) (9.1.2)\n",
      "Requirement already satisfied: pyyaml>=6.0.0 in c:\\users\\1\\miniconda3\\envs\\disragenv\\lib\\site-packages (from chromadb) (6.0.2)\n",
      "Requirement already satisfied: mmh3>=4.0.1 in c:\\users\\1\\miniconda3\\envs\\disragenv\\lib\\site-packages (from chromadb) (5.1.0)\n",
      "Requirement already satisfied: orjson>=3.9.12 in c:\\users\\1\\miniconda3\\envs\\disragenv\\lib\\site-packages (from chromadb) (3.10.18)\n",
      "Requirement already satisfied: httpx>=0.27.0 in c:\\users\\1\\miniconda3\\envs\\disragenv\\lib\\site-packages (from chromadb) (0.28.1)\n",
      "Requirement already satisfied: rich>=10.11.0 in c:\\users\\1\\miniconda3\\envs\\disragenv\\lib\\site-packages (from chromadb) (14.0.0)\n",
      "Requirement already satisfied: jsonschema>=4.19.0 in c:\\users\\1\\miniconda3\\envs\\disragenv\\lib\\site-packages (from chromadb) (4.24.0)\n",
      "Requirement already satisfied: packaging>=19.1 in c:\\users\\1\\miniconda3\\envs\\disragenv\\lib\\site-packages (from build>=1.0.3->chromadb) (24.2)\n",
      "Requirement already satisfied: pyproject_hooks in c:\\users\\1\\miniconda3\\envs\\disragenv\\lib\\site-packages (from build>=1.0.3->chromadb) (1.2.0)\n",
      "Requirement already satisfied: colorama in c:\\users\\1\\miniconda3\\envs\\disragenv\\lib\\site-packages (from build>=1.0.3->chromadb) (0.4.6)\n",
      "Requirement already satisfied: tomli>=1.1.0 in c:\\users\\1\\miniconda3\\envs\\disragenv\\lib\\site-packages (from build>=1.0.3->chromadb) (2.2.1)\n",
      "Requirement already satisfied: anyio in c:\\users\\1\\miniconda3\\envs\\disragenv\\lib\\site-packages (from httpx>=0.27.0->chromadb) (4.9.0)\n",
      "Requirement already satisfied: certifi in c:\\users\\1\\miniconda3\\envs\\disragenv\\lib\\site-packages (from httpx>=0.27.0->chromadb) (2025.6.15)\n",
      "Requirement already satisfied: httpcore==1.* in c:\\users\\1\\miniconda3\\envs\\disragenv\\lib\\site-packages (from httpx>=0.27.0->chromadb) (1.0.9)\n",
      "Requirement already satisfied: idna in c:\\users\\1\\miniconda3\\envs\\disragenv\\lib\\site-packages (from httpx>=0.27.0->chromadb) (3.10)\n",
      "Requirement already satisfied: h11>=0.16 in c:\\users\\1\\miniconda3\\envs\\disragenv\\lib\\site-packages (from httpcore==1.*->httpx>=0.27.0->chromadb) (0.16.0)\n",
      "Requirement already satisfied: attrs>=22.2.0 in c:\\users\\1\\miniconda3\\envs\\disragenv\\lib\\site-packages (from jsonschema>=4.19.0->chromadb) (25.3.0)\n",
      "Requirement already satisfied: jsonschema-specifications>=2023.03.6 in c:\\users\\1\\miniconda3\\envs\\disragenv\\lib\\site-packages (from jsonschema>=4.19.0->chromadb) (2025.4.1)\n",
      "Requirement already satisfied: referencing>=0.28.4 in c:\\users\\1\\miniconda3\\envs\\disragenv\\lib\\site-packages (from jsonschema>=4.19.0->chromadb) (0.36.2)\n",
      "Requirement already satisfied: rpds-py>=0.7.1 in c:\\users\\1\\miniconda3\\envs\\disragenv\\lib\\site-packages (from jsonschema>=4.19.0->chromadb) (0.25.1)\n",
      "Requirement already satisfied: six>=1.9.0 in c:\\users\\1\\miniconda3\\envs\\disragenv\\lib\\site-packages (from kubernetes>=28.1.0->chromadb) (1.17.0)\n",
      "Requirement already satisfied: python-dateutil>=2.5.3 in c:\\users\\1\\miniconda3\\envs\\disragenv\\lib\\site-packages (from kubernetes>=28.1.0->chromadb) (2.9.0.post0)\n",
      "Requirement already satisfied: google-auth>=1.0.1 in c:\\users\\1\\miniconda3\\envs\\disragenv\\lib\\site-packages (from kubernetes>=28.1.0->chromadb) (2.40.3)\n",
      "Requirement already satisfied: websocket-client!=0.40.0,!=0.41.*,!=0.42.*,>=0.32.0 in c:\\users\\1\\miniconda3\\envs\\disragenv\\lib\\site-packages (from kubernetes>=28.1.0->chromadb) (1.8.0)\n",
      "Requirement already satisfied: requests in c:\\users\\1\\miniconda3\\envs\\disragenv\\lib\\site-packages (from kubernetes>=28.1.0->chromadb) (2.32.4)\n",
      "Requirement already satisfied: requests-oauthlib in c:\\users\\1\\miniconda3\\envs\\disragenv\\lib\\site-packages (from kubernetes>=28.1.0->chromadb) (2.0.0)\n",
      "Requirement already satisfied: oauthlib>=3.2.2 in c:\\users\\1\\miniconda3\\envs\\disragenv\\lib\\site-packages (from kubernetes>=28.1.0->chromadb) (3.3.1)\n",
      "Requirement already satisfied: urllib3>=1.24.2 in c:\\users\\1\\miniconda3\\envs\\disragenv\\lib\\site-packages (from kubernetes>=28.1.0->chromadb) (2.5.0)\n",
      "Requirement already satisfied: durationpy>=0.7 in c:\\users\\1\\miniconda3\\envs\\disragenv\\lib\\site-packages (from kubernetes>=28.1.0->chromadb) (0.10)\n",
      "Requirement already satisfied: cachetools<6.0,>=2.0.0 in c:\\users\\1\\miniconda3\\envs\\disragenv\\lib\\site-packages (from google-auth>=1.0.1->kubernetes>=28.1.0->chromadb) (5.5.2)\n",
      "Requirement already satisfied: pyasn1-modules>=0.2.1 in c:\\users\\1\\miniconda3\\envs\\disragenv\\lib\\site-packages (from google-auth>=1.0.1->kubernetes>=28.1.0->chromadb) (0.4.2)\n",
      "Requirement already satisfied: rsa<5,>=3.1.4 in c:\\users\\1\\miniconda3\\envs\\disragenv\\lib\\site-packages (from google-auth>=1.0.1->kubernetes>=28.1.0->chromadb) (4.9.1)\n",
      "Requirement already satisfied: pyasn1>=0.1.3 in c:\\users\\1\\miniconda3\\envs\\disragenv\\lib\\site-packages (from rsa<5,>=3.1.4->google-auth>=1.0.1->kubernetes>=28.1.0->chromadb) (0.6.1)\n",
      "Requirement already satisfied: coloredlogs in c:\\users\\1\\miniconda3\\envs\\disragenv\\lib\\site-packages (from onnxruntime>=1.14.1->chromadb) (15.0.1)\n",
      "Requirement already satisfied: flatbuffers in c:\\users\\1\\miniconda3\\envs\\disragenv\\lib\\site-packages (from onnxruntime>=1.14.1->chromadb) (25.2.10)\n",
      "Requirement already satisfied: protobuf in c:\\users\\1\\miniconda3\\envs\\disragenv\\lib\\site-packages (from onnxruntime>=1.14.1->chromadb) (5.29.5)\n",
      "Requirement already satisfied: sympy in c:\\users\\1\\miniconda3\\envs\\disragenv\\lib\\site-packages (from onnxruntime>=1.14.1->chromadb) (1.14.0)\n",
      "Requirement already satisfied: importlib-metadata<8.8.0,>=6.0 in c:\\users\\1\\miniconda3\\envs\\disragenv\\lib\\site-packages (from opentelemetry-api>=1.2.0->chromadb) (8.7.0)\n",
      "Requirement already satisfied: zipp>=3.20 in c:\\users\\1\\miniconda3\\envs\\disragenv\\lib\\site-packages (from importlib-metadata<8.8.0,>=6.0->opentelemetry-api>=1.2.0->chromadb) (3.23.0)\n",
      "Requirement already satisfied: googleapis-common-protos~=1.52 in c:\\users\\1\\miniconda3\\envs\\disragenv\\lib\\site-packages (from opentelemetry-exporter-otlp-proto-grpc>=1.2.0->chromadb) (1.70.0)\n",
      "Requirement already satisfied: opentelemetry-exporter-otlp-proto-common==1.34.1 in c:\\users\\1\\miniconda3\\envs\\disragenv\\lib\\site-packages (from opentelemetry-exporter-otlp-proto-grpc>=1.2.0->chromadb) (1.34.1)\n",
      "Requirement already satisfied: opentelemetry-proto==1.34.1 in c:\\users\\1\\miniconda3\\envs\\disragenv\\lib\\site-packages (from opentelemetry-exporter-otlp-proto-grpc>=1.2.0->chromadb) (1.34.1)\n",
      "Requirement already satisfied: opentelemetry-semantic-conventions==0.55b1 in c:\\users\\1\\miniconda3\\envs\\disragenv\\lib\\site-packages (from opentelemetry-sdk>=1.2.0->chromadb) (0.55b1)\n",
      "Requirement already satisfied: backoff>=1.10.0 in c:\\users\\1\\miniconda3\\envs\\disragenv\\lib\\site-packages (from posthog>=2.4.0->chromadb) (2.2.1)\n",
      "Requirement already satisfied: distro>=1.5.0 in c:\\users\\1\\miniconda3\\envs\\disragenv\\lib\\site-packages (from posthog>=2.4.0->chromadb) (1.9.0)\n",
      "Requirement already satisfied: charset_normalizer<4,>=2 in c:\\users\\1\\miniconda3\\envs\\disragenv\\lib\\site-packages (from requests->kubernetes>=28.1.0->chromadb) (3.4.2)\n",
      "Requirement already satisfied: annotated-types>=0.6.0 in c:\\users\\1\\miniconda3\\envs\\disragenv\\lib\\site-packages (from pydantic>=1.9->chromadb) (0.7.0)\n",
      "Requirement already satisfied: pydantic-core==2.33.2 in c:\\users\\1\\miniconda3\\envs\\disragenv\\lib\\site-packages (from pydantic>=1.9->chromadb) (2.33.2)\n",
      "Requirement already satisfied: typing-inspection>=0.4.0 in c:\\users\\1\\miniconda3\\envs\\disragenv\\lib\\site-packages (from pydantic>=1.9->chromadb) (0.4.1)\n",
      "Requirement already satisfied: markdown-it-py>=2.2.0 in c:\\users\\1\\miniconda3\\envs\\disragenv\\lib\\site-packages (from rich>=10.11.0->chromadb) (3.0.0)\n",
      "Requirement already satisfied: pygments<3.0.0,>=2.13.0 in c:\\users\\1\\miniconda3\\envs\\disragenv\\lib\\site-packages (from rich>=10.11.0->chromadb) (2.19.2)\n",
      "Requirement already satisfied: mdurl~=0.1 in c:\\users\\1\\miniconda3\\envs\\disragenv\\lib\\site-packages (from markdown-it-py>=2.2.0->rich>=10.11.0->chromadb) (0.1.2)\n",
      "Requirement already satisfied: huggingface-hub<1.0,>=0.16.4 in c:\\users\\1\\miniconda3\\envs\\disragenv\\lib\\site-packages (from tokenizers>=0.13.2->chromadb) (0.33.1)\n",
      "Requirement already satisfied: filelock in c:\\users\\1\\miniconda3\\envs\\disragenv\\lib\\site-packages (from huggingface-hub<1.0,>=0.16.4->tokenizers>=0.13.2->chromadb) (3.18.0)\n",
      "Requirement already satisfied: fsspec>=2023.5.0 in c:\\users\\1\\miniconda3\\envs\\disragenv\\lib\\site-packages (from huggingface-hub<1.0,>=0.16.4->tokenizers>=0.13.2->chromadb) (2025.5.1)\n",
      "Requirement already satisfied: click>=8.0.0 in c:\\users\\1\\miniconda3\\envs\\disragenv\\lib\\site-packages (from typer>=0.9.0->chromadb) (8.2.1)\n",
      "Requirement already satisfied: shellingham>=1.3.0 in c:\\users\\1\\miniconda3\\envs\\disragenv\\lib\\site-packages (from typer>=0.9.0->chromadb) (1.5.4)\n",
      "Requirement already satisfied: httptools>=0.6.3 in c:\\users\\1\\miniconda3\\envs\\disragenv\\lib\\site-packages (from uvicorn[standard]>=0.18.3->chromadb) (0.6.4)\n",
      "Requirement already satisfied: python-dotenv>=0.13 in c:\\users\\1\\miniconda3\\envs\\disragenv\\lib\\site-packages (from uvicorn[standard]>=0.18.3->chromadb) (1.1.1)\n",
      "Requirement already satisfied: watchfiles>=0.13 in c:\\users\\1\\miniconda3\\envs\\disragenv\\lib\\site-packages (from uvicorn[standard]>=0.18.3->chromadb) (1.1.0)\n",
      "Requirement already satisfied: websockets>=10.4 in c:\\users\\1\\miniconda3\\envs\\disragenv\\lib\\site-packages (from uvicorn[standard]>=0.18.3->chromadb) (15.0.1)\n",
      "Requirement already satisfied: exceptiongroup>=1.0.2 in c:\\users\\1\\miniconda3\\envs\\disragenv\\lib\\site-packages (from anyio->httpx>=0.27.0->chromadb) (1.3.0)\n",
      "Requirement already satisfied: sniffio>=1.1 in c:\\users\\1\\miniconda3\\envs\\disragenv\\lib\\site-packages (from anyio->httpx>=0.27.0->chromadb) (1.3.1)\n",
      "Requirement already satisfied: humanfriendly>=9.1 in c:\\users\\1\\miniconda3\\envs\\disragenv\\lib\\site-packages (from coloredlogs->onnxruntime>=1.14.1->chromadb) (10.0)\n",
      "Requirement already satisfied: pyreadline3 in c:\\users\\1\\miniconda3\\envs\\disragenv\\lib\\site-packages (from humanfriendly>=9.1->coloredlogs->onnxruntime>=1.14.1->chromadb) (3.5.4)\n",
      "Requirement already satisfied: mpmath<1.4,>=1.1.0 in c:\\users\\1\\miniconda3\\envs\\disragenv\\lib\\site-packages (from sympy->onnxruntime>=1.14.1->chromadb) (1.3.0)\n",
      "Note: you may need to restart the kernel to use updated packages.\n"
     ]
    }
   ],
   "source": [
    "%pip install chromadb"
   ]
  },
  {
   "cell_type": "code",
   "execution_count": 7,
   "id": "3a3bc855",
   "metadata": {},
   "outputs": [
    {
     "name": "stderr",
     "output_type": "stream",
     "text": [
      "Failed to send telemetry event ClientStartEvent: capture() takes 1 positional argument but 3 were given\n"
     ]
    }
   ],
   "source": [
    "import chromadb\n",
    "\n",
    "chroma_client = chromadb.Client()"
   ]
  },
  {
   "cell_type": "code",
   "execution_count": 13,
   "id": "afd71365",
   "metadata": {},
   "outputs": [],
   "source": [
    "collection_name = 'tax_collection'\n",
    "# tax_collection = chroma_client.create_collection(collection_name)\n",
    "chroma_client.delete_collection(collection_name)"
   ]
  },
  {
   "cell_type": "code",
   "execution_count": 9,
   "id": "68e3cc38",
   "metadata": {},
   "outputs": [],
   "source": [
    "import os\n",
    "from dotenv import load_dotenv\n",
    "from chromadb.utils.embedding_functions import OpenAIEmbeddingFunction\n",
    "\n",
    "load_dotenv()\n",
    "openai_api_key = os.getenv('OPENAI_API_KEY')\n",
    "openai_embedding = OpenAIEmbeddingFunction(api_key=openai_api_key, model_name='text-embedding-3-large')"
   ]
  },
  {
   "cell_type": "code",
   "execution_count": 14,
   "id": "c55e1ec6",
   "metadata": {},
   "outputs": [
    {
     "name": "stderr",
     "output_type": "stream",
     "text": [
      "Failed to send telemetry event ClientCreateCollectionEvent: capture() takes 1 positional argument but 3 were given\n"
     ]
    }
   ],
   "source": [
    "tax_collection = chroma_client.get_or_create_collection(collection_name, embedding_function=openai_embedding)"
   ]
  },
  {
   "cell_type": "code",
   "execution_count": 15,
   "id": "c1fec54d",
   "metadata": {},
   "outputs": [],
   "source": [
    "id_list = []\n",
    "for index in range(len(chunk_list)):\n",
    "    id_list.append(f'{index}')"
   ]
  },
  {
   "cell_type": "code",
   "execution_count": 16,
   "id": "4300251e",
   "metadata": {},
   "outputs": [
    {
     "name": "stdout",
     "output_type": "stream",
     "text": [
      "104\n",
      "104\n"
     ]
    }
   ],
   "source": [
    "print(len(id_list))\n",
    "print(len(chunk_list))"
   ]
  },
  {
   "cell_type": "code",
   "execution_count": 17,
   "id": "a9e31dd3",
   "metadata": {},
   "outputs": [
    {
     "name": "stderr",
     "output_type": "stream",
     "text": [
      "Failed to send telemetry event CollectionAddEvent: capture() takes 1 positional argument but 3 were given\n"
     ]
    }
   ],
   "source": [
    "tax_collection.add(documents=chunk_list, ids=id_list)"
   ]
  },
  {
   "cell_type": "code",
   "execution_count": 18,
   "id": "0f7383e9",
   "metadata": {},
   "outputs": [
    {
     "name": "stderr",
     "output_type": "stream",
     "text": [
      "Failed to send telemetry event CollectionQueryEvent: capture() takes 1 positional argument but 3 were given\n"
     ]
    }
   ],
   "source": [
    "query = \"연봉 5천만원인 직장인의 소득세는 얼마인가요?\"\n",
    "retrieved_doc = tax_collection.query(query_texts=query)"
   ]
  },
  {
   "cell_type": "code",
   "execution_count": null,
   "id": "16a2d6ac",
   "metadata": {},
   "outputs": [
    {
     "data": {
      "text/plain": [
       "[[' 신청이 있는 경우로서 사업장 소재지를 납세지로 지정하는 것이 세무관리상 부적절하다고 인정되어 그 신청대로 납세지 지정을 하지 아니한 경우에는 국세청장 또는 관할 지방국세청장은 그 뜻을 납세의무자 또는 그 상속인, 납세관리인이나 납세조합에 서면으로 각각 통지하여야 한다.\\n③ 제1항에서 규정한 납세지의 지정 사유가 소멸한 경우 국세청장 또는 관할 지방국세청장은 납세지의 지정을 취소하여야 한다.\\n④ 제1항에 따른 납세지의 지정이 취소된 경우에도 그 취소 전에 한 소득세에 관한 신고, 신청, 청구, 납부, 그 밖의 행위의 효력에는 영향을 미치지 아니한다.\\n[전문개정 2009. 12. 31.]\\n\\n제10조(납세지의 변경신고) 거주자나 비거주자는 제6조부터 제9조까지의 규정에 따른 납세지가 변경된 경우 변경된 날부터 15일 이내에 대통령령으로 정하는 바에 따라 그 변경 후의 납세지 관할 세무서장에게 신고하여야 한다.\\n[전문개정 2009. 12. 31.]\\n\\n제11조(과세 관할) 소득세는 제6조부터 제10조까지의 규정에 따른 납세지를 관할하는 세무서장 또는 지방국세청장이 과세한다.\\n[전문개정 2009. 12. 31.]\\n\\n제2장 거주자의 종합소득 및 퇴직소득에 대한 납세의무 <개정 2009. 12. 31.>\\n\\n제1절 비과세 <개정 2009. 12. 31.>\\n\\n제12조(비과세소득) 다음 각 호의 소득에 대해서는 소득세를 과세하지 아니한다. <개정 2010. 12. 27., 2011. 7. 25., 2011. 9. 15., 2012. 2. 1., 2013. 1. 1., 2013. 3. 22., 2014. 1. 1., 2014. 3. 18., 2014. 12. 23., 2015. 12. 15., 2016. 12. 20., 2018. 3. 20., 2018. 12. 31., 2019. 12. 10., 2019. 12. 31., 2020. 6. 9., 2020. 12. 29., 2022. 8. 12., 2022. 12. 31., 2023. 8. 8., 2023. 12. 31., 2024. 12. 31.>\\n1. 「공익신탁법」에 따른 공익신탁의 이익\\n2. 사업소득 중 다음 각 목의 어느 하나에 해당하는 소득\\n가. 논ㆍ밭을 작물 생산에 이용하게 함으로써 발생하는 소득\\n나. 1개의 주택을 소유하는 자의 주택임대소득(제99조에 따른 기준시가가 12억원을 초과하는 주택 및 국외에 소재하는 주택의 임대소득은 제외한다) 또는 해당 과세기간에 대통령령으로 정하는 총수입금액의 합계액이 2천만원 이하인 자의 주택임대소득(2018년 12월 31일 이전에 끝나는 과세기간까지 발생하는 소득으로 한정한다). 이 경우 주택 수의 계산 및 주택임대소득의 산정 등 필요한 사항은 대통령령으로 정한다.\\n다. 대통령령으로 정하는 농어가부업소득\\n라. 대통령령으로 정하는 전통주의 제조에서 발생하는 소득\\n마. 조림기간 5년 이상인 임지(林地)의 임목(林木)의 벌채 또는 양도로 발생하는 소득으로서 연 600만원 이하의 금액. 이 경우 조림기간 및 세액의 계산 등 필요한 사항은 대통령령으로 정한다.\\n바. 대통령령으로 정하는 작물재배업에서 발생하는 소득\\n사. 대통령령으로 정하는 어로어업 또는 양식어업에서 발생하는 소득\\n3. 근로소득과 퇴직소득 중 다음 각 목의 어느 하나에 해당하는 소득\\n가. 대통령령으로 정하는 복무 중인 병(兵)이 받는 급여\\n나. 법률에 따라 동원된 사람이 그 동원 직장에서 받는 급여\\n다. 「산업재해보상보험법」에 따라 수급권자가 받는 요양급여, 휴업급여, 장해급여, 간병급여, 유족급여, 유족특별급여, 장해특별급여, 장의비 또는 근로의 제공으로 인한 부상ㆍ질병ㆍ사망과 관련하여 근로자나 그 유족이 받는 배상ㆍ보상 또는 위자(慰藉)의 성질이 있는 급여\\n라. 「근로기준법」 또는 「선원법」에 따라 근로자ㆍ선원 및 그 유족이 받는 요양보상금, 휴업보상금, 상병보상금(傷病補償金), 일시보상금, 장해보상금, 유족보상금, 행방불명보상금, 소지품 유실보상금, 장의비 및 장제비\\n마. 「고용보험법」에 따라 받는 실업급여, 육아휴직 급여, 육아기 근로시간 단축 급여, 출산전후휴가 급여등, 「제대군인 지원에 관한 법률」에 따라 받는 전직지원금, 「국가공무원법」ㆍ「지방공무원법」에 따른 공무원 또는 「사립학교교직원 연금법」ㆍ「별정우체국법」을 적용받는 사람이 관련 법령에 따라 받는 육아휴직수당(「사립학교법」 제70조의2에 따라 임명된 사무직원이 학교의 정관 또는 규칙에 따라 지급받는 육아휴직수당으로서 대통령령으로 정하는 금액 이하의 것을 포함한다)\\n바. 「국민연금법」에 따라 받는 반환일시금(사망으로 받는 것만 해당한다) 및 사',\n",
       "  '지일시금\\n19. 다음 각 목의 어느 하나에 해당하는 인적용역(제15호부터 제17호까지의 규정을 적용받는 용역은 제외한다)을 일시적으로 제공하고 받는 대가\\n가. 고용관계 없이 다수인에게 강연을 하고 강연료 등 대가를 받는 용역\\n나. 라디오ㆍ텔레비전방송 등을 통하여 해설ㆍ계몽 또는 연기의 심사 등을 하고 보수 또는 이와 유사한 성질의 대가를 받는 용역\\n다. 변호사, 공인회계사, 세무사, 건축사, 측량사, 변리사, 그 밖에 전문적 지식 또는 특별한 기능을 가진 자가 그 지식 또는 기능을 활용하여 보수 또는 그 밖의 대가를 받고 제공하는 용역\\n라. 그 밖에 고용관계 없이 수당 또는 이와 유사한 성질의 대가를 받고 제공하는 용역\\n20. 「법인세법」 제67조에 따라 기타소득으로 처분된 소득\\n21. 제20조의3제1항제2호나목 및 다목의 금액을 그 소득의 성격에도 불구하고 연금외수령한 소득\\n22. 퇴직 전에 부여받은 주식매수선택권을 퇴직 후에 행사하거나 고용관계 없이 주식매수선택권을 부여받아 이를 행사함으로써 얻는 이익\\n22의2. 종업원등 또는 대학의 교직원이 퇴직한 후에 지급받는 직무발명보상금\\n23. 뇌물\\n24. 알선수재 및 배임수재에 의하여 받는 금품\\n25. 삭제<2020. 12. 29.>\\n26. 종교관련종사자가 종교의식을 집행하는 등 종교관련종사자로서의 활동과 관련하여 대통령령으로 정하는 종교단체로부터 받은 소득(이하 “종교인소득”이라 한다)\\n27. 「가상자산 이용자 보호 등에 관한 법률」 제2조제1호에 따른 가상자산(이하 “가상자산”이라 한다)을 양도하거나 대여함으로써 발생하는 소득(이하 “가상자산소득”이라 한다)\\n② 제1항 및 제19조제1항제21호에도 불구하고 대통령령으로 정하는 서화(書畵)ㆍ골동품의 양도로 발생하는 소득(사업장을 갖추는 등 대통령령으로 정하는 경우에 발생하는 소득은 제외한다)은 기타소득으로 한다.<신설 2020. 12. 29.>\\n③ 기타소득금액은 해당 과세기간의 총수입금액에서 이에 사용된 필요경비를 공제한 금액으로 한다.<개정 2020. 12. 29.>\\n④ 제1항제26호에 따른 종교인소득에 대하여 제20조제1항에 따른 근로소득으로 원천징수하거나 과세표준확정신고를 한 경우에는 해당 소득을 근로소득으로 본다.<신설 2015. 12. 15., 2020. 12. 29.>\\n⑤ 기타소득의 구체적 범위 및 계산방법과 그 밖에 필요한 사항은 대통령령으로 정한다.<개정 2015. 12. 15., 2020. 12. 29.>\\n[전문개정 2009. 12. 31.]\\n[시행일: 2027. 1. 1.] 제21조제1항제27호\\n\\n제22조(퇴직소득) ① 퇴직소득은 해당 과세기간에 발생한 다음 각 호의 소득으로 한다. <개정 2013. 1. 1.>\\n1. 공적연금 관련법에 따라 받는 일시금\\n2. 사용자 부담금을 기초로 하여 현실적인 퇴직을 원인으로 지급받는 소득\\n3. 그 밖에 제1호 및 제2호와 유사한 소득으로서 대통령령으로 정하는 소득\\n② 제1항제1호에 따른 퇴직소득은 2002년 1월 1일 이후에 납입된 연금 기여금 및 사용자 부담금을 기초로 하거나 2002년 1월 1일 이후 근로의 제공을 기초로 하여 받은 일시금으로 한다.<개정 2013. 1. 1.>\\n③퇴직소득금액은 제1항 각 호에 따른 소득의 금액의 합계액(비과세소득의 금액은 제외한다)으로 한다. 다만, 대통령령으로 정하는 임원의 퇴직소득금액(제1항제1호의 금액은 제외하며, 2011년 12월 31일에 퇴직하였다고 가정할 때 지급받을 대통령령으로 정하는 퇴직소득금액이 있는 경우에는 그 금액을 뺀 금액을 말한다)이 다음 계산식에 따라 계산한 금액을 초과하는 경우에는 제1항에도 불구하고 그 초과하는 금액은 근로소득으로 본다.<개정 2012. 1. 1., 2013. 1. 1., 2014. 12. 23., 2019. 12. 31.>\\n\\n④ 제3항 단서와 그 계산식을 적용할 때 근무기간과 총급여는 다음 각 호의 방법으로 산정한다.<개정 2014. 12. 23.>\\n1. 근무기간: 개월 수로 계산한다. 이 경우 1개월 미만의 기간이 있는 경우에는 이를 1개월로 본다.\\n2. 총급여: 봉급ㆍ상여 등 제20조제1항제1호 및 제2호에 따른 근로소득(제12조에 따른 비과세소득은 제외한다)을 합산한다.\\n⑤ 삭제<2013. 1. 1.>\\n⑥ 퇴직소득의 범위 및 계산방법과 그 밖에 필요한 사항은 대통령령으로 정한다.\\n[전문개정 2009. 12. 31.]\\n\\n제23조 삭제 <2006. 12. 30.>\\n\\n제3절 소득금액의 계산 <개정 2009. 12. 31.>\\n\\n제1관 총수입금액 <개정 2009. 12. 31.>\\n\\n제24조(총수입금액의 계산) ① 거주자의 각 소득에 대한 총수입금액',\n",
       "  '사업자와 연대하여 납세의무를 진다. <개정 2012. 1. 1., 2013. 1. 1.>\\n② 제44조에 따라 피상속인의 소득금액에 대해서 과세하는 경우에는 그 상속인이 납세의무를 진다.\\n③ 제101조제2항에 따라 증여자가 자산을 직접 양도한 것으로 보는 경우 그 양도소득에 대해서는 증여자와 증여받은 자가 연대하여 납세의무를 진다.<개정 2020. 12. 29.>\\n④ 제127조에 따라 원천징수되는 소득으로서 제14조제3항 또는 다른 법률에 따라 제14조제2항에 따른 종합소득과세표준에 합산되지 아니하는 소득이 있는 자는 그 원천징수되는 소득세에 대해서 납세의무를 진다.<개정 2020. 12. 29.>\\n⑤ 공동으로 소유한 자산에 대한 양도소득금액을 계산하는 경우에는 해당 자산을 공동으로 소유하는 각 거주자가 납세의무를 진다.<신설 2017. 12. 19., 2020. 12. 29.>\\n[전문개정 2009. 12. 31.]\\n[제2조에서 이동 <2009. 12. 31.>]\\n\\n제2조의3(신탁재산 귀속 소득에 대한 납세의무의 범위) ① 신탁재산에 귀속되는 소득은 그 신탁의 이익을 받을 수익자(수익자가 사망하는 경우에는 그 상속인)에게 귀속되는 것으로 본다.\\n② 제1항에도 불구하고 위탁자가 신탁재산을 실질적으로 통제하는 등 대통령령으로 정하는 요건을 충족하는 신탁의 경우에는 그 신탁재산에 귀속되는 소득은 위탁자에게 귀속되는 것으로 본다.<개정 2023. 12. 31.>\\n[본조신설 2020. 12. 29.]\\n\\n제3조(과세소득의 범위) ① 거주자에게는 이 법에서 규정하는 모든 소득에 대해서 과세한다. 다만, 해당 과세기간 종료일 10년 전부터 국내에 주소나 거소를 둔 기간의 합계가 5년 이하인 외국인 거주자에게는 과세대상 소득 중 국외에서 발생한 소득의 경우 국내에서 지급되거나 국내로 송금된 소득에 대해서만 과세한다.\\n② 비거주자에게는 제119조에 따른 국내원천소득에 대해서만과세한다.\\n③ 제1항 및 제2항을 적용하는 경우 「조세특례제한법」 제100조의14제2호의 동업자에게는 같은 법 제100조의18제1항에 따라 배분받은 소득 및 같은 법 제100조의22제1항에 따라 분배받은 자산의 시가 중 분배일의 지분가액을 초과하여 발생하는 소득에 대하여 과세한다.\\n[전문개정 2009. 12. 31.]\\n\\n제4조(소득의 구분) ① 거주자의 소득은 다음 각 호와 같이 구분한다. <개정 2013. 1. 1., 2020. 12. 29., 2024. 12. 31.>\\n1. 종합소득\\n\\u3000이 법에 따라 과세되는 모든 소득에서 제2호 및 제3호에 따른 소득을 제외한 소득으로서 다음 각 목의 소득을 합산한 것\\n가. 이자소득\\n나. 배당소득\\n다. 사업소득\\n라. 근로소득\\n마. 연금소득\\n바. 기타소득\\n2. 퇴직소득\\n2의2. 삭제<2024. 12. 31.>\\n3. 양도소득\\n② 제1항에 따른 소득을 구분할 때 다음 각 호의 신탁을 제외한 신탁의 이익은 「신탁법」 제2조에 따라 수탁자에게 이전되거나 그 밖에 처분된 재산권에서 발생하는 소득의 내용별로 구분한다.<개정 2011. 7. 25., 2020. 12. 29., 2022. 12. 31., 2024. 12. 31.>\\n1. 「법인세법」 제5조제2항에 따라 신탁재산에 귀속되는 소득에 대하여 그 신탁의 수탁자가 법인세를 납부하는 신탁\\n2. 「자본시장과 금융투자업에 관한 법률」 제9조제18항제1호에 따른 투자신탁(제17조제1항제5호에 따른 집합투자기구로 한정한다)\\n3. 「자본시장과 금융투자업에 관한 법률」 제251조제1항에 따른 집합투자업겸영보험회사의 특별계정\\n③ 비거주자의 소득은 제119조에 따라 구분한다.\\n[전문개정 2009. 12. 31.]\\n\\n제4조(소득의 구분) ① 거주자의 소득은 다음 각 호와 같이 구분한다. <개정 2013. 1. 1., 2020. 12. 29., 2024. 12. 31.>\\n1. 종합소득\\n\\u3000이 법에 따라 과세되는 모든 소득에서 제2호 및 제3호에 따른 소득을 제외한 소득으로서 다음 각 목의 소득을 합산한 것\\n가. 이자소득\\n나. 배당소득\\n다. 사업소득\\n라. 근로소득\\n마. 연금소득\\n바. 기타소득\\n2. 퇴직소득\\n2의2. 삭제<2024. 12. 31.>\\n3. 양도소득\\n② 제1항에 따른 소득을 구분할 때 다음 각 호의 신탁을 제외한 신탁의 이익은 「신탁법」 제2조에 따라 수탁자에게 이전되거나 그 밖에 처분된 재산권에서 발생하는 소득의 내용별로 구분한다.<개정 2011. 7. 25., 2020. 12. 29., 2022. 12. 31., 2024. 12. 31.>\\n1. 「법인세법」 제5조제2',\n",
       "  '.<개정 2022. 12. 31.>\\n④ 제1항 또는 제2항에 따라 신청서등을 제출받은 납세지 관할 세무서장은 비과세 또는 면제요건 충족 여부를 검토한 결과 비과세ㆍ면제 요건이 충족되지 아니하거나 해당 신청서의 내용이 사실과 다르다고 인정되는 경우에는 제126조제4항에 따라 준용되는 제85조제3항에 따라 같은 규정에 따른 세액을 소득지급자로부터 징수하여야 한다. 이 경우 신청서등에 기재된 내용만으로는 비과세ㆍ면제 요건의 충족 여부를 판단할 수 없는 경우에는 상당한 기한을 정하여 소득지급자에게 관련 서류의 보완을 요구할 수 있다.<신설 2022. 12. 31.>\\n⑤ 제3항에 따라 비과세 또는 면제를 적용받지 못한 실질귀속자가 비과세 또는 면제를 적용받으려는 경우에는 실질귀속자 또는 소득지급자가 제3항에 따라 세액이 원천징수된 날이 속하는 달의 다음 달 11일부터 5년 이내에 대통령령으로 정하는 바에 따라 소득지급자의 납세지 관할 세무서장에게 경정을 청구할 수 있다. 다만, 「국세기본법」 제45조의2제2항 각 호의 어느 하나에 해당하는 사유가 발생하였을 때에는 본문에도 불구하고 그 사유가 발생한 것을 안 날부터 3개월 이내에 경정을 청구할 수 있다.<개정 2016. 12. 20., 2019. 12. 31., 2022. 12. 31., 2023. 12. 31.>\\n⑥ 제5항에 따라 경정을 청구받은 세무서장은 청구를 받은 날부터 6개월 이내에 과세표준과 세액을 경정하거나 경정하여야 할 이유가 없다는 뜻을 청구인에게 알려야 한다.<개정 2022. 12. 31.>\\n⑦ 제1항부터 제6항까지에서 규정된 사항 외에 신청서등 및 국외투자기구 신고서 등 관련 서류의 제출 방법ㆍ절차, 제출된 서류의 보관의무와 경정청구의 방법ㆍ절차 등 비과세ㆍ면제의 적용에 필요한 사항은 대통령령으로 정한다.<개정 2022. 12. 31.>\\n[전문개정 2014. 1. 1.]\\n[시행일: 2026. 1. 1.] 제156조의2제1항\\n\\n제156조의3(비거주자의 채권등에 대한 원천징수의 특례) 제156조제1항을 적용받는 비거주자에게 채권등의 이자등을 지급하는 자 또는 해당 비거주자로부터 채권등을 매수(증여ㆍ변제 및 출자 등으로 채권등의 소유권 또는 이자소득의 수급권의 변동이 있는 경우와 매도를 위탁받거나 중개ㆍ알선하는 경우를 포함하되, 환매조건부채권매매거래 등 대통령령으로 정하는 경우는 제외한다)하는 자는 그 비거주자의 보유기간을 고려하여 대통령령으로 정하는 바에 따라 원천징수를 하여야 한다. <개정 2013. 1. 1.>\\n[전문개정 2009. 12. 31.]\\n\\n제156조의4(특정지역 비거주자에 대한 원천징수 절차 특례) ① 제156조, 제156조의3 및 제156조의6에 따른 원천징수의무자는 기획재정부장관이 고시하는 국가 또는 지역에 소재하는 비거주자의 국내원천소득 중 제119조제1호, 제2호, 같은 조 제9호나목, 같은 조 제10호 또는 제11호에 따른 소득에 대하여 소득세로서 원천징수하는 경우에는 제156조의2 및 조세조약에 따른 비과세ㆍ면제 또는 제한세율에 관한 규정에도 불구하고 제156조제1항 각 호에 따른 세율을 우선 적용하여 원천징수하여야 한다. 다만, 대통령령으로 정하는 바에 따라 조세조약에 따른 비과세ㆍ면제 또는 제한세율에 관한 규정을 적용받을 수 있음을 국세청장이 사전 승인하는 경우에는 그러하지 아니하다. <개정 2012. 1. 1.>\\n② 제1항에서 규정한 국내원천소득을 실질적으로 귀속받는 자(그 대리인 또는 「국세기본법」 제82조에 따른 납세관리인을 포함한다)가 그 소득에 대하여 조세조약에 따른 비과세ㆍ면제 또는 제한세율에 관한 규정을 적용받으려는 경우에는 제1항에 따라 세액이 원천징수된 날이 속하는 달의 다음 달 11일부터 5년 이내에 대통령령으로 정하는 바에 따라 원천징수의무자의 납세지 관할 세무서장에게 경정을 청구할 수 있다. 다만, 「국세기본법」 제45조의2제2항 각 호의 어느 하나에 해당하는 사유가 발생하였을 때에는 본문에도 불구하고 그 사유가 발생한 것을 안 날부터 3개월 이내에 경정을 청구할 수 있다.<개정 2016. 12. 20., 2019. 12. 31., 2023. 12. 31.>\\n③ 제2항에 따른 경정의 청구를 받은 세무서장은 그 청구를 받은 날부터 6개월 이내에 과세표준과 세액을 경정하거나 경정하여야 할 이유가 없다는 뜻을 그 청구를 한 자에게 알려야 한다.\\n[전문개정 2009. 12. 31.]\\n[제목개정 2018. 12. 31.]\\n\\n제156조의5(비거주 연예인 등의 용역 제공과 관련된 원천징수 절차 특례) ① 비거주자인 연예인 또는 운동가 등 대통령령으로 정하는 자(이하 이 조에서 “비거주 연예인등”이라 한다)가 국내에서 제공한 용역(제119조제6호ㆍ제7호 및 제12호를 포함한다. 이하 이 조에서 같다)과 관련하여 지급받는 보수 또는 대가에 대해서 조세',\n",
       "  '에 따른 양도소득에 해당하는 경우는 제외한다.\\n21. 제1호부터 제20호까지의 규정에 따른 소득과 유사한 소득으로서 영리를 목적으로 자기의 계산과 책임 하에 계속적ㆍ반복적으로 행하는 활동을 통하여 얻는 소득\\n② 사업소득금액은 해당 과세기간의 총수입금액에서 이에 사용된 필요경비를 공제한 금액으로 하며, 필요경비가 총수입금액을 초과하는 경우 그 초과하는 금액을 “결손금”이라 한다.\\n③ 제1항 각 호에 따른 사업의 범위에 관하여는 이 법에 특별한 규정이 있는 경우 외에는 「통계법」 제22조에 따라 통계청장이 고시하는 한국표준산업분류에 따르고, 그 밖의 사업소득의 범위에 관하여 필요한 사항은 대통령령으로 정한다.\\n[전문개정 2009. 12. 31.]\\n\\n제20조(근로소득) ① 근로소득은 해당 과세기간에 발생한 다음 각 호의 소득으로 한다. <개정 2016. 12. 20., 2024. 12. 31.>\\n1. 근로를 제공함으로써 받는 봉급ㆍ급료ㆍ보수ㆍ세비ㆍ임금ㆍ상여ㆍ수당과 이와 유사한 성질의 급여\\n2. 법인의 주주총회ㆍ사원총회 또는 이에 준하는 의결기관의 결의에 따라 상여로 받는 소득\\n3. 「법인세법」에 따라 상여로 처분된 금액\\n4. 퇴직함으로써 받는 소득으로서 퇴직소득에 속하지 아니하는 소득\\n5. 종업원등 또는 대학의 교직원이 지급받는 직무발명보상금(제21조제1항제22호의2에 따른 직무발명보상금은 제외한다)\\n6. 사업자나 법인이 생산ㆍ공급하는 재화 또는 용역을 그 사업자나 법인(「독점규제 및 공정거래에 관한 법률」에 따른 계열회사를 포함한다)의 사업장에 종사하는 임원등에게 대통령령으로 정하는 바에 따라 시가보다 낮은 가격으로 제공하거나 구입할 수 있도록 지원함으로써 해당 임원등이 얻는 이익\\n② 근로소득금액은 제1항 각 호의 소득의 금액의 합계액(비과세소득의 금액은 제외하며, 이하 “총급여액”이라 한다)에서 제47조에 따른 근로소득공제를 적용한 금액으로 한다.\\n③ 근로소득의 범위에 관하여 필요한 사항은 대통령령으로 정한다.\\n[전문개정 2009. 12. 31.]\\n\\n제20조의2 삭제 <2006. 12. 30.>\\n\\n제20조의3(연금소득) ① 연금소득은 해당 과세기간에 발생한 다음 각 호의 소득으로 한다. <개정 2013. 1. 1., 2014. 1. 1., 2014. 12. 23., 2023. 12. 31.>\\n1. 공적연금 관련법에 따라 받는 각종 연금(이하 “공적연금소득”이라 한다)\\n2. 다음 각 목에 해당하는 금액을 그 소득의 성격에도 불구하고 연금계좌[“연금저축”의 명칭으로 설정하는 대통령령으로 정하는 계좌(이하 “연금저축계좌”라 한다) 또는 퇴직연금을 지급받기 위하여 설정하는 대통령령으로 정하는 계좌(이하 “퇴직연금계좌”라 한다)를 말한다. 이하 같다]에서 대통령령으로 정하는 연금형태 등으로 인출(이하 “연금수령”이라 하며, 연금수령 외의 인출은 “연금외수령”이라 한다)하는 경우의 그 연금\\n가. 제146조제2항에 따라 원천징수되지 아니한 퇴직소득\\n나. 제59조의3에 따라 세액공제를 받은 연금계좌 납입액\\n다. 연금계좌의 운용실적에 따라 증가된 금액\\n라. 그 밖에 연금계좌에 이체 또는 입금되어 해당 금액에 대한 소득세가 이연(移延)된 소득으로서 대통령령으로 정하는 소득\\n3. 제2호에 따른 소득과 유사하고 연금 형태로 받는 것으로서 대통령령으로 정하는 소득\\n② 공적연금소득은 2002년 1월 1일 이후에 납입된 연금 기여금 및 사용자 부담금(국가 또는 지방자치단체의 부담금을 포함한다. 이하 같다)을 기초로 하거나 2002년 1월 1일 이후 근로의 제공을 기초로 하여 받는 연금소득으로 한다.<개정 2013. 1. 1.>\\n③ 연금소득금액은 제1항 각 호에 따른 소득의 금액의 합계액(제2항에 따라 연금소득에서 제외되는 소득과 비과세소득의 금액은 제외하며, 이하 “총연금액”이라 한다)에서 제47조의2에 따른 연금소득공제를 적용한 금액으로 한다.\\n④ 연금소득의 범위 및 계산방법과 그 밖에 필요한 사항은 대통령령으로 정한다.\\n[전문개정 2009. 12. 31.]\\n\\n제21조(기타소득) ① 기타소득은 이자소득ㆍ배당소득ㆍ사업소득ㆍ근로소득ㆍ연금소득ㆍ퇴직소득 및 양도소득 외의 소득으로서 다음 각 호에서 규정하는 것으로 한다. <개정 2009. 7. 31., 2010. 12. 27., 2012. 1. 1., 2013. 1. 1., 2014. 12. 23., 2015. 12. 15., 2016. 12. 20., 2017. 12. 19., 2018. 12. 31., 2019. 8. 27., 2020. 12. 29., 2024. 12. 31.>\\n1. 상금, 현상금, 포상금, 보로금 또는 이에 준하는 금품\\n2. 복권, 경품권, 그 밖의',\n",
       "  '국인이 발행한 어음, 채무증서, 주식 또는 집합투자증권(이하 이 조에서 “어음등”이라 한다)을 인수ㆍ매매ㆍ중개 또는 대리하는 경우에는 그 금융회사등과 해당 어음등을 발행한 자 간에 대리 또는 위임의 관계가 있는 것으로 보아 제2항을 적용한다.<개정 2010. 12. 27.>\\n④ 「자본시장과 금융투자업에 관한 법률」에 따른 신탁업자가 신탁재산을 운용하거나 보관ㆍ관리하는 경우에는 해당 신탁업자와 해당 신탁재산에 귀속되는 소득을 지급하는 자 간에 원천징수의무의 대리 또는 위임의 관계가 있는 것으로 보아 제2항을 적용한다.<개정 2010. 12. 27.>\\n⑤ 외국법인이 발행한 채권 또는 증권에서 발생하는 제1항제1호 및 제2호의 소득을 거주자에게 지급하는 경우에는 국내에서 그 지급을 대리하거나 그 지급 권한을 위임 또는 위탁받은 자가 그 소득에 대한 소득세를 원천징수하여야 한다.<개정 2009. 12. 31., 2010. 12. 27.>\\n⑥ 사업자(법인을 포함한다. 이하 이 항에서 같다)가 음식ㆍ숙박용역이나 서비스용역을 공급하고 그 대가를 받을 때 제1항제8호에 따른 봉사료를 함께 받아 해당 소득자에게 지급하는 경우에는 그 사업자가 그 봉사료에 대한 소득세를 원천징수하여야 한다.<개정 2009. 12. 31., 2010. 12. 27.>\\n⑦ 제1항부터 제6항까지의 규정에 따라 원천징수를 하여야 할 자를 “원천징수의무자”라 한다.<개정 2010. 12. 27., 2020. 12. 29., 2024. 12. 31.>\\n⑧ 원천징수의무자의 범위 등 그 밖에 필요한 사항은 대통령령으로 정한다.<신설 2013. 1. 1., 2020. 12. 29., 2024. 12. 31.>\\n[제목개정 2009. 12. 31.]\\n[시행일: 2027. 1. 1.]  제127조제1항제6호다목\\n\\n제128조(원천징수세액의 납부) ① 원천징수의무자는 원천징수한 소득세를 그 징수일이 속하는 달의 다음 달 10일까지 대통령령으로 정하는 바에 따라 원천징수 관할 세무서, 한국은행 또는 체신관서에 납부하여야 한다. <개정 2010. 12. 27., 2020. 12. 29., 2022. 12. 31., 2024. 12. 31.>\\n② 상시고용인원 수 및 업종 등을 고려하여 대통령령으로 정하는 원천징수의무자는 제1항에도 불구하고 다음 각 호의 원천징수세액 외의 원천징수세액을 그 징수일이 속하는 반기의 마지막 달의 다음 달 10일까지 납부할 수 있다.<개정 2010. 12. 27., 2020. 12. 29., 2024. 12. 31.>\\n1. 「법인세법」 제67조에 따라 처분된 상여ㆍ배당 및 기타소득에 대한 원천징수세액\\n2. 「국제조세조정에 관한 법률」 제13조 또는 제22조에 따라 처분된 배당소득에 대한 원천징수세액\\n3. 제156의5제1항 및 제2항에 따른 원천징수세액\\n[전문개정 2009. 12. 31.]\\n\\n제128조의2(원천징수 납부지연가산세 특례) 원천징수의무자 또는 제156조 및 제156조의3부터 제156조의6까지의 규정에 따라 원천징수하여야 할 자가 국가ㆍ지방자치단체 또는 지방자치단체조합(이하 이 조에서 “국가등”이라 한다)인 경우로서 국가등으로부터 근로소득을 받는 사람이 제140조제1항에 따른 근로소득자 소득ㆍ세액 공제신고서를 사실과 다르게 기재하여 부당하게 소득공제 또는 세액공제를 받아 국가등이 원천징수하여야 할 세액을 정해진 기간에 납부하지 아니하거나 미달하게 납부한 경우에는 국가등은 징수하여야 할 세액에 「국세기본법」 제47조의5제1항에 따른 가산세액을 더한 금액을 그 근로소득자로부터 징수하여 납부하여야 한다. <개정 2014. 1. 1.>\\n[본조신설 2012. 1. 1.]\\n[제목개정 2020. 12. 29.]\\n\\n제129조(원천징수세율) ① 원천징수의무자가 제127조제1항 각 호에 따른 소득을 지급하여 소득세를 원천징수할 때 적용하는 세율(이하 “원천징수세율”이라 한다)은 다음 각 호의 구분에 따른다. <개정 2010. 12. 27., 2013. 1. 1., 2014. 1. 1., 2014. 12. 23., 2017. 12. 19., 2018. 12. 31., 2019. 12. 31., 2020. 12. 29., 2024. 12. 31.>\\n1. 이자소득에 대해서는 다음에 규정하는 세율\\n가. 삭제<2017. 12. 19.>\\n나. 비영업대금의 이익에 대해서는 100분의 25. 다만, 「온라인투자연계금융업 및 이용자 보호에 관한 법률」에 따라 금융위원회에 등록한 온라인투자연계금융업자를 통하여 지급받는 이자소득에 대해서는 100분의 14로 한다.\\n다. 제16조제1항제10호에 따른 직장공제회 초과반환금에 대해서는 기본세',\n",
       "  '주 발행대금을 해당 신주인수권부사채로 납입하는 경우만 해당한다) 및 「자본시장과 금융투자업에 관한 법률」 제4조제7항제3호ㆍ제3호의2 및 제3호의3에 해당하는 채권등이 주식으로 전환ㆍ상환되는 경우를 포함한다. 이하 같다]받거나 해당 채권등을 매도(증여ㆍ변제 및 출자 등으로 채권등의 소유권 또는 이자소득의 수급권의 변동이 있는 경우와 매도를 위탁하거나 중개 또는 알선시키는 경우를 포함하되, 환매조건부채권매매거래 등 대통령령으로 정하는 경우는 제외한다. 이하 제133조의2에서 같다)하는 경우에는 거주자에게 그 보유기간별로 귀속되는 이자등 상당액을 해당 거주자의 제16조에 따른 이자소득으로 보아 소득금액을 계산한다. <개정 2010. 12. 27., 2012. 1. 1., 2020. 12. 29., 2024. 12. 31.>\\n② 제1항을 적용할 때 해당 거주자가 해당 채권등을 보유한 기간을 대통령령으로 정하는 바에 따라 입증하지 못하는 경우에는 제133조의2제1항에 따른 원천징수기간의 이자등 상당액이 해당 거주자에게 귀속되는 것으로 보아 소득금액을 계산한다.<개정 2010. 12. 27.>\\n③ 제1항 및 제2항에 따른 이자등 상당액의 계산방법과 그 밖에 필요한 사항은 대통령령으로 정한다.\\n[전문개정 2009. 12. 31.]\\n\\n제46조의2(중도 해지로 인한 이자소득금액 계산의 특례) 종합소득과세표준 확정신고 후 예금 또는 신탁계약의 중도 해지로 이미 지난 과세기간에 속하는 이자소득금액이 감액된 경우 그 중도 해지일이 속하는 과세기간의 종합소득금액에 포함된 이자소득금액에서 그 감액된 이자소득금액을 뺄 수 있다. 다만, 「국세기본법」 제45조의2에 따라 과세표준 및 세액의 경정(更正)을 청구한 경우에는 그러하지 아니하다.\\n[전문개정 2009. 12. 31.]\\n\\n제5관 근로소득공제ㆍ연금소득공제 및 퇴직소득공제 <개정 2009. 12. 31.>\\n\\n제47조(근로소득공제) ①근로소득이 있는 거주자에 대해서는 해당 과세기간에 받는 총급여액에서 다음의 금액을 공제한다. 다만, 공제액이 2천만원을 초과하는 경우에는 2천만원을 공제한다. <개정 2012. 1. 1., 2014. 1. 1., 2019. 12. 31.>\\n\\n② 일용근로자에 대한 공제액은 제1항에도 불구하고 1일 15만원으로 한다.<개정 2018. 12. 31.>\\n③ 근로소득이 있는 거주자의 해당 과세기간의 총급여액이 제1항 또는 제2항의 공제액에 미달하는 경우에는 그 총급여액을 공제액으로 한다.\\n④ 제1항부터 제3항까지의 규정에 따른 공제를 “근로소득공제”라 한다.\\n⑤ 제1항의 경우에 2인 이상으로부터 근로소득을 받는 사람(일용근로자는 제외한다)에 대하여는 그 근로소득의 합계액을 총급여액으로 하여 제1항에 따라 계산한 근로소득공제액을 총급여액에서 공제한다.<개정 2010. 12. 27.>\\n⑥ 삭제<2010. 12. 27.>\\n[전문개정 2009. 12. 31.]\\n\\n제47조의2(연금소득공제) ①연금소득이 있는 거주자에 대해서는 해당 과세기간에 받은 총연금액(분리과세연금소득은 제외하며, 이하 이 항에서 같다)에서 다음 표에 규정된 금액을 공제한다. 다만, 공제액이 900만원을 초과하는 경우에는 900만원을 공제한다. <개정 2013. 1. 1.>\\n\\n② 제1항에 따른 공제를 “연금소득공제”라 한다.\\n[전문개정 2009. 12. 31.]\\n\\n제48조(퇴직소득공제) ① 퇴직소득이 있는 거주자에 대해서는 해당 과세기간의 퇴직소득금액에서 제1호의 구분에 따른 금액을 공제하고, 그 금액을 근속연수(1년 미만의 기간이 있는 경우에는 이를 1년으로 보며, 제22조제1항제1호의 경우에는 대통령령으로 정하는 방법에 따라 계산한 연수를 말한다. 이하 같다)로 나누고 12를 곱한 후의 금액(이하 이 항에서 “환산급여”라 한다)에서 제2호의 구분에 따른 금액을 공제한다. <개정 2014. 12. 23., 2022. 12. 31.>\\n1. 근속연수에 따라 정한 다음의 금액\\n\\n2. 환산급여에 따라 정한 다음의 금액\\n\\n② 해당 과세기간의 퇴직소득금액이 제1항제1호에 따른 공제금액에 미달하는 경우에는 그 퇴직소득금액을 공제액으로 한다.<개정 2014. 12. 23.>\\n③ 제1항과 제2항에 따른 공제를 “퇴직소득공제”라 한다.\\n④ 퇴직소득공제의 계산 방법에 관하여 필요한 사항은 대통령령으로 정한다.<개정 2013. 1. 1.>\\n⑤ 삭제<2013. 1. 1.>\\n[전문개정 2009. 12. 31.]\\n\\n제49조 삭제 <2006. 12. 30.>\\n\\n제6관 종합소득공제 <개정 2009. 12. 31.>\\n\\n제50조(기본공제) ① 종합',\n",
       "  '율\\n라. 그 밖의 이자소득에 대해서는 100분의 14\\n2. 배당소득에 대해서는 다음에 규정하는 세율\\n가. 제17조제1항제8호에 따른 출자공동사업자의 배당소득에 대해서는 100분의 25\\n나. 그 밖의 배당소득에 대해서는 100분의 14\\n3. 원천징수대상 사업소득에 대해서는 100분의 3. 다만, 외국인 직업운동가가 한국표준산업분류에 따른 스포츠 클럽 운영업 중 프로스포츠구단과의 계약에 따라 용역을 제공하고 받는 소득에 대해서는 100분의 20으로 한다.\\n4. 근로소득에 대해서는 기본세율. 다만, 일용근로자의 근로소득에 대해서는 100분의 6으로 한다.\\n5. 공적연금소득에 대해서는 기본세율\\n5의2.제20조의3제1항제2호나목 및 다목에 따른 연금계좌 납입액이나 운용실적에 따라 증가된 금액을 연금수령한 연금소득에 대해서는 다음 각 목의 구분에 따른 세율. 이 경우 각 목의 요건을 동시에 충족하는 때에는 낮은 세율을 적용한다.\\n가. 연금소득자의 나이에 따른 다음의 세율\\n\\n나. 삭제<2014. 12. 23.>\\n다. 사망할 때까지 연금수령하는 대통령령으로 정하는 종신계약에 따라 받는 연금소득에 대해서는 100분의 4\\n5의3. 제20조의3제1항제2호가목에 따라 퇴직소득을 연금수령하는 연금소득에 대해서는 다음 각 목의 구분에 따른 세율. 이 경우 연금 실제 수령연차 및 연금외수령 원천징수세율의 구체적인 내용은 대통령령으로 정한다.\\n가. 연금 실제 수령연차가 10년 이하인 경우: 연금외수령 원천징수세율의 100분의 70\\n나. 연금 실제 수령연차가 10년을 초과하는 경우: 연금외수령 원천징수세율의 100분의 60\\n6. 기타소득에 대해서는 다음에 규정하는 세율. 다만, 제8호를 적용받는 경우는 제외한다.\\n가. 제14조제3항제8호라목 및 마목에 해당하는 소득금액이 3억원을 초과하는 경우 그 초과하는 분에 대해서는 100분의 30\\n나. 제21조제1항제18호 및 제21호에 따른 기타소득에 대해서는 100분의 15\\n다. 삭제<2014. 12. 23.>\\n라. 그 밖의 기타소득에 대해서는 100분의 20\\n7. 퇴직소득에 대해서는 기본세율\\n8. 대통령령으로 정하는 봉사료에 대해서는 100분의 5\\n9. 삭제<2024. 12. 31.>\\n② 제1항에도 불구하고 다음 각 호의 이자소득 및 배당소득에 대해서는 다음 각 호에서 정하는 세율을 원천징수세율로 한다.<개정 2013. 1. 1., 2017. 12. 19., 2018. 12. 31., 2022. 12. 31.>\\n1. 「민사집행법」 제113조 및 같은 법 제142조에 따라 법원에 납부한 보증금 및 경락대금에서 발생하는 이자소득에 대해서는 100분의 14\\n2. 대통령령으로 정하는 실지명의가 확인되지 아니하는 소득에 대해서는 100분의 45. 다만, 「금융실명거래 및 비밀보장에 관한 법률」 제5조가 적용되는 경우에는 같은 조에서 정한 세율로 한다.\\n③ 매월분의 근로소득과 공적연금소득에 대한 원천징수세율을 적용할 때에는 제1항제4호 및 제5호에도 불구하고 대통령령으로 정하는 근로소득 간이세액표(이하 “근로소득 간이세액표”라 한다) 및 연금소득 간이세액표(이하 “연금소득 간이세액표”라 한다)를 적용한다.<개정 2013. 1. 1.>\\n④ 제1항에 따라 원천징수세액을 계산할 때 제127조제1항제1호 및 제2호의 소득에 대해서 외국에서 대통령령으로 정하는 외국소득세액을 납부한 경우에는 제1항에 따라 계산한 원천징수세액에서 그 외국소득세액을 뺀 금액을 원천징수세액으로 한다. 이 경우 외국소득세액이 제1항에 따라 계산한 원천징수세액을 초과하는 경우에는 그 초과하는 금액은 없는 것으로 한다.<개정 2021. 12. 8., 2022. 12. 31., 2024. 12. 31.>\\n1. 삭제<2022. 12. 31.>\\n2. 삭제<2022. 12. 31.>\\n3. 삭제<2022. 12. 31.>\\n⑤ 제1항에 따라 원천징수세액을 계산할 때 제57조의2제1항 각 호의 요건을 갖춘 제127조제1항제2호의 소득에 대해서는 제1호의 금액에서 제2호의 금액을 뺀 금액을 원천징수세액으로 한다.<개정 2022. 12. 31., 2024. 12. 31.>\\n1. 간접투자회사등으로부터 지급받은 소득(제57조의2제2항제1호에 따른 금액을 말한다. 이하 이 조에서 같다)에 제1항에 따른 세율을 곱하여 계산한 금액\\n2. 간접투자외국법인세액을 세후기준가격을 고려하여 대통령령으로 정하는 바에 따라 계산한 금액\\n⑥ 제5항을 적용할 때 같은 항 제2호의 금액은 제57조의2제1항 각 호의 요건을 갖춘 제127조제1항제2호의 소득에 제1항제2호나목의 세율을 곱하여 계산한 금액',\n",
       "  '소득세법\\n[시행 2025. 1. 1.] [법률 제20615호, 2024. 12. 31., 일부개정]\\n기획재정부(재산세제과(양도소득세)) 044-215-4312\\n기획재정부(소득세제과(근로소득)) 044-215-4216\\n기획재정부(금융세제과(이자소득, 배당소득)) 044-215-4233\\n기획재정부(소득세제과(사업소득, 기타소득)) 044-215-4217\\n\\n제1장 총칙 <개정 2009. 12. 31.>\\n\\n제1조(목적) 이 법은 개인의 소득에 대하여 소득의 성격과 납세자의 부담능력 등에 따라 적정하게 과세함으로써 조세부담의 형평을 도모하고 재정수입의 원활한 조달에 이바지함을 목적으로 한다.\\n[본조신설 2009. 12. 31.]\\n[종전 제1조는 제2조로 이동 <2009. 12. 31.>]\\n\\n제1조의2(정의) ① 이 법에서 사용하는 용어의 뜻은 다음과 같다. <개정 2010. 12. 27., 2014. 12. 23., 2018. 12. 31.>\\n1. “거주자”란 국내에 주소를 두거나 183일 이상의 거소(居所)를 둔 개인을 말한다.\\n2. “비거주자”란 거주자가 아닌 개인을 말한다.\\n3. “내국법인”이란 「법인세법」 제2조제1호에 따른 내국법인을 말한다.\\n4. “외국법인”이란 「법인세법」 제2조제3호에 따른 외국법인을 말한다.\\n5. “사업자”란 사업소득이 있는 거주자를 말한다.\\n② 제1항에 따른 주소ㆍ거소와 거주자ㆍ비거주자의 구분은 대통령령으로 정한다.\\n[본조신설 2009. 12. 31.]\\n\\n제2조(납세의무) ① 다음 각 호의 어느 하나에 해당하는 개인은 이 법에 따라 각자의 소득에 대한 소득세를 납부할 의무를 진다.\\n1. 거주자\\n2. 비거주자로서 국내원천소득(國內源泉所得)이 있는 개인\\n② 다음 각 호의 어느 하나에 해당하는 자는 이 법에 따라 원천징수한 소득세를 납부할 의무를 진다.\\n1. 거주자\\n2. 비거주자\\n3. 내국법인\\n4. 외국법인의 국내지점 또는 국내영업소(출장소, 그 밖에 이에 준하는 것을 포함한다. 이하 같다)\\n5. 그 밖에 이 법에서 정하는 원천징수의무자\\n③ 「국세기본법」 제13조제1항에 따른 법인 아닌 단체 중 같은 조 제4항에 따른 법인으로 보는 단체(이하 “법인으로 보는 단체”라 한다) 외의 법인 아닌 단체는 국내에 주사무소 또는 사업의 실질적 관리장소를 둔 경우에는 1거주자로, 그 밖의 경우에는 1비거주자로 보아 이 법을 적용한다. 다만, 다음 각 호의 어느 하나에 해당하는 경우에는 소득구분에 따라 해당 단체의 각 구성원별로 이 법 또는 「법인세법」에 따라 소득에 대한 소득세 또는 법인세[해당 구성원이 「법인세법」에 따른 법인(법인으로 보는 단체를 포함한다)인 경우로 한정한다. 이하 이 조에서 같다]를 납부할 의무를 진다.<개정 2010. 12. 27., 2013. 1. 1., 2018. 12. 31.>\\n1. 구성원 간 이익의 분배비율이 정하여져 있고 해당 구성원별로 이익의 분배비율이 확인되는 경우\\n2. 구성원 간 이익의 분배비율이 정하여져 있지 아니하나 사실상 구성원별로 이익이 분배되는 것으로 확인되는 경우\\n④ 제3항에도 불구하고 해당 단체의 전체 구성원 중 일부 구성원의 분배비율만 확인되거나 일부 구성원에게만 이익이 분배되는 것으로 확인되는 경우에는 다음 각 호의 구분에 따라 소득세 또는 법인세를 납부할 의무를 진다.<신설 2018. 12. 31.>\\n1. 확인되는 부분: 해당 구성원별로 소득세 또는 법인세에 대한 납세의무 부담\\n2. 확인되지 아니하는 부분: 해당 단체를 1거주자 또는 1비거주자로 보아 소득세에 대한 납세의무 부담\\n⑤ 제3항 및 제4항에도 불구하고 법인으로 보는 단체 외의 법인 아닌 단체에 해당하는 국외투자기구(투자권유를 하여 모은 금전 등을 가지고 재산적 가치가 있는 투자대상자산을 취득, 처분하거나 그 밖의 방법으로 운용하고 그 결과를 투자자에게 배분하여 귀속시키는 투자행위를 하는 기구로서 국외에서 설립된 기구를 말한다. 이하 같다)를 제119조의2제1항제2호에 따라 국내원천소득의 실질귀속자로 보는 경우 그 국외투자기구는 1비거주자로서 소득세를 납부할 의무를 진다.<신설 2018. 12. 31.>\\n[전문개정 2009. 12. 31.]\\n[제1조에서 이동, 종전 제2조는 제2조의2로 이동 <2009. 12. 31.>]\\n\\n제2조의2(납세의무의 범위) ① 제43조에 따라 공동사업에 관한 소득금액을 계산하는 경우에는 해당 공동사업자별로 납세의무를 진다. 다만, 제43조제3항에 따른 주된 공동사업자(이하 이 항에서 “주된 공동사업자”라 한다)에게 합산과세되는 경우 그 합산과세되는 소득금액에 대해서는 주된 공동사업자의 특수관계인은 같은 조 제2항에 따른 손익분배비율에 해당하는 그의 소득금액을 한도로 주된 공동',\n",
       "  '에 따른 위약금ㆍ배상금(계약금이 위약금ㆍ배상금으로 대체되는 경우만 해당한다)\\n다. 제21조제1항제23호 또는 제24호에 따른 소득\\n7. 퇴직소득. 다만, 제4호 각 목의 어느 하나에 해당하는 근로소득이 있는 사람이 퇴직함으로써 받는 소득은 제외한다.\\n8. 대통령령으로 정하는 봉사료\\n9. 삭제<2024. 12. 31.>\\n② 제1항에 따른 원천징수를 하여야 할 자(제1항제3호에 따른 소득의 경우에는 사업자 등 대통령령으로 정하는 자로 한정한다)를 대리하거나 그 위임을 받은 자의 행위는 수권(授權) 또는 위임의 범위에서 본인 또는 위임인의 행위로 보아 제1항을 적용한다.<개정 2009. 12. 31., 2010. 12. 27.>\\n③ 금융회사등이 내국인이 발행한 어음, 채무증서, 주식 또는 집합투자증권(이하 이 조에서 “어음등”이라 한다)을 인수ㆍ매매ㆍ중개 또는 대리하는 경우에는 그 금융회사등과 해당 어음등을 발행한 자 간에 대리 또는 위임의 관계가 있는 것으로 보아 제2항을 적용한다.<개정 2010. 12. 27.>\\n④ 「자본시장과 금융투자업에 관한 법률」에 따른 신탁업자가 신탁재산을 운용하거나 보관ㆍ관리하는 경우에는 해당 신탁업자와 해당 신탁재산에 귀속되는 소득을 지급하는 자 간에 원천징수의무의 대리 또는 위임의 관계가 있는 것으로 보아 제2항을 적용한다.<개정 2010. 12. 27.>\\n⑤ 외국법인이 발행한 채권 또는 증권에서 발생하는 제1항제1호 및 제2호의 소득을 거주자에게 지급하는 경우에는 국내에서 그 지급을 대리하거나 그 지급 권한을 위임 또는 위탁받은 자가 그 소득에 대한 소득세를 원천징수하여야 한다.<개정 2009. 12. 31., 2010. 12. 27.>\\n⑥ 사업자(법인을 포함한다. 이하 이 항에서 같다)가 음식ㆍ숙박용역이나 서비스용역을 공급하고 그 대가를 받을 때 제1항제8호에 따른 봉사료를 함께 받아 해당 소득자에게 지급하는 경우에는 그 사업자가 그 봉사료에 대한 소득세를 원천징수하여야 한다.<개정 2009. 12. 31., 2010. 12. 27.>\\n⑦ 제1항부터 제6항까지의 규정에 따라 원천징수를 하여야 할 자를 “원천징수의무자”라 한다.<개정 2010. 12. 27., 2020. 12. 29., 2024. 12. 31.>\\n⑧ 원천징수의무자의 범위 등 그 밖에 필요한 사항은 대통령령으로 정한다.<신설 2013. 1. 1., 2020. 12. 29., 2024. 12. 31.>\\n[제목개정 2009. 12. 31.]\\n\\n제127조(원천징수의무) ① 국내에서 거주자나 비거주자에게 다음 각 호의 어느 하나에 해당하는 소득을 지급하는 자(제3호의 소득을 지급하는 자의 경우에는 사업자 등 대통령령으로 정하는 자로 한정한다)는 이 절의 규정에 따라 그 거주자나 비거주자에 대한 소득세를 원천징수하여야 한다. <개정 2009. 12. 31., 2010. 12. 27., 2015. 12. 15., 2020. 12. 29., 2024. 12. 31.>\\n1. 이자소득\\n2. 배당소득\\n3. 대통령령으로 정하는 사업소득(이하 “원천징수대상 사업소득”이라 한다)\\n4. 근로소득. 다만, 다음 각 목의 어느 하나에 해당하는 소득은 제외한다.\\n가. 외국기관 또는 우리나라에 주둔하는 국제연합군(미군은 제외한다)으로부터 받는 근로소득\\n나. 국외에 있는 비거주자 또는 외국법인(국내지점 또는 국내영업소는 제외한다)으로부터 받는 근로소득. 다만, 다음의 어느 하나에 해당하는 소득은 제외한다.\\n\\u3000\\u3000\\u30001) 제120조제1항 및 제2항에 따른 비거주자의 국내사업장과 「법인세법」 제94조제1항 및 제2항에 따른 외국법인의 국내사업장의 국내원천소득금액을 계산할 때 필요경비 또는 손금으로 계상되는 소득\\n\\u3000\\u3000\\u30002) 국외에 있는 외국법인(국내지점 또는 국내영업소는 제외한다)으로부터 받는 근로소득 중 제156조의7에 따라 소득세가 원천징수되는 파견근로자의 소득\\n5. 연금소득\\n6. 기타소득. 다만, 다음 각 목의 어느 하나에 해당하는 소득은 제외한다.\\n가. 제8호에 따른 소득\\n나. 제21조제1항제10호에 따른 위약금ㆍ배상금(계약금이 위약금ㆍ배상금으로 대체되는 경우만 해당한다)\\n다. 제21조제1항제23호, 제24호 또는 제27호에 따른 소득\\n7. 퇴직소득. 다만, 제4호 각 목의 어느 하나에 해당하는 근로소득이 있는 사람이 퇴직함으로써 받는 소득은 제외한다.\\n8. 대통령령으로 정하는 봉사료\\n9. 삭제<2024. 12. 31.>\\n② 제1항에 따른 원천징수를 하여야 할 자(제1항제3호에 따른 소득의 경우에는 사업자 등 대통령령으로 정하는 자로 한정한다)를 대리하거나 그 위임을 받은 자의 행위는 수권(授權) 또는 위임의 범위에서 본인 또는 위임인의 행위로 보아 제1항을 적용한다.<개정 2009. 12. 31., 2010. 12. 27.>\\n③ 금융회사등이 내']]"
      ]
     },
     "execution_count": 28,
     "metadata": {},
     "output_type": "execute_result"
    }
   ],
   "source": [
    "retrieved_doc['documents'][0]"
   ]
  },
  {
   "cell_type": "code",
   "execution_count": 29,
   "id": "a95c0e0d",
   "metadata": {},
   "outputs": [
    {
     "name": "stdout",
     "output_type": "stream",
     "text": [
      "Requirement already satisfied: openai in c:\\users\\1\\miniconda3\\envs\\disragenv\\lib\\site-packages (1.92.2)Note: you may need to restart the kernel to use updated packages.\n",
      "\n",
      "Requirement already satisfied: anyio<5,>=3.5.0 in c:\\users\\1\\miniconda3\\envs\\disragenv\\lib\\site-packages (from openai) (4.9.0)\n",
      "Requirement already satisfied: distro<2,>=1.7.0 in c:\\users\\1\\miniconda3\\envs\\disragenv\\lib\\site-packages (from openai) (1.9.0)\n",
      "Requirement already satisfied: httpx<1,>=0.23.0 in c:\\users\\1\\miniconda3\\envs\\disragenv\\lib\\site-packages (from openai) (0.28.1)\n",
      "Requirement already satisfied: jiter<1,>=0.4.0 in c:\\users\\1\\miniconda3\\envs\\disragenv\\lib\\site-packages (from openai) (0.10.0)\n",
      "Requirement already satisfied: pydantic<3,>=1.9.0 in c:\\users\\1\\miniconda3\\envs\\disragenv\\lib\\site-packages (from openai) (2.11.7)\n",
      "Requirement already satisfied: sniffio in c:\\users\\1\\miniconda3\\envs\\disragenv\\lib\\site-packages (from openai) (1.3.1)\n",
      "Requirement already satisfied: tqdm>4 in c:\\users\\1\\miniconda3\\envs\\disragenv\\lib\\site-packages (from openai) (4.67.1)\n",
      "Requirement already satisfied: typing-extensions<5,>=4.11 in c:\\users\\1\\miniconda3\\envs\\disragenv\\lib\\site-packages (from openai) (4.14.0)\n",
      "Requirement already satisfied: exceptiongroup>=1.0.2 in c:\\users\\1\\miniconda3\\envs\\disragenv\\lib\\site-packages (from anyio<5,>=3.5.0->openai) (1.3.0)\n",
      "Requirement already satisfied: idna>=2.8 in c:\\users\\1\\miniconda3\\envs\\disragenv\\lib\\site-packages (from anyio<5,>=3.5.0->openai) (3.10)\n",
      "Requirement already satisfied: certifi in c:\\users\\1\\miniconda3\\envs\\disragenv\\lib\\site-packages (from httpx<1,>=0.23.0->openai) (2025.6.15)\n",
      "Requirement already satisfied: httpcore==1.* in c:\\users\\1\\miniconda3\\envs\\disragenv\\lib\\site-packages (from httpx<1,>=0.23.0->openai) (1.0.9)\n",
      "Requirement already satisfied: h11>=0.16 in c:\\users\\1\\miniconda3\\envs\\disragenv\\lib\\site-packages (from httpcore==1.*->httpx<1,>=0.23.0->openai) (0.16.0)\n",
      "Requirement already satisfied: annotated-types>=0.6.0 in c:\\users\\1\\miniconda3\\envs\\disragenv\\lib\\site-packages (from pydantic<3,>=1.9.0->openai) (0.7.0)\n",
      "Requirement already satisfied: pydantic-core==2.33.2 in c:\\users\\1\\miniconda3\\envs\\disragenv\\lib\\site-packages (from pydantic<3,>=1.9.0->openai) (2.33.2)\n",
      "Requirement already satisfied: typing-inspection>=0.4.0 in c:\\users\\1\\miniconda3\\envs\\disragenv\\lib\\site-packages (from pydantic<3,>=1.9.0->openai) (0.4.1)\n",
      "Requirement already satisfied: colorama in c:\\users\\1\\miniconda3\\envs\\disragenv\\lib\\site-packages (from tqdm>4->openai) (0.4.6)\n"
     ]
    }
   ],
   "source": [
    "%pip install openai"
   ]
  },
  {
   "cell_type": "code",
   "execution_count": 31,
   "id": "c9c2188b",
   "metadata": {},
   "outputs": [],
   "source": [
    "from openai import OpenAI\n",
    "\n",
    "client = OpenAI()\n",
    "\n",
    "response = client.chat.completions.create(\n",
    "    model=\"gpt-4o\",\n",
    "    messages=[\n",
    "        {\"role\": \"system\", \"content\": f\"당신은 한국의 소득세 전문가 입니다. 아래 내용을 참고해서 사용자의 질문에 답변해주세요 {retrieved_doc['documents'][0]}\"},\n",
    "        {\"role\": \"user\", \"content\": query}\n",
    "    ]\n",
    ")\n",
    "\n"
   ]
  },
  {
   "cell_type": "code",
   "execution_count": 38,
   "id": "db6d5a28",
   "metadata": {},
   "outputs": [
    {
     "data": {
      "text/plain": [
       "'연봉 5천만 원인 직장인의 소득세를 계산하기 위해서는 소득세법에 규정된 과세표준 및 세율을 적용해야 합니다. 대한민국의 소득세는 과세표준에 따라 누진세율이 적용되며, 기본공제 및 소득공제를 통해 과세소득을 줄일 수 있습니다.\\n\\n기본적으로 소득세 계산은 다음 단계로 이루어집니다:\\n\\n1. **총급여액 확인**: 연봉 5천만 원에서 각종 비과세 소득이 있을 경우 이를 제외한 금액이 총급여액이 됩니다.\\n\\n2. **근로소득공제**: 소득에 따라 일정 금액을 공제하는 것으로, 연봉 구간에 따라 다르게 계산됩니다. \\n   - 예를 들어, 5천만 원의 총급여라면, 특정 계산식에 따라 근로소득공제가 이루어집니다.\\n\\n3. **과세표준 결정**: 총급여액에서 근로소득공제를 뺀 금액이 과세표준이 됩니다. \\n\\n4. **세율 적용**: 과세표준에 대해 누진세율을 적용합니다. 대한민국의 소득세는 기본적으로 6%에서 시작해 과세표준이 높아짐에 따라 세율이 증가합니다. \\n   - 예를 들어, 2023년 기준으로 과세표준 1,200만원 이하일 경우 6%, 그 다음 구간부터는 더 높은 세율이 적용됩니다.\\n\\n5. **세액공제 및 세액 감면**: 산출된 세액에서 인적공제, 특별세액공제 등을 통해 최종 산출세액이 결정됩니다.\\n\\n각 개인의 상황에 따라 다양한 공제항목이 적용될 수 있으므로, 정확한 세액 계산을 위해서는 국세청 홈택스의 소득세 계산기를 사용하거나 세무사와 상담하는 것이 좋습니다. \\n\\n대략적으로 공제나 감면 없이 단순 계산으로는, 근로소득공제와 기본공제를 감안하면 약 4백만 원에서 5백만 원 사이의 세금을 부담하게 될 수 있지만 정확한 금액은 공제 항목에 따라 크게 달라질 수 있습니다.'"
      ]
     },
     "execution_count": 38,
     "metadata": {},
     "output_type": "execute_result"
    }
   ],
   "source": [
    "response.choices[0].message.content"
   ]
  }
 ],
 "metadata": {
  "kernelspec": {
   "display_name": "disRagEnv",
   "language": "python",
   "name": "python3"
  },
  "language_info": {
   "codemirror_mode": {
    "name": "ipython",
    "version": 3
   },
   "file_extension": ".py",
   "mimetype": "text/x-python",
   "name": "python",
   "nbconvert_exporter": "python",
   "pygments_lexer": "ipython3",
   "version": "3.10.18"
  }
 },
 "nbformat": 4,
 "nbformat_minor": 5
}
