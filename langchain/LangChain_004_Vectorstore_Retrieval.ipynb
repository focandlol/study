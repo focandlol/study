{
 "cells": [
  {
   "cell_type": "markdown",
   "id": "9a898547",
   "metadata": {},
   "source": [
    "## 1. 환경 설정"
   ]
  },
  {
   "cell_type": "markdown",
   "id": "9e15f76c",
   "metadata": {},
   "source": [
    "`(1) Env 환경변수`"
   ]
  },
  {
   "cell_type": "code",
   "execution_count": 1,
   "id": "3f6d77f8",
   "metadata": {},
   "outputs": [
    {
     "data": {
      "text/plain": [
       "True"
      ]
     },
     "execution_count": 1,
     "metadata": {},
     "output_type": "execute_result"
    }
   ],
   "source": [
    "from dotenv import load_dotenv\n",
    "load_dotenv()"
   ]
  },
  {
   "cell_type": "markdown",
   "id": "0800c924",
   "metadata": {},
   "source": [
    "`(2) 기본 라이브러리`"
   ]
  },
  {
   "cell_type": "code",
   "execution_count": 2,
   "id": "bca641c2",
   "metadata": {},
   "outputs": [],
   "source": [
    "import os\n",
    "from glob import glob\n",
    "\n",
    "from pprint import pprint\n",
    "import json"
   ]
  },
  {
   "cell_type": "markdown",
   "id": "cee0237e",
   "metadata": {},
   "source": [
    "## 2. 벡터 저장소 (Vector Store)"
   ]
  },
  {
   "cell_type": "markdown",
   "id": "26db4266",
   "metadata": {},
   "source": [
    "### 2.1 Chroma\n",
    "\n",
    "- 사용자 편의성이 우수한 오픈소스 벡터 저장소\n",
    " - `langchain-chroma` 패키지 설치"
   ]
  },
  {
   "cell_type": "markdown",
   "id": "28eee632",
   "metadata": {},
   "source": [
    "`(1) 벡터 저장소 초기화`"
   ]
  },
  {
   "cell_type": "code",
   "execution_count": 3,
   "id": "ef5c3344",
   "metadata": {},
   "outputs": [
    {
     "name": "stderr",
     "output_type": "stream",
     "text": [
      "c:\\Users\\1\\miniconda3\\envs\\langchain\\Lib\\site-packages\\sentence_transformers\\cross_encoder\\CrossEncoder.py:13: TqdmWarning: IProgress not found. Please update jupyter and ipywidgets. See https://ipywidgets.readthedocs.io/en/stable/user_install.html\n",
      "  from tqdm.autonotebook import tqdm, trange\n",
      "Failed to send telemetry event ClientStartEvent: capture() takes 1 positional argument but 3 were given\n",
      "Failed to send telemetry event ClientCreateCollectionEvent: capture() takes 1 positional argument but 3 were given\n"
     ]
    }
   ],
   "source": [
    "# 벡터 저장소에 문서를 저장할 때 적용할 임베딩 모델\n",
    "from langchain_huggingface.embeddings import HuggingFaceEmbeddings\n",
    "embeddings_model = HuggingFaceEmbeddings(model_name=\"BAAI/bge-m3\")\n",
    "\n",
    "\n",
    "\n",
    "# 벡터 저장소 생성\n",
    "from langchain_chroma import Chroma\n",
    "chroma_db = Chroma(\n",
    "    embedding_function=embeddings_model,\n",
    "    collection_name=\"ai_sample_collection\",\n",
    "    persist_directory=\"./chroma_db\",\n",
    ")\n"
   ]
  },
  {
   "cell_type": "code",
   "execution_count": 4,
   "id": "0c20099d",
   "metadata": {},
   "outputs": [
    {
     "name": "stderr",
     "output_type": "stream",
     "text": [
      "Failed to send telemetry event CollectionGetEvent: capture() takes 1 positional argument but 3 were given\n"
     ]
    },
    {
     "data": {
      "text/plain": [
       "{'ids': [],\n",
       " 'embeddings': None,\n",
       " 'documents': [],\n",
       " 'uris': None,\n",
       " 'data': None,\n",
       " 'metadatas': [],\n",
       " 'included': [<IncludeEnum.documents: 'documents'>,\n",
       "  <IncludeEnum.metadatas: 'metadatas'>]}"
      ]
     },
     "execution_count": 4,
     "metadata": {},
     "output_type": "execute_result"
    }
   ],
   "source": [
    "chroma_db.get()"
   ]
  },
  {
   "cell_type": "markdown",
   "id": "56c362a0",
   "metadata": {},
   "source": [
    "`(2) 벡터 저장소 관리`  "
   ]
  },
  {
   "cell_type": "markdown",
   "id": "5b8c8fe3",
   "metadata": {},
   "source": [
    "- 문서 추가: `vector_store.add_documents(documents, ids)`"
   ]
  },
  {
   "cell_type": "code",
   "execution_count": 5,
   "id": "2c4567fc",
   "metadata": {},
   "outputs": [
    {
     "name": "stdout",
     "output_type": "stream",
     "text": [
      "5개의 문서가 성공적으로 벡터 저장소에 추가되었습니다.\n",
      "['DOC_1', 'DOC_2', 'DOC_3', 'DOC_4', 'DOC_5']\n"
     ]
    }
   ],
   "source": [
    "from langchain_core.documents import Document\n",
    "\n",
    "# 문서 컬렉션\n",
    "documents = [\n",
    "    \"인공지능은 컴퓨터 과학의 한 분야입니다.\",\n",
    "    \"머신러닝은 인공지능의 하위 분야입니다.\",\n",
    "    \"딥러닝은 머신러닝의 한 종류입니다.\",\n",
    "    \"자연어 처리는 컴퓨터가 인간의 언어를 이해하고 생성하는 기술입니다.\",\n",
    "    \"컴퓨터 비전은 컴퓨터가 디지털 이미지나 비디오를 이해하는 방법을 연구합니다.\"\n",
    "]\n",
    "\n",
    "# Document 객체 생성\n",
    "doc_objects = []\n",
    "for i, content in enumerate(documents, start=1):\n",
    "    doc = Document(\n",
    "        page_content=content,\n",
    "        metadata={\"source\":\"AI_textbook\", \"chapter\": f\"Chapter {i}\"},\n",
    "    )\n",
    "    doc_objects.append(doc)\n",
    "\n",
    "# 순차적 ID 리스트 생성\n",
    "doc_ids = [f\"DOC_{i}\" for i in range(1, len(doc_objects) + 1)]\n",
    "\n",
    "# 문서를 벡터 저장소에 저장\n",
    "added_doc_ids = chroma_db.add_documents(documents=doc_objects, ids=doc_ids)\n",
    "\n",
    "# 벡터 저장소에 저장된 문서를 확인\n",
    "print(f\"{len(added_doc_ids)}개의 문서가 성공적으로 벡터 저장소에 추가되었습니다.\")\n",
    "print(added_doc_ids)"
   ]
  },
  {
   "cell_type": "code",
   "execution_count": 7,
   "id": "8d28387c",
   "metadata": {},
   "outputs": [
    {
     "name": "stdout",
     "output_type": "stream",
     "text": [
      "\n",
      "쿼리: 인공지능과 머신러닝의 관계는?\n",
      "가장 유사한 문서:\n",
      "- 머신러닝은 인공지능의 하위 분야입니다. [출처: AI_textbook, Chapter 2]\n",
      "- 딥러닝은 머신러닝의 한 종류입니다. [출처: AI_textbook, Chapter 3]\n"
     ]
    }
   ],
   "source": [
    "# 저장된 문서 검색\n",
    "query = \"인공지능과 머신러닝의 관계는?\"\n",
    "results = chroma_db.similarity_search(query, k=2)\n",
    "\n",
    "print(f\"\\n쿼리: {query}\")\n",
    "print(\"가장 유사한 문서:\")\n",
    "for doc in results:\n",
    "    print(f\"- {doc.page_content} [출처: {doc.metadata['source']}, {doc.metadata['chapter']}]\")"
   ]
  },
  {
   "cell_type": "code",
   "execution_count": 6,
   "id": "c1671f31",
   "metadata": {},
   "outputs": [
    {
     "data": {
      "text/plain": [
       "{'ids': ['DOC_1', 'DOC_2', 'DOC_3', 'DOC_4', 'DOC_5'],\n",
       " 'embeddings': None,\n",
       " 'documents': ['인공지능은 컴퓨터 과학의 한 분야입니다.',\n",
       "  '머신러닝은 인공지능의 하위 분야입니다.',\n",
       "  '딥러닝은 머신러닝의 한 종류입니다.',\n",
       "  '자연어 처리는 컴퓨터가 인간의 언어를 이해하고 생성하는 기술입니다.',\n",
       "  '컴퓨터 비전은 컴퓨터가 디지털 이미지나 비디오를 이해하는 방법을 연구합니다.'],\n",
       " 'uris': None,\n",
       " 'data': None,\n",
       " 'metadatas': [{'chapter': 'Chapter 1', 'source': 'AI_textbook'},\n",
       "  {'chapter': 'Chapter 2', 'source': 'AI_textbook'},\n",
       "  {'chapter': 'Chapter 3', 'source': 'AI_textbook'},\n",
       "  {'chapter': 'Chapter 4', 'source': 'AI_textbook'},\n",
       "  {'chapter': 'Chapter 5', 'source': 'AI_textbook'}],\n",
       " 'included': [<IncludeEnum.documents: 'documents'>,\n",
       "  <IncludeEnum.metadatas: 'metadatas'>]}"
      ]
     },
     "execution_count": 6,
     "metadata": {},
     "output_type": "execute_result"
    }
   ],
   "source": [
    "# 현재 저장된 컬렉션 데이터 확인\n",
    "chroma_db.get()"
   ]
  },
  {
   "cell_type": "markdown",
   "id": "b7afc913",
   "metadata": {},
   "source": [
    "- 문서 수정: `vector_store.update_document(document_id, document)`"
   ]
  },
  {
   "cell_type": "code",
   "execution_count": 8,
   "id": "6690acc8",
   "metadata": {},
   "outputs": [
    {
     "name": "stderr",
     "output_type": "stream",
     "text": [
      "Failed to send telemetry event CollectionUpdateEvent: capture() takes 1 positional argument but 3 were given\n"
     ]
    },
    {
     "name": "stdout",
     "output_type": "stream",
     "text": [
      "문서 업데이트 완료\n"
     ]
    }
   ],
   "source": [
    "# 업데이트할 문서 생성\n",
    "updated_document_1 = Document(\n",
    "    page_content=\"인공지능은 컴퓨터 과학의 핵심 분야 중 하나로, 기계학습과 딥러닝을 포함합니다.\",\n",
    "    metadata={\"source\": \"AI_textbook\", \"chapter\": \"Chapter 1\"},\n",
    ")\n",
    "\n",
    "updated_document_2 = Document(\n",
    "    page_content=\"머신러닝은 데이터로부터 학습하여 예측과 결정을 내리는 인공지능의 하위 분야입니다.\",\n",
    "    metadata={\"source\": \"AI_textbook\", \"chapter\": \"Chapter 2\"},\n",
    ")\n",
    "\n",
    "updated_document_3 = Document(\n",
    "    page_content=\"딥러닝은 머신러닝의 한 종류로, 심층 신경망을 사용하여 학습합니다.\",\n",
    "    metadata={\"source\": \"AI_textbook\", \"chapter\": \"Chapter 3\"},\n",
    ")\n",
    "\n",
    "\n",
    "# 단일 문서 업데이트\n",
    "chroma_db.update_document(document_id=\"DOC_1\", document=updated_document_1)\n",
    "\n",
    "# 여러 문서 한 번에 업데이트\n",
    "chroma_db.update_documents(ids=[\"DOC_2\", \"DOC_3\"], documents=[updated_document_2, updated_document_3])\n",
    "\n",
    "print(\"문서 업데이트 완료\")"
   ]
  },
  {
   "cell_type": "code",
   "execution_count": 9,
   "id": "783c5317",
   "metadata": {},
   "outputs": [
    {
     "name": "stderr",
     "output_type": "stream",
     "text": [
      "Failed to send telemetry event CollectionQueryEvent: capture() takes 1 positional argument but 3 were given\n"
     ]
    },
    {
     "name": "stdout",
     "output_type": "stream",
     "text": [
      "\n",
      "쿼리: 인공지능과 머신러닝의 관계는?\n",
      "가장 유사한 문서:\n",
      "- 머신러닝은 데이터로부터 학습하여 예측과 결정을 내리는 인공지능의 하위 분야입니다. [출처: AI_textbook, Chapter 2]\n",
      "- 인공지능은 컴퓨터 과학의 핵심 분야 중 하나로, 기계학습과 딥러닝을 포함합니다. [출처: AI_textbook, Chapter 1]\n"
     ]
    }
   ],
   "source": [
    "# 저장된 문서 검색 예시\n",
    "query = \"인공지능과 머신러닝의 관계는?\"\n",
    "results = chroma_db.similarity_search(query, k=2)\n",
    "\n",
    "print(f\"\\n쿼리: {query}\")\n",
    "print(\"가장 유사한 문서:\")\n",
    "for doc in results:\n",
    "    print(f\"- {doc.page_content} [출처: {doc.metadata['source']}, {doc.metadata['chapter']}]\")"
   ]
  },
  {
   "cell_type": "markdown",
   "id": "36e86775",
   "metadata": {},
   "source": [
    "- 문서 삭제: `vector_store.delete(ids)`"
   ]
  },
  {
   "cell_type": "code",
   "execution_count": 10,
   "id": "e7f006dc",
   "metadata": {},
   "outputs": [
    {
     "name": "stderr",
     "output_type": "stream",
     "text": [
      "Failed to send telemetry event CollectionDeleteEvent: capture() takes 1 positional argument but 3 were given\n"
     ]
    }
   ],
   "source": [
    "chroma_db.delete(ids=[\"DOC_5\"])"
   ]
  },
  {
   "cell_type": "code",
   "execution_count": 11,
   "id": "532fa81d",
   "metadata": {},
   "outputs": [
    {
     "data": {
      "text/plain": [
       "{'ids': ['DOC_1', 'DOC_2', 'DOC_3', 'DOC_4'],\n",
       " 'embeddings': None,\n",
       " 'documents': ['인공지능은 컴퓨터 과학의 핵심 분야 중 하나로, 기계학습과 딥러닝을 포함합니다.',\n",
       "  '머신러닝은 데이터로부터 학습하여 예측과 결정을 내리는 인공지능의 하위 분야입니다.',\n",
       "  '딥러닝은 머신러닝의 한 종류로, 심층 신경망을 사용하여 학습합니다.',\n",
       "  '자연어 처리는 컴퓨터가 인간의 언어를 이해하고 생성하는 기술입니다.'],\n",
       " 'uris': None,\n",
       " 'data': None,\n",
       " 'metadatas': [{'chapter': 'Chapter 1', 'source': 'AI_textbook'},\n",
       "  {'chapter': 'Chapter 2', 'source': 'AI_textbook'},\n",
       "  {'chapter': 'Chapter 3', 'source': 'AI_textbook'},\n",
       "  {'chapter': 'Chapter 4', 'source': 'AI_textbook'}],\n",
       " 'included': [<IncludeEnum.documents: 'documents'>,\n",
       "  <IncludeEnum.metadatas: 'metadatas'>]}"
      ]
     },
     "execution_count": 11,
     "metadata": {},
     "output_type": "execute_result"
    }
   ],
   "source": [
    "# 컬렉션 확인\n",
    "chroma_db.get()"
   ]
  },
  {
   "cell_type": "markdown",
   "id": "32c52c55",
   "metadata": {},
   "source": [
    "`(3) 문서 검색`  "
   ]
  },
  {
   "cell_type": "markdown",
   "id": "f057e97b",
   "metadata": {},
   "source": [
    "- 유사도 검색\n",
    "    - 주어진 쿼리와 가장 유사한 문서를 반환\n",
    "    -  k=2는 상위 2개의 결과를 반환하도록 지정\n",
    "    - filter를 사용하여 특정 출처의 문서만 검색 가능"
   ]
  },
  {
   "cell_type": "code",
   "execution_count": 13,
   "id": "f1705538",
   "metadata": {},
   "outputs": [
    {
     "name": "stdout",
     "output_type": "stream",
     "text": [
      "유사도 검색 결과:\n",
      "- 머신러닝은 데이터로부터 학습하여 예측과 결정을 내리는 인공지능의 하위 분야입니다. [출처: AI_textbook, Chapter 2]\n",
      "- 인공지능은 컴퓨터 과학의 핵심 분야 중 하나로, 기계학습과 딥러닝을 포함합니다. [출처: AI_textbook, Chapter 1]\n"
     ]
    }
   ],
   "source": [
    "query = \"인공지능과 머신러닝의 차이점은 무엇인가요?\"\n",
    "results = chroma_db.similarity_search(\n",
    "    query,\n",
    "    k=2,\n",
    "    filter={\"source\": \"AI_textbook\"}\n",
    ")\n",
    "\n",
    "print(\"유사도 검색 결과:\")\n",
    "for doc in results:\n",
    "    print(f\"- {doc.page_content} [출처: {doc.metadata['source']}, {doc.metadata['chapter']}]\")"
   ]
  },
  {
   "cell_type": "markdown",
   "id": "aadac15f",
   "metadata": {},
   "source": [
    "- 유사도 점수가 포함된 검색\n",
    "    - 유사도 점수를 함께 반환\n",
    "    - 점수가 낮을수록 더 유사한 것을 의미 (거리 기준으로 점수가 산정되기 때문)"
   ]
  },
  {
   "cell_type": "code",
   "execution_count": 14,
   "id": "f5862d62",
   "metadata": {},
   "outputs": [
    {
     "name": "stdout",
     "output_type": "stream",
     "text": [
      "점수가 포함된 유사도 검색 결과:\n",
      "\n",
      "- 점수: 0.5772\n",
      "  내용: 딥러닝은 머신러닝의 한 종류로, 심층 신경망을 사용하여 학습합니다.\n",
      "  [출처: AI_textbook, Chapter 3]\n",
      "\n",
      "- 점수: 0.7292\n",
      "  내용: 인공지능은 컴퓨터 과학의 핵심 분야 중 하나로, 기계학습과 딥러닝을 포함합니다.\n",
      "  [출처: AI_textbook, Chapter 1]\n",
      "\n"
     ]
    }
   ],
   "source": [
    "query = \"딥러닝은 어떤 분야에서 사용되나요?\"\n",
    "results = chroma_db.similarity_search_with_score(\n",
    "    query,\n",
    "    k=2,\n",
    "    filter={\"source\": \"AI_textbook\"}\n",
    ")\n",
    "\n",
    "print(\"점수가 포함된 유사도 검색 결과:\\n\")\n",
    "for doc, score in results:\n",
    "    print(f\"- 점수: {score:.4f}\")\n",
    "    print(f\"  내용: {doc.page_content}\")\n",
    "    print(f\"  [출처: {doc.metadata['source']}, {doc.metadata['chapter']}]\")\n",
    "    print()"
   ]
  },
  {
   "cell_type": "markdown",
   "id": "5564e3cb",
   "metadata": {},
   "source": [
    "- 관련성 점수가 포함된 검색\n",
    "    - 문서와 함께 0에서 1 사이의 관련성 점수를 반환\n",
    "    - 0은 가장 관련성이 낮고, 1은 가장 관련성이 높음을 의미"
   ]
  },
  {
   "cell_type": "code",
   "execution_count": 15,
   "id": "85309681",
   "metadata": {},
   "outputs": [
    {
     "name": "stdout",
     "output_type": "stream",
     "text": [
      "쿼리: 딥러닝은 어떤 분야에서 사용되나요?\n",
      "\n",
      "검색 결과 (관련성 점수 포함):\n",
      "- 관련성 점수: 0.5919\n",
      "  내용: 딥러닝은 머신러닝의 한 종류로, 심층 신경망을 사용하여 학습합니다.\n",
      "  [출처: AI_textbook, Chapter 3]\n",
      "\n",
      "- 관련성 점수: 0.4844\n",
      "  내용: 인공지능은 컴퓨터 과학의 핵심 분야 중 하나로, 기계학습과 딥러닝을 포함합니다.\n",
      "  [출처: AI_textbook, Chapter 1]\n",
      "\n"
     ]
    }
   ],
   "source": [
    "query = \"딥러닝은 어떤 분야에서 사용되나요?\"\n",
    "results = chroma_db.similarity_search_with_relevance_scores(\n",
    "    query,\n",
    "    k=2,\n",
    "    filter={\"source\": \"AI_textbook\"}\n",
    ")\n",
    "\n",
    "print(f\"쿼리: {query}\")\n",
    "print(\"\\n검색 결과 (관련성 점수 포함):\")\n",
    "for doc, score in results:\n",
    "    print(f\"- 관련성 점수: {score:.4f}\")\n",
    "    print(f\"  내용: {doc.page_content}\")\n",
    "    print(f\"  [출처: {doc.metadata['source']}, {doc.metadata['chapter']}]\")\n",
    "    print()"
   ]
  },
  {
   "cell_type": "markdown",
   "id": "f21c61a6",
   "metadata": {},
   "source": [
    "`(4) 벡터 저장소 로드`  "
   ]
  },
  {
   "cell_type": "code",
   "execution_count": 16,
   "id": "2d89ec8c",
   "metadata": {},
   "outputs": [],
   "source": [
    "chroma_db2 = Chroma(\n",
    "    collection_name=\"ai_smaple_collection\",\n",
    "    embedding_function=embeddings_model,\n",
    "    persist_directory=\"./chroma_db\",\n",
    ")"
   ]
  },
  {
   "cell_type": "code",
   "execution_count": 17,
   "id": "fba19e70",
   "metadata": {},
   "outputs": [
    {
     "name": "stdout",
     "output_type": "stream",
     "text": [
      "쿼리: 딥러닝은 어떤 분야에서 사용되나요?\n",
      "\n",
      "검색 결과 (관련성 점수 포함):\n",
      "- 관련성 점수: 0.5919\n",
      "  내용: 딥러닝은 머신러닝의 한 종류로, 심층 신경망을 사용하여 학습합니다.\n",
      "  [출처: AI_textbook, Chapter 3]\n",
      "\n",
      "- 관련성 점수: 0.4844\n",
      "  내용: 인공지능은 컴퓨터 과학의 핵심 분야 중 하나로, 기계학습과 딥러닝을 포함합니다.\n",
      "  [출처: AI_textbook, Chapter 1]\n",
      "\n"
     ]
    }
   ],
   "source": [
    "# 미리 임베딩된 쿼리 벡터를 사용하여 검색\n",
    "query = \"딥러닝은 어떤 분야에서 사용되나요?\"\n",
    "results = chroma_db2.similarity_search_with_relevance_scores(\n",
    "    query,\n",
    "    k=2,\n",
    "    filter={\"source\": \"AI_textbook\"}\n",
    ")\n",
    "\n",
    "print(f\"쿼리: {query}\")\n",
    "print(\"\\n검색 결과 (관련성 점수 포함):\")\n",
    "for doc, score in results:\n",
    "    print(f\"- 관련성 점수: {score:.4f}\")\n",
    "    print(f\"  내용: {doc.page_content}\")\n",
    "    print(f\"  [출처: {doc.metadata['source']}, {doc.metadata['chapter']}]\")\n",
    "    print()"
   ]
  },
  {
   "cell_type": "markdown",
   "id": "80551893",
   "metadata": {},
   "source": [
    "### 2.2 FAISS(Facebook AI Similarity Search)\n",
    "\n",
    "- 효율적인 벡터 유사도 검색 및 클러스터링을 위한 오픈소스 벡터 저장소 \n",
    "- `faiss-cpu` 패키지 설치"
   ]
  },
  {
   "cell_type": "markdown",
   "id": "f35ecb88",
   "metadata": {},
   "source": [
    "`(1) 벡터 저장소 초기화`"
   ]
  },
  {
   "cell_type": "code",
   "execution_count": 12,
   "id": "392cd940",
   "metadata": {},
   "outputs": [
    {
     "name": "stdout",
     "output_type": "stream",
     "text": [
      "FAISS 인덱스 초기화 완료\n"
     ]
    }
   ],
   "source": [
    "# 벡터 저장소에 문서를 저장할 때 적용할 임베딩 모델\n",
    "from langchain_huggingface.embeddings import HuggingFaceEmbeddings\n",
    "embeddings_model = HuggingFaceEmbeddings(model_name=\"BAAI/bge-m3\")\n",
    "\n",
    "# 벡터 저장소 생성\n",
    "import faiss\n",
    "from langchain_community.docstore.in_memory import InMemoryDocstore\n",
    "from langchain_community.vectorstores import FAISS\n",
    "\n",
    "# FAISS 인덱스 초기화 (유클리드 거리 사용)\n",
    "faiss_index = faiss.IndexFlatL2(len(embeddings_model.embed_query(\"hello world\")))\n",
    "print(\"FAISS 인덱스 초기화 완료\")"
   ]
  },
  {
   "cell_type": "code",
   "execution_count": 19,
   "id": "cc3e9a30",
   "metadata": {},
   "outputs": [
    {
     "data": {
      "text/plain": [
       "1024"
      ]
     },
     "execution_count": 19,
     "metadata": {},
     "output_type": "execute_result"
    }
   ],
   "source": [
    "# FAISS 벡터 저장소의 벡터 차원 수 (임베딩 차원 수)\n",
    "faiss_index.d"
   ]
  },
  {
   "cell_type": "code",
   "execution_count": 14,
   "id": "2ed65547",
   "metadata": {},
   "outputs": [
    {
     "data": {
      "text/plain": [
       "0"
      ]
     },
     "execution_count": 14,
     "metadata": {},
     "output_type": "execute_result"
    }
   ],
   "source": [
    "# FAISS 벡터 저장소 생성\n",
    "faiss_db = FAISS(\n",
    "    embedding_function=embeddings_model,\n",
    "    index=faiss_index,\n",
    "    docstore=InMemoryDocstore(),\n",
    "    index_to_docstore_id={},\n",
    ")\n",
    "# 저장된 문서의 갯수 확인\n",
    "faiss_db.index.ntotal"
   ]
  },
  {
   "cell_type": "markdown",
   "id": "fc1690c0",
   "metadata": {},
   "source": [
    "`(2) 벡터 저장소 관리`  "
   ]
  },
  {
   "cell_type": "markdown",
   "id": "0bf59cf4",
   "metadata": {},
   "source": [
    "- 문서 추가: `vector_store.add_documents(documents, ids)`"
   ]
  },
  {
   "cell_type": "code",
   "execution_count": 15,
   "id": "3ce50ab8",
   "metadata": {},
   "outputs": [
    {
     "name": "stdout",
     "output_type": "stream",
     "text": [
      "5개의 문서가 성공적으로 벡터 저장소에 추가되었습니다.\n",
      "['DOC_1', 'DOC_2', 'DOC_3', 'DOC_4', 'DOC_5']\n"
     ]
    }
   ],
   "source": [
    "from langchain_core.documents import Document\n",
    "\n",
    "# 문서 컬렉션\n",
    "documents = [\n",
    "    \"인공지능은 컴퓨터 과학의 한 분야입니다.\",\n",
    "    \"머신러닝은 인공지능의 하위 분야입니다.\",\n",
    "    \"딥러닝은 머신러닝의 한 종류입니다.\",\n",
    "    \"자연어 처리는 컴퓨터가 인간의 언어를 이해하고 생성하는 기술입니다.\",\n",
    "    \"컴퓨터 비전은 컴퓨터가 디지털 이미지나 비디오를 이해하는 방법을 연구합니다.\"\n",
    "]\n",
    "\n",
    "# Document 객체 생성\n",
    "doc_objects = []\n",
    "for i, content in enumerate(documents, start=1):\n",
    "    doc = Document(\n",
    "        page_content=content,\n",
    "        metadata={\"source\": \"AI_textbook\", \"chapter\": f\"Chapter {i}\"},\n",
    "    )\n",
    "    doc_objects.append(doc)\n",
    "\n",
    "\n",
    "# 순차적 ID 리스트 생성\n",
    "doc_ids = [f\"DOC_{i}\" for i in range(1, len(doc_objects) + 1)]\n",
    "\n",
    "# 문서를 벡터 저장소에 저장\n",
    "added_doc_ids = faiss_db.add_documents(documents=doc_objects, ids=doc_ids)\n",
    "\n",
    "# 벡터 저장소에 저장된 문서를 확인\n",
    "print(f\"{len(added_doc_ids)}개의 문서가 성공적으로 벡터 저장소에 추가되었습니다.\")\n",
    "print(added_doc_ids)"
   ]
  },
  {
   "cell_type": "code",
   "execution_count": 16,
   "id": "c16ef7aa",
   "metadata": {},
   "outputs": [
    {
     "data": {
      "text/plain": [
       "5"
      ]
     },
     "execution_count": 16,
     "metadata": {},
     "output_type": "execute_result"
    }
   ],
   "source": [
    "# 저장된 문서의 갯수 확인\n",
    "faiss_db.index.ntotal"
   ]
  },
  {
   "cell_type": "markdown",
   "id": "a5f41f02",
   "metadata": {},
   "source": [
    "- 문서 삭제: `vector_store.delete(ids)`"
   ]
  },
  {
   "cell_type": "code",
   "execution_count": 23,
   "id": "572dd45b",
   "metadata": {},
   "outputs": [
    {
     "data": {
      "text/plain": [
       "True"
      ]
     },
     "execution_count": 23,
     "metadata": {},
     "output_type": "execute_result"
    }
   ],
   "source": [
    "faiss_db.delete(ids=[\"DOC_5\"])"
   ]
  },
  {
   "cell_type": "code",
   "execution_count": 17,
   "id": "de547f29",
   "metadata": {},
   "outputs": [
    {
     "data": {
      "text/plain": [
       "5"
      ]
     },
     "execution_count": 17,
     "metadata": {},
     "output_type": "execute_result"
    }
   ],
   "source": [
    "# 컬렉션 확인\n",
    "faiss_db.index.ntotal"
   ]
  },
  {
   "cell_type": "markdown",
   "id": "6187ee82",
   "metadata": {},
   "source": [
    "`(3) 문서 검색`  "
   ]
  },
  {
   "cell_type": "markdown",
   "id": "fb24f7fb",
   "metadata": {},
   "source": [
    "- 유사도 검색\n",
    "    - 주어진 쿼리와 가장 유사한 문서를 반환\n",
    "    - k=2는 상위 2개의 결과를 반환하도록 지정\n",
    "    - filter를 사용하여 특정 출처의 문서만 검색 가능"
   ]
  },
  {
   "cell_type": "code",
   "execution_count": 25,
   "id": "b3c30909",
   "metadata": {},
   "outputs": [
    {
     "name": "stdout",
     "output_type": "stream",
     "text": [
      "유사도 검색 결과:\n",
      "- 머신러닝은 인공지능의 하위 분야입니다. [출처: AI_textbook, Chapter 2]\n",
      "- 딥러닝은 머신러닝의 한 종류입니다. [출처: AI_textbook, Chapter 3]\n"
     ]
    }
   ],
   "source": [
    "query = \"인공지능과 머신러닝의 차이점은 무엇인가요?\"\n",
    "results = faiss_db.similarity_search(\n",
    "    query,\n",
    "    k=2,\n",
    "    filter={\"source\": \"AI_textbook\"}\n",
    ")\n",
    "\n",
    "print(\"유사도 검색 결과:\")\n",
    "for doc in results:\n",
    "    print(f\"- {doc.page_content} [출처: {doc.metadata['source']}, {doc.metadata['chapter']}]\")"
   ]
  },
  {
   "cell_type": "markdown",
   "id": "ab435b13",
   "metadata": {},
   "source": [
    "- 유사도 점수가 포함된 검색\n",
    "    - 유사도 점수를 함께 반환\n",
    "    - 점수가 낮을수록 더 유사한 것을 의미"
   ]
  },
  {
   "cell_type": "code",
   "execution_count": 26,
   "id": "6d4f9a64",
   "metadata": {},
   "outputs": [
    {
     "name": "stdout",
     "output_type": "stream",
     "text": [
      "점수가 포함된 유사도 검색 결과:\n",
      "\n",
      "- 점수: 0.6517\n",
      "  내용: 딥러닝은 머신러닝의 한 종류입니다.\n",
      "  [출처: AI_textbook, Chapter 3]\n",
      "\n",
      "- 점수: 0.8442\n",
      "  내용: 머신러닝은 인공지능의 하위 분야입니다.\n",
      "  [출처: AI_textbook, Chapter 2]\n",
      "\n"
     ]
    }
   ],
   "source": [
    "query = \"딥러닝은 어떤 분야에서 사용되나요?\"\n",
    "results = faiss_db.similarity_search_with_score(\n",
    "    query,\n",
    "    k=2,\n",
    "    filter={\"source\": \"AI_textbook\"}\n",
    ")\n",
    "\n",
    "print(\"점수가 포함된 유사도 검색 결과:\\n\")\n",
    "for doc, score in results:\n",
    "    print(f\"- 점수: {score:.4f}\")\n",
    "    print(f\"  내용: {doc.page_content}\")\n",
    "    print(f\"  [출처: {doc.metadata['source']}, {doc.metadata['chapter']}]\")\n",
    "    print()"
   ]
  },
  {
   "cell_type": "markdown",
   "id": "90dc4a46",
   "metadata": {},
   "source": [
    "- 관련성 점수가 포함된 검색\n",
    "    - 문서와 함께 0에서 1 사이의 관련성 점수를 반환\n",
    "    - 0은 가장 관련성이 낮고, 1은 가장 관련성이 높음을 의미"
   ]
  },
  {
   "cell_type": "code",
   "execution_count": 27,
   "id": "3e35b303",
   "metadata": {},
   "outputs": [
    {
     "name": "stdout",
     "output_type": "stream",
     "text": [
      "쿼리: 딥러닝은 어떤 분야에서 사용되나요?\n",
      "\n",
      "검색 결과 (관련성 점수 포함):\n",
      "- 관련성 점수: 0.5392\n",
      "  내용: 딥러닝은 머신러닝의 한 종류입니다.\n",
      "  [출처: AI_textbook, Chapter 3]\n",
      "\n",
      "- 관련성 점수: 0.4031\n",
      "  내용: 머신러닝은 인공지능의 하위 분야입니다.\n",
      "  [출처: AI_textbook, Chapter 2]\n",
      "\n"
     ]
    }
   ],
   "source": [
    "query = \"딥러닝은 어떤 분야에서 사용되나요?\"\n",
    "results = faiss_db.similarity_search_with_relevance_scores(\n",
    "    query,\n",
    "    k=2,\n",
    "    filter={\"source\": \"AI_textbook\"}\n",
    ")\n",
    "\n",
    "print(f\"쿼리: {query}\")\n",
    "print(\"\\n검색 결과 (관련성 점수 포함):\")\n",
    "for doc, score in results:\n",
    "    print(f\"- 관련성 점수: {score:.4f}\")\n",
    "    print(f\"  내용: {doc.page_content}\")\n",
    "    print(f\"  [출처: {doc.metadata['source']}, {doc.metadata['chapter']}]\")\n",
    "    print()"
   ]
  },
  {
   "cell_type": "markdown",
   "id": "8f13e6f6",
   "metadata": {},
   "source": [
    "`(4) 로컬에 저장 및 로드`  "
   ]
  },
  {
   "cell_type": "code",
   "execution_count": 28,
   "id": "a781dfe0",
   "metadata": {},
   "outputs": [],
   "source": [
    "# 로컬에 저장\n",
    "faiss_db.save_local(\"faiss_ai_smaple_index\")"
   ]
  },
  {
   "cell_type": "code",
   "execution_count": 29,
   "id": "785ef1da",
   "metadata": {},
   "outputs": [],
   "source": [
    "# 로컬에 저장된 FAISS 벡터 저장소 불러오기\n",
    "faiss_db2 = FAISS.load_local(\n",
    "    \"faiss_ai_smaple_index\", embeddings_model, allow_dangerous_deserialization=True\n",
    ")"
   ]
  },
  {
   "cell_type": "code",
   "execution_count": 30,
   "id": "e5f2fbb1",
   "metadata": {},
   "outputs": [
    {
     "data": {
      "text/plain": [
       "{'DOC_1': Document(metadata={'source': 'AI_textbook', 'chapter': 'Chapter 1'}, page_content='인공지능은 컴퓨터 과학의 한 분야입니다.'),\n",
       " 'DOC_2': Document(metadata={'source': 'AI_textbook', 'chapter': 'Chapter 2'}, page_content='머신러닝은 인공지능의 하위 분야입니다.'),\n",
       " 'DOC_3': Document(metadata={'source': 'AI_textbook', 'chapter': 'Chapter 3'}, page_content='딥러닝은 머신러닝의 한 종류입니다.'),\n",
       " 'DOC_4': Document(metadata={'source': 'AI_textbook', 'chapter': 'Chapter 4'}, page_content='자연어 처리는 컴퓨터가 인간의 언어를 이해하고 생성하는 기술입니다.')}"
      ]
     },
     "execution_count": 30,
     "metadata": {},
     "output_type": "execute_result"
    }
   ],
   "source": [
    "# 저장된 문서 객체를 확인\n",
    "faiss_db2.docstore._dict"
   ]
  },
  {
   "cell_type": "code",
   "execution_count": 31,
   "id": "985146b9",
   "metadata": {},
   "outputs": [
    {
     "name": "stdout",
     "output_type": "stream",
     "text": [
      "쿼리: 딥러닝은 어떤 분야에서 사용되나요?\n",
      "\n",
      "검색 결과 (관련성 점수 포함):\n",
      "- 관련성 점수: 0.5392\n",
      "  내용: 딥러닝은 머신러닝의 한 종류입니다.\n",
      "  [출처: AI_textbook, Chapter 3]\n",
      "\n",
      "- 관련성 점수: 0.4031\n",
      "  내용: 머신러닝은 인공지능의 하위 분야입니다.\n",
      "  [출처: AI_textbook, Chapter 2]\n",
      "\n"
     ]
    }
   ],
   "source": [
    "query = \"딥러닝은 어떤 분야에서 사용되나요?\"\n",
    "results = faiss_db2.similarity_search_with_relevance_scores(\n",
    "    query,\n",
    "    k=2,\n",
    "    filter={\"source\": \"AI_textbook\"}\n",
    ")\n",
    "\n",
    "print(f\"쿼리: {query}\")\n",
    "print(\"\\n검색 결과 (관련성 점수 포함):\")\n",
    "for doc, score in results:\n",
    "    print(f\"- 관련성 점수: {score:.4f}\")\n",
    "    print(f\"  내용: {doc.page_content}\")\n",
    "    print(f\"  [출처: {doc.metadata['source']}, {doc.metadata['chapter']}]\")\n",
    "    print()"
   ]
  }
 ],
 "metadata": {
  "kernelspec": {
   "display_name": "langchain",
   "language": "python",
   "name": "python3"
  },
  "language_info": {
   "codemirror_mode": {
    "name": "ipython",
    "version": 3
   },
   "file_extension": ".py",
   "mimetype": "text/x-python",
   "name": "python",
   "nbconvert_exporter": "python",
   "pygments_lexer": "ipython3",
   "version": "3.11.13"
  }
 },
 "nbformat": 4,
 "nbformat_minor": 5
}
