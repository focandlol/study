{
 "cells": [
  {
   "cell_type": "markdown",
   "id": "9a898547",
   "metadata": {},
   "source": [
    "## 1. 환경 설정"
   ]
  },
  {
   "cell_type": "markdown",
   "id": "9e15f76c",
   "metadata": {},
   "source": [
    "`(1) Env 환경변수`"
   ]
  },
  {
   "cell_type": "code",
   "execution_count": 2,
   "id": "3f6d77f8",
   "metadata": {},
   "outputs": [
    {
     "data": {
      "text/plain": [
       "True"
      ]
     },
     "execution_count": 2,
     "metadata": {},
     "output_type": "execute_result"
    }
   ],
   "source": [
    "from dotenv import load_dotenv\n",
    "load_dotenv()"
   ]
  },
  {
   "cell_type": "markdown",
   "id": "0800c924",
   "metadata": {},
   "source": [
    "`(2) 기본 라이브러리`"
   ]
  },
  {
   "cell_type": "code",
   "execution_count": 3,
   "id": "bca641c2",
   "metadata": {},
   "outputs": [],
   "source": [
    "import os\n",
    "from glob import glob\n",
    "\n",
    "from pprint import pprint\n",
    "import json"
   ]
  },
  {
   "cell_type": "markdown",
   "id": "cee0237e",
   "metadata": {},
   "source": [
    "## 2. 다양한 문서 형식 처리하기"
   ]
  },
  {
   "cell_type": "markdown",
   "id": "26db4266",
   "metadata": {},
   "source": [
    "### 2.1 PDF 문서 "
   ]
  },
  {
   "cell_type": "code",
   "execution_count": 3,
   "id": "6650c629",
   "metadata": {},
   "outputs": [
    {
     "data": {
      "text/plain": [
       "15"
      ]
     },
     "execution_count": 3,
     "metadata": {},
     "output_type": "execute_result"
    }
   ],
   "source": [
    "from langchain_community.document_loaders import PyPDFLoader\n",
    "\n",
    "pdf_loader = PyPDFLoader(\"./data/transformer.pdf\")\n",
    "pdf_docs = pdf_loader.load()\n",
    "\n",
    "len(pdf_docs)"
   ]
  },
  {
   "cell_type": "code",
   "execution_count": 4,
   "id": "12d92305",
   "metadata": {},
   "outputs": [
    {
     "data": {
      "text/plain": [
       "list"
      ]
     },
     "execution_count": 4,
     "metadata": {},
     "output_type": "execute_result"
    }
   ],
   "source": [
    "type(pdf_docs)"
   ]
  },
  {
   "cell_type": "code",
   "execution_count": 5,
   "id": "6d23dd27",
   "metadata": {},
   "outputs": [
    {
     "data": {
      "text/plain": [
       "Document(metadata={'source': './data/transformer.pdf', 'page': 0}, page_content='Provided proper attribution is provided, Google hereby grants permission to\\nreproduce the tables and figures in this paper solely for use in journalistic or\\nscholarly works.\\nAttention Is All You Need\\nAshish Vaswani∗\\nGoogle Brain\\navaswani@google.comNoam Shazeer∗\\nGoogle Brain\\nnoam@google.comNiki Parmar∗\\nGoogle Research\\nnikip@google.comJakob Uszkoreit∗\\nGoogle Research\\nusz@google.com\\nLlion Jones∗\\nGoogle Research\\nllion@google.comAidan N. Gomez∗ †\\nUniversity of Toronto\\naidan@cs.toronto.eduŁukasz Kaiser∗\\nGoogle Brain\\nlukaszkaiser@google.com\\nIllia Polosukhin∗ ‡\\nillia.polosukhin@gmail.com\\nAbstract\\nThe dominant sequence transduction models are based on complex recurrent or\\nconvolutional neural networks that include an encoder and a decoder. The best\\nperforming models also connect the encoder and decoder through an attention\\nmechanism. We propose a new simple network architecture, the Transformer,\\nbased solely on attention mechanisms, dispensing with recurrence and convolutions\\nentirely. Experiments on two machine translation tasks show these models to\\nbe superior in quality while being more parallelizable and requiring significantly\\nless time to train. Our model achieves 28.4 BLEU on the WMT 2014 English-\\nto-German translation task, improving over the existing best results, including\\nensembles, by over 2 BLEU. On the WMT 2014 English-to-French translation task,\\nour model establishes a new single-model state-of-the-art BLEU score of 41.8 after\\ntraining for 3.5 days on eight GPUs, a small fraction of the training costs of the\\nbest models from the literature. We show that the Transformer generalizes well to\\nother tasks by applying it successfully to English constituency parsing both with\\nlarge and limited training data.\\n∗Equal contribution. Listing order is random. Jakob proposed replacing RNNs with self-attention and started\\nthe effort to evaluate this idea. Ashish, with Illia, designed and implemented the first Transformer models and\\nhas been crucially involved in every aspect of this work. Noam proposed scaled dot-product attention, multi-head\\nattention and the parameter-free position representation and became the other person involved in nearly every\\ndetail. Niki designed, implemented, tuned and evaluated countless model variants in our original codebase and\\ntensor2tensor. Llion also experimented with novel model variants, was responsible for our initial codebase, and\\nefficient inference and visualizations. Lukasz and Aidan spent countless long days designing various parts of and\\nimplementing tensor2tensor, replacing our earlier codebase, greatly improving results and massively accelerating\\nour research.\\n†Work performed while at Google Brain.\\n‡Work performed while at Google Research.\\n31st Conference on Neural Information Processing Systems (NIPS 2017), Long Beach, CA, USA.arXiv:1706.03762v7  [cs.CL]  2 Aug 2023')"
      ]
     },
     "execution_count": 5,
     "metadata": {},
     "output_type": "execute_result"
    }
   ],
   "source": [
    "pdf_docs[0]"
   ]
  },
  {
   "cell_type": "code",
   "execution_count": 6,
   "id": "a414b9ba",
   "metadata": {},
   "outputs": [
    {
     "name": "stdout",
     "output_type": "stream",
     "text": [
      "{'source': './data/transformer.pdf', 'page': 0}\n"
     ]
    }
   ],
   "source": [
    "print(pdf_docs[0].metadata)"
   ]
  },
  {
   "cell_type": "code",
   "execution_count": 7,
   "id": "d6d394f1",
   "metadata": {},
   "outputs": [
    {
     "name": "stdout",
     "output_type": "stream",
     "text": [
      "Provided proper attribution is provided, Google hereby grants permission to\n",
      "reproduce the tables and figures in this paper solely for use in journalistic or\n",
      "scholarly works.\n",
      "Attention Is All You Need\n",
      "Ashish Vaswani∗\n",
      "Google Brain\n",
      "avaswani@google.comNoam Shazeer∗\n",
      "Google Brain\n",
      "noam@google.comNiki Parmar∗\n",
      "Google Research\n",
      "nikip@google.comJakob Uszkoreit∗\n",
      "Google Research\n",
      "usz@google.com\n",
      "Llion Jones∗\n",
      "Google Research\n",
      "llion@google.comAidan N. Gomez∗ †\n",
      "University of Toronto\n",
      "aidan@cs.toronto.eduŁukasz Kaiser∗\n",
      "Google Brain\n",
      "lukaszkaiser@google.com\n",
      "Illia Polosukhin∗ ‡\n",
      "illia.polosukhin@gmail.com\n",
      "Abstract\n",
      "The dominant sequence transduction models are based on complex recurrent or\n",
      "convolutional neural networks that include an encoder and a decoder. The best\n",
      "performing models also connect the encoder and decoder through an attention\n",
      "mechanism. We propose a new simple network architecture, the Transformer,\n",
      "based solely on attention mechanisms, dispensing with recurrence and convolutions\n",
      "entirely. Experiments on two machine translation tasks show these models to\n",
      "be superior in quality while being more parallelizable and requiring significantly\n",
      "less time to train. Our model achieves 28.4 BLEU on the WMT 2014 English-\n",
      "to-German translation task, improving over the existing best results, including\n",
      "ensembles, by over 2 BLEU. On the WMT 2014 English-to-French translation task,\n",
      "our model establishes a new single-model state-of-the-art BLEU score of 41.8 after\n",
      "training for 3.5 days on eight GPUs, a small fraction of the training costs of the\n",
      "best models from the literature. We show that the Transformer generalizes well to\n",
      "other tasks by applying it successfully to English constituency parsing both with\n",
      "large and limited training data.\n",
      "∗Equal contribution. Listing order is random. Jakob proposed replacing RNNs with self-attention and started\n",
      "the effort to evaluate this idea. Ashish, with Illia, designed and implemented the first Transformer models and\n",
      "has been crucially involved in every aspect of this work. Noam proposed scaled dot-product attention, multi-head\n",
      "attention and the parameter-free position representation and became the other person involved in nearly every\n",
      "detail. Niki designed, implemented, tuned and evaluated countless model variants in our original codebase and\n",
      "tensor2tensor. Llion also experimented with novel model variants, was responsible for our initial codebase, and\n",
      "efficient inference and visualizations. Lukasz and Aidan spent countless long days designing various parts of and\n",
      "implementing tensor2tensor, replacing our earlier codebase, greatly improving results and massively accelerating\n",
      "our research.\n",
      "†Work performed while at Google Brain.\n",
      "‡Work performed while at Google Research.\n",
      "31st Conference on Neural Information Processing Systems (NIPS 2017), Long Beach, CA, USA.arXiv:1706.03762v7  [cs.CL]  2 Aug 2023\n"
     ]
    }
   ],
   "source": [
    "print(pdf_docs[0].page_content)"
   ]
  },
  {
   "cell_type": "markdown",
   "id": "6178f9a0",
   "metadata": {},
   "source": [
    "### 2.2 웹 문서 "
   ]
  },
  {
   "cell_type": "code",
   "execution_count": 8,
   "id": "7e8732bb",
   "metadata": {},
   "outputs": [
    {
     "name": "stderr",
     "output_type": "stream",
     "text": [
      "USER_AGENT environment variable not set, consider setting it to identify your requests.\n"
     ]
    },
    {
     "data": {
      "text/plain": [
       "2"
      ]
     },
     "execution_count": 8,
     "metadata": {},
     "output_type": "execute_result"
    }
   ],
   "source": [
    "from langchain_community.document_loaders import WebBaseLoader\n",
    "\n",
    "web_loader = WebBaseLoader([\"https://python.langchain.com/\", \"https://js.langchain.com/\"])\n",
    "\n",
    "web_docs = web_loader.load()\n",
    "\n",
    "len(web_docs)\n"
   ]
  },
  {
   "cell_type": "code",
   "execution_count": 9,
   "id": "64688c45",
   "metadata": {},
   "outputs": [
    {
     "data": {
      "text/plain": [
       "{'source': 'https://python.langchain.com/',\n",
       " 'title': 'Introduction | 🦜️🔗 LangChain',\n",
       " 'description': 'LangChain is a framework for developing applications powered by large language models (LLMs).',\n",
       " 'language': 'en'}"
      ]
     },
     "execution_count": 9,
     "metadata": {},
     "output_type": "execute_result"
    }
   ],
   "source": [
    "web_docs[0].metadata"
   ]
  },
  {
   "cell_type": "code",
   "execution_count": 10,
   "id": "451fda18",
   "metadata": {},
   "outputs": [
    {
     "name": "stdout",
     "output_type": "stream",
     "text": [
      "\n",
      "\n",
      "\n",
      "\n",
      "\n",
      "Introduction | 🦜️🔗 LangChain\n",
      "\n",
      "\n",
      "\n",
      "\n",
      "\n",
      "\n",
      "Skip to main contentOur Building Ambient Agents with LangGraph course is now available on LangChain Academy!IntegrationsAPI ReferenceMoreContributingPeopleError referenceLangSmithLangGraphLangChain HubLangChain JS/TSv0.3v0.3v0.2v0.1💬SearchIntroductionTutorialsBuild a Question Answering application over a Graph DatabaseTutorialsBuild a simple LLM application with chat models and prompt templatesBuild a ChatbotBuild a Retrieval Augmented Generation (RAG) App: Part 2Build an Extraction ChainBuild an AgentTaggingBuild a Retrieval Augmented Generation (RAG) App: Part 1Build a semantic search engineBuild a Question/Answering system over SQL dataSummarize TextHow-to guidesHow-to guidesHow to use tools in a chainHow to use a vectorstore as a retrieverHow to add memory to chatbotsHow to use example selectorsHow to add a semantic layer over graph databaseHow to invoke runnables in parallelHow to stream chat model responsesHow to add default invocation args to a RunnableHow to add retrieval to chatbotsHow to use few shot examples in chat modelsHow to do tool/function callingHow to install LangChain packagesHow to add examples to the prompt for query analysisHow to use few shot examplesHow to run custom functionsHow to use output parsers to parse an LLM response into structured formatHow to handle cases where no queries are generatedHow to route between sub-chainsHow to return structured data from a modelHow to summarize text through parallelizationHow to summarize text through iterative refinementHow to summarize text in a single LLM callHow to use toolkitsHow to add ad-hoc tool calling capability to LLMs and Chat ModelsBuild an Agent with AgentExecutor (Legacy)How to construct knowledge graphsHow to partially format prompt templatesHow to handle multiple queries when doing query analysisHow to use built-in tools and toolkitsHow to pass through arguments from one step to the nextHow to compose prompts togetherHow to handle multiple retrievers when doing query analysisHow to add values to a chain's stateHow to construct filters for query analysisHow to configure runtime chain internalsHow deal with high cardinality categoricals when doing query analysisCustom Document LoaderHow to use the MultiQueryRetrieverHow to add scores to retriever resultsCachingHow to use callbacks in async environmentsHow to attach callbacks to a runnableHow to propagate callbacks  constructorHow to dispatch custom callback eventsHow to pass callbacks in at runtimeHow to split by characterHow to cache chat model responsesHow to handle rate limitsHow to init any model in one lineHow to track token usage in ChatModelsHow to add tools to chatbotsHow to split codeHow to do retrieval with contextual compressionHow to convert Runnables to ToolsHow to create custom callback handlersHow to create a custom chat model classCustom EmbeddingsHow to create a custom LLM classCustom RetrieverHow to create toolsHow to debug your LLM appsHow to load CSVsHow to load documents from a directoryHow to load HTMLHow to load JSONHow to load MarkdownHow to load Microsoft Office filesHow to load PDFsHow to load web pagesHow to create a dynamic (self-constructing) chainText embedding modelsHow to combine results from multiple retrieversHow to select examples from a LangSmith datasetHow to select examples by lengthHow to select examples by maximal marginal relevance (MMR)How to select examples by n-gram overlapHow to select examples by similarityHow to use reference examples when doing extractionHow to handle long text when doing extractionHow to use prompting alone (no tool calling) to do extractionHow to add fallbacks to a runnableHow to filter messagesHybrid SearchHow to use the LangChain indexing APIHow to inspect runnablesLangChain Expression Language CheatsheetHow to cache LLM responsesHow to track token usage for LLMsRun models locallyHow to get log probabilitiesHow to reorder retrieved results to mitigate the \"lost in the middle\" effectHow to split Markdown by HeadersHow to merge consecutive messages of the same typeHow to add message historyHow to migrate from legacy LangChain agents to LangGraphHow to retrieve using multiple vectors per documentHow to pass multimodal data to modelsHow to use multimodal promptsHow to create a custom Output ParserHow to use the output-fixing parserHow to parse JSON outputHow to retry when a parsing error occursHow to parse text from message objectsHow to parse XML outputHow to parse YAML outputHow to use the Parent Document RetrieverHow to use LangChain with different Pydantic versionsHow to add chat historyHow to get a RAG application to add citationsHow to do per-user retrievalHow to get your RAG application to return sourcesHow to stream results from your RAG applicationHow to split JSON dataHow to recursively split text by charactersResponse metadataHow to pass runtime secrets to runnablesHow to do \"self-querying\" retrievalHow to split text based on semantic similarityHow to chain runnablesHow to save and load LangChain objectsHow to split text by tokensHow to split HTMLHow to do question answering over CSVsHow to deal with large databases when doing SQL question-answeringHow to better prompt when doing SQL question-answeringHow to do query validation as part of SQL question-answeringHow to stream runnablesHow to stream responses from an LLMHow to use a time-weighted vector store retrieverHow to return artifacts from a toolHow to use chat models to call toolsHow to disable parallel tool callingHow to force models to call a toolHow to access the RunnableConfig from a toolHow to pass tool outputs to chat modelsHow to pass run time values to toolsHow to stream events from a toolHow to stream tool callsHow to convert tools to OpenAI FunctionsHow to handle tool errorsHow to use few-shot prompting with tool callingHow to add a human-in-the-loop for toolsHow to bind model-specific toolsHow to trim messagesHow to create and query vector storesConceptual guideAgentsArchitectureAsync programming with langchainCallbacksChat historyChat modelsDocument loadersEmbedding modelsEvaluationExample selectorsFew-shot promptingConceptual guideKey-value storesLangChain Expression Language (LCEL)MessagesMultimodalityOutput parsersPrompt TemplatesRetrieval augmented generation (RAG)RetrievalRetrieversRunnable interfaceStreamingStructured outputsTestingString-in, string-out llmsText splittersTokensTool callingToolsTracingVector storesWhy LangChain?Ecosystem🦜🛠️ LangSmith🦜🕸️ LangGraphVersionsv0.3v0.2Pydantic compatibilityMigrating from v0.0 chainsHow to migrate from v0.0 chainsMigrating from ConstitutionalChainMigrating from ConversationalChainMigrating from ConversationalRetrievalChainMigrating from LLMChainMigrating from LLMMathChainMigrating from LLMRouterChainMigrating from MapReduceDocumentsChainMigrating from MapRerankDocumentsChainMigrating from MultiPromptChainMigrating from RefineDocumentsChainMigrating from RetrievalQAMigrating from StuffDocumentsChainUpgrading to LangGraph memoryHow to migrate to LangGraph memoryHow to use BaseChatMessageHistory with LangGraphMigrating off ConversationBufferMemory or ConversationStringBufferMemoryMigrating off ConversationBufferWindowMemory or ConversationTokenBufferMemoryMigrating off ConversationSummaryMemory or ConversationSummaryBufferMemoryA Long-Term Memory AgentRelease policySecurity PolicyIntroductionOn this pageIntroduction\n",
      "LangChain is a framework for developing applications powered by large language models (LLMs).\n",
      "LangChain simplifies every stage of the LLM application lifecycle:\n",
      "\n",
      "Development: Build your applications using LangChain's open-source components and third-party integrations.\n",
      "Use LangGraph to build stateful agents with first-class streaming and human-in-the-loop support.\n",
      "Productionization: Use LangSmith to inspect, monitor and evaluate your applications, so that you can continuously optimize and deploy with confidence.\n",
      "Deployment: Turn your LangGraph applications into production-ready APIs and Assistants with LangGraph Platform.\n",
      "\n",
      "\n",
      "\n",
      "LangChain implements a standard interface for large language models and related\n",
      "technologies, such as embedding models and vector stores, and integrates with\n",
      "hundreds of providers. See the integrations page for\n",
      "more.\n",
      "\n",
      "Select chat model:Google Gemini▾OpenAIAnthropicAzureGoogle GeminiGoogle VertexAWSGroqCohereNVIDIAFireworks AIMistral AITogether AIIBM watsonxDatabricksxAIPerplexitypip install -qU \"langchain[google-genai]\"import getpassimport osif not os.environ.get(\"GOOGLE_API_KEY\"):  os.environ[\"GOOGLE_API_KEY\"] = getpass.getpass(\"Enter API key for Google Gemini: \")from langchain.chat_models import init_chat_modelmodel = init_chat_model(\"gemini-2.0-flash\", model_provider=\"google_genai\")\n",
      "model.invoke(\"Hello, world!\")\n",
      "noteThese docs focus on the Python LangChain library. Head here for docs on the JavaScript LangChain library.\n",
      "Architecture​\n",
      "The LangChain framework consists of multiple open-source libraries. Read more in the\n",
      "Architecture page.\n",
      "\n",
      "langchain-core: Base abstractions for chat models and other components.\n",
      "Integration packages (e.g. langchain-openai, langchain-anthropic, etc.): Important integrations have been split into lightweight packages that are co-maintained by the LangChain team and the integration developers.\n",
      "langchain: Chains, agents, and retrieval strategies that make up an application's cognitive architecture.\n",
      "langchain-community: Third-party integrations that are community maintained.\n",
      "langgraph: Orchestration framework for combining LangChain components into production-ready applications with persistence, streaming, and other key features. See LangGraph documentation.\n",
      "\n",
      "Guides​\n",
      "Tutorials​\n",
      "If you're looking to build something specific or are more of a hands-on learner, check out our tutorials section.\n",
      "This is the best place to get started.\n",
      "These are the best ones to get started with:\n",
      "\n",
      "Build a Simple LLM Application\n",
      "Build a Chatbot\n",
      "Build an Agent\n",
      "Introduction to LangGraph\n",
      "\n",
      "Explore the full list of LangChain tutorials here, and check out other LangGraph tutorials here. To learn more about LangGraph, check out our first LangChain Academy course, Introduction to LangGraph, available here.\n",
      "How-to guides​\n",
      "Here you’ll find short answers to “How do I….?” types of questions.\n",
      "These how-to guides don’t cover topics in depth – you’ll find that material in the Tutorials and the API Reference.\n",
      "However, these guides will help you quickly accomplish common tasks using chat models,\n",
      "vector stores, and other common LangChain components.\n",
      "Check out LangGraph-specific how-tos here.\n",
      "Conceptual guide​\n",
      "Introductions to all the key parts of LangChain you’ll need to know! Here you'll find high level explanations of all LangChain concepts.\n",
      "For a deeper dive into LangGraph concepts, check out this page.\n",
      "Integrations​\n",
      "LangChain is part of a rich ecosystem of tools that integrate with our framework and build on top of it.\n",
      "If you're looking to get up and running quickly with chat models, vector stores,\n",
      "or other LangChain components from a specific provider, check out our growing list of integrations.\n",
      "API reference​\n",
      "Head to the reference section for full documentation of all classes and methods in the LangChain Python packages.\n",
      "Ecosystem​\n",
      "🦜🛠️ LangSmith​\n",
      "Trace and evaluate your language model applications and intelligent agents to help you move from prototype to production.\n",
      "🦜🕸️ LangGraph​\n",
      "Build stateful, multi-actor applications with LLMs. Integrates smoothly with LangChain, but can be used without it. LangGraph powers production-grade agents, trusted by Linkedin, Uber, Klarna, GitLab, and many more.\n",
      "Additional resources​\n",
      "Versions​\n",
      "See what changed in v0.3, learn how to migrate legacy code, read up on our versioning policies, and more.\n",
      "Security​\n",
      "Read up on security best practices to make sure you're developing safely with LangChain.\n",
      "Contributing​\n",
      "Check out the developer's guide for guidelines on contributing and help getting your dev environment set up.Edit this pageNextTutorialsArchitectureGuidesTutorialsHow-to guidesConceptual guideIntegrationsAPI referenceEcosystem🦜🛠️ LangSmith🦜🕸️ LangGraphAdditional resourcesVersionsSecurityContributingCommunityLangChain ForumTwitterGitHubOrganizationPythonJS/TSMoreHomepageBlogYouTubeCopyright © 2025 LangChain, Inc.\n",
      "\n",
      "\n"
     ]
    }
   ],
   "source": [
    "print(web_docs[0].page_content)"
   ]
  },
  {
   "cell_type": "markdown",
   "id": "8b473046",
   "metadata": {},
   "source": [
    "### 2.3 JSON 파일 "
   ]
  },
  {
   "cell_type": "code",
   "execution_count": 11,
   "id": "125d323f",
   "metadata": {},
   "outputs": [
    {
     "name": "stdout",
     "output_type": "stream",
     "text": [
      "문서의 수: 5\n",
      "--------------------------------------------------\n",
      "처음 문서의 메타데이터: \n",
      " {'source': 'C:\\\\Users\\\\1\\\\Desktop\\\\ggit\\\\study\\\\langchain\\\\data\\\\kakao_chat.json', 'seq_num': 1}\n",
      "--------------------------------------------------\n",
      "처음 문서의 내용: \n",
      " 안녕하세요 여러분, 오늘 회의 시간 확인차 연락드립니다.\n"
     ]
    }
   ],
   "source": [
    "from langchain_community.document_loaders import JSONLoader\n",
    "\n",
    "json_loader = JSONLoader(\n",
    "    file_path=\"./data/kakao_chat.json\",\n",
    "    jq_schema=\".messages[].content\",    # messages 배열의 content 필드만 추출\n",
    "    text_content=True,                  # 추출하려는 필드가 텍스트인지 여부\n",
    ")\n",
    "\n",
    "json_docs = json_loader.load()\n",
    "\n",
    "print(\"문서의 수:\", len(json_docs))\n",
    "print(\"-\" * 50)\n",
    "print(\"처음 문서의 메타데이터: \\n\", json_docs[0].metadata)\n",
    "print(\"-\" * 50)\n",
    "print(\"처음 문서의 내용: \\n\", json_docs[0].page_content)"
   ]
  },
  {
   "cell_type": "code",
   "execution_count": 12,
   "id": "3b6004a6",
   "metadata": {},
   "outputs": [
    {
     "name": "stdout",
     "output_type": "stream",
     "text": [
      "문서의 수: 5\n",
      "--------------------------------------------------\n",
      "처음 문서의 메타데이터: \n",
      " {'source': 'C:\\\\Users\\\\1\\\\Desktop\\\\ggit\\\\study\\\\langchain\\\\data\\\\kakao_chat.json', 'seq_num': 1}\n",
      "--------------------------------------------------\n",
      "처음 문서의 내용: \n",
      " {\"sender\": \"\\uae40\\ucca0\\uc218\", \"timestamp\": \"2023-09-15 09:30:22\", \"content\": \"\\uc548\\ub155\\ud558\\uc138\\uc694 \\uc5ec\\ub7ec\\ubd84, \\uc624\\ub298 \\ud68c\\uc758 \\uc2dc\\uac04 \\ud655\\uc778\\ucc28 \\uc5f0\\ub77d\\ub4dc\\ub9bd\\ub2c8\\ub2e4.\"}\n"
     ]
    }
   ],
   "source": [
    "from langchain_community.document_loaders import JSONLoader\n",
    "\n",
    "json_loader = JSONLoader(\n",
    "    file_path=\"./data/kakao_chat.json\",\n",
    "    jq_schema=\".messages[]\",    # messages 배열의 모든 아이템을 추출\n",
    "    text_content=False,          # 추출하려는 필드가 텍스트인지 여부\n",
    ")\n",
    "\n",
    "json_docs = json_loader.load()\n",
    "\n",
    "print(\"문서의 수:\", len(json_docs))\n",
    "print(\"-\" * 50)\n",
    "print(\"처음 문서의 메타데이터: \\n\", json_docs[0].metadata)\n",
    "print(\"-\" * 50)\n",
    "print(\"처음 문서의 내용: \\n\", json_docs[0].page_content)"
   ]
  },
  {
   "cell_type": "code",
   "execution_count": 13,
   "id": "6eafd1fb",
   "metadata": {},
   "outputs": [
    {
     "name": "stdout",
     "output_type": "stream",
     "text": [
      "문서의 수: 5\n",
      "--------------------------------------------------\n",
      "처음 문서의 메타데이터: \n",
      " {'source': 'C:\\\\Users\\\\1\\\\Desktop\\\\ggit\\\\study\\\\langchain\\\\data\\\\kakao_chat.json', 'seq_num': 1}\n",
      "--------------------------------------------------\n",
      "처음 문서의 내용: \n",
      " {\"sender\": \"김철수\", \"timestamp\": \"2023-09-15 09:30:22\", \"content\": \"안녕하세요 여러분, 오늘 회의 시간 확인차 연락드립니다.\"}\n"
     ]
    }
   ],
   "source": [
    "# 유니코드 디코딩 (한글 문자들이 유니코드 이스케이프 시퀀스로 인코딩되어 있음)\n",
    "from langchain_core.documents import Document\n",
    "\n",
    "decoded_json_docs = []\n",
    "for doc in json_docs:\n",
    "\n",
    "    decoded_data = json.loads(doc.page_content)\n",
    "\n",
    "    # decoded_json_docs.append({\n",
    "    #     \"metadata\": doc.metadata,\n",
    "    #     \"page_content\": json.dumps(decoded_data, ensure_ascii=False)\n",
    "    # })\n",
    "\n",
    "    document_obj = Document(page_content=json.dumps(decoded_data, ensure_ascii=False), metadata=doc.metadata)\n",
    "    decoded_json_docs.append(document_obj)\n",
    "\n",
    "print(\"문서의 수:\", len(decoded_json_docs))\n",
    "print(\"-\" * 50)\n",
    "# print(\"처음 문서의 메타데이터: \\n\", decoded_json_docs[0][\"metadata\"])\n",
    "print(\"처음 문서의 메타데이터: \\n\", decoded_json_docs[0].metadata)\n",
    "print(\"-\" * 50)\n",
    "# print(\"처음 문서의 내용: \\n\", decoded_json_docs[0][\"page_content\"])\n",
    "print(\"처음 문서의 내용: \\n\", decoded_json_docs[0].page_content)\n"
   ]
  },
  {
   "cell_type": "code",
   "execution_count": 14,
   "id": "c112cbea",
   "metadata": {},
   "outputs": [
    {
     "name": "stdout",
     "output_type": "stream",
     "text": [
      "문서의 수: 5\n",
      "--------------------------------------------------\n",
      "처음 문서의 메타데이터: \n",
      " {'source': 'C:\\\\Users\\\\1\\\\Desktop\\\\ggit\\\\study\\\\langchain\\\\data\\\\kakao_chat.json', 'seq_num': 1, 'sender': '김철수', 'timestamp': '2023-09-15 09:30:22'}\n",
      "--------------------------------------------------\n",
      "처음 문서의 내용: \n",
      " 안녕하세요 여러분, 오늘 회의 시간 확인차 연락드립니다.\n"
     ]
    }
   ],
   "source": [
    "# 메타데이터 추가하기\n",
    "def metadata_func(record: dict, metadata: dict) -> dict:\n",
    "    metadata[\"sender\"] = record.get(\"sender\")\n",
    "    metadata[\"timestamp\"] = record.get(\"timestamp\")\n",
    "    return metadata\n",
    "\n",
    "\n",
    "json_loader = JSONLoader(\n",
    "    file_path=\"./data/kakao_chat.json\",\n",
    "    jq_schema=\".messages[]\",\n",
    "    content_key=\"content\",\n",
    "    metadata_func=metadata_func,\n",
    ")\n",
    "\n",
    "json_docs = json_loader.load()\n",
    "\n",
    "print(\"문서의 수:\", len(json_docs))\n",
    "print(\"-\" * 50)\n",
    "print(\"처음 문서의 메타데이터: \\n\", json_docs[0].metadata)\n",
    "print(\"-\" * 50)\n",
    "print(\"처음 문서의 내용: \\n\", json_docs[0].page_content)"
   ]
  },
  {
   "cell_type": "markdown",
   "id": "ee0d5ede",
   "metadata": {},
   "source": [
    "```json\n",
    "{\"sender\": \"김철수\", \"timestamp\": \"2023-09-15 09:30:22\", \"content\": \"안녕하세요 여러분, 오늘 회의 시간 확인차 연락드립니다.\"}\n",
    "{\"sender\": \"이영희\", \"timestamp\": \"2023-09-15 09:31:05\", \"content\": \"네, 안녕하세요. 오후 2시에 하기로 했어요.\"}\n",
    "```"
   ]
  },
  {
   "cell_type": "code",
   "execution_count": 15,
   "id": "32253193",
   "metadata": {},
   "outputs": [
    {
     "name": "stdout",
     "output_type": "stream",
     "text": [
      "문서의 수: 5\n",
      "--------------------------------------------------\n",
      "처음 문서의 메타데이터: \n",
      " {'source': 'C:\\\\Users\\\\1\\\\Desktop\\\\ggit\\\\study\\\\langchain\\\\data\\\\kakao_chat.json', 'seq_num': 1, 'sender': '김철수', 'timestamp': '2023-09-15 09:30:22'}\n",
      "--------------------------------------------------\n",
      "처음 문서의 내용: \n",
      " 안녕하세요 여러분, 오늘 회의 시간 확인차 연락드립니다.\n"
     ]
    }
   ],
   "source": [
    "json_loader = JSONLoader(\n",
    "    file_path=\"./data/kakao_chat.jsonl\",\n",
    "    jq_schema=\".\",\n",
    "    content_key=\"content\",\n",
    "    json_lines=True\n",
    ")\n",
    "\n",
    "print(\"문서의 수:\", len(json_docs))\n",
    "print(\"-\" * 50)\n",
    "print(\"처음 문서의 메타데이터: \\n\", json_docs[0].metadata)\n",
    "print(\"-\" * 50)\n",
    "print(\"처음 문서의 내용: \\n\", json_docs[0].page_content)\n"
   ]
  },
  {
   "cell_type": "code",
   "execution_count": 16,
   "id": "9335e1f3",
   "metadata": {},
   "outputs": [
    {
     "name": "stdout",
     "output_type": "stream",
     "text": [
      "문서의 수: 5\n",
      "--------------------------------------------------\n",
      "처음 문서의 메타데이터: \n",
      " {'source': 'C:\\\\Users\\\\1\\\\Desktop\\\\ggit\\\\study\\\\langchain\\\\data\\\\kakao_chat.jsonl', 'seq_num': 1}\n",
      "--------------------------------------------------\n",
      "처음 문서의 내용: \n",
      " 안녕하세요 여러분, 오늘 회의 시간 확인차 연락드립니다.\n"
     ]
    }
   ],
   "source": [
    "# JSONL 파일 로드하기\n",
    "json_loader = JSONLoader(\n",
    "    file_path=\"./data/kakao_chat.jsonl\",\n",
    "    jq_schema=\".\",\n",
    "    content_key=\"content\",\n",
    "    json_lines=True,\n",
    ")\n",
    "\n",
    "json_docs = json_loader.load()\n",
    "\n",
    "print(\"문서의 수:\", len(json_docs))\n",
    "print(\"-\" * 50)\n",
    "print(\"처음 문서의 메타데이터: \\n\", json_docs[0].metadata)\n",
    "print(\"-\" * 50)\n",
    "print(\"처음 문서의 내용: \\n\", json_docs[0].page_content)\n"
   ]
  },
  {
   "cell_type": "code",
   "execution_count": 17,
   "id": "255e4ff1",
   "metadata": {},
   "outputs": [
    {
     "name": "stdout",
     "output_type": "stream",
     "text": [
      "문서의 수: 5\n",
      "--------------------------------------------------\n",
      "처음 문서의 메타데이터: \n",
      " {'source': 'C:\\\\Users\\\\1\\\\Desktop\\\\ggit\\\\study\\\\langchain\\\\data\\\\kakao_chat.jsonl', 'seq_num': 1, 'sender': '김철수', 'timestamp': '2023-09-15 09:30:22'}\n",
      "--------------------------------------------------\n",
      "처음 문서의 내용: \n",
      " 안녕하세요 여러분, 오늘 회의 시간 확인차 연락드립니다.\n"
     ]
    }
   ],
   "source": [
    "# 메타데이터 추가하기\n",
    "def metadata_func(record: dict, metadata: dict) -> dict:\n",
    "    metadata[\"sender\"] = record.get(\"sender\")\n",
    "    metadata[\"timestamp\"] = record.get(\"timestamp\")\n",
    "    return metadata\n",
    "\n",
    "json_loader = JSONLoader(\n",
    "    file_path=\"./data/kakao_chat.jsonl\",\n",
    "    jq_schema=\".\",\n",
    "    content_key=\"content\",\n",
    "    metadata_func=metadata_func,\n",
    "    json_lines=True,\n",
    ")\n",
    "\n",
    "json_docs = json_loader.load()\n",
    "\n",
    "print(\"문서의 수:\", len(json_docs))\n",
    "print(\"-\" * 50)\n",
    "print(\"처음 문서의 메타데이터: \\n\", json_docs[0].metadata)\n",
    "print(\"-\" * 50)\n",
    "print(\"처음 문서의 내용: \\n\", json_docs[0].page_content)"
   ]
  },
  {
   "cell_type": "markdown",
   "id": "c1ae07e1",
   "metadata": {},
   "source": [
    "### 2.4  CSV 문서 "
   ]
  },
  {
   "cell_type": "code",
   "execution_count": 18,
   "id": "ba7a8b7e",
   "metadata": {},
   "outputs": [
    {
     "name": "stdout",
     "output_type": "stream",
     "text": [
      "문서의 수: 10\n",
      "--------------------------------------------------\n",
      "처음 문서의 메타데이터: \n",
      " {'source': './data/kbo_teams_2023.csv', 'row': 0}\n",
      "--------------------------------------------------\n",
      "처음 문서의 내용: \n",
      "Team: 두산 베어스\n",
      "City: 서울\n",
      "Founded: 1982\n",
      "Home Stadium: 잠실야구장\n",
      "Championships: 6\n",
      "Introduction: 2015년부터 2019년까지 5년 연속 한국시리즈에 진출한 강팀이다. 김태형 감독 체제에서 체계적인 선수 육성으로 주목받았으며, 정수빈, 김재환 등 핵심 선수들의 활약이 돋보인다.\n"
     ]
    }
   ],
   "source": [
    "from langchain_community.document_loaders.csv_loader import CSVLoader\n",
    "\n",
    "csv_loader = CSVLoader(\"./data/kbo_teams_2023.csv\")\n",
    "csv_docs = csv_loader.load()\n",
    "\n",
    "print(\"문서의 수:\", len(csv_docs))\n",
    "print(\"-\" * 50)\n",
    "print(\"처음 문서의 메타데이터: \\n\", csv_docs[0].metadata)\n",
    "print(\"-\" * 50)\n",
    "print(\"처음 문서의 내용: \\n\" +  csv_docs[1].page_content)"
   ]
  },
  {
   "cell_type": "markdown",
   "id": "8aae49f4",
   "metadata": {},
   "source": [
    "## 3. 효과적인 텍스트 분할 전략"
   ]
  },
  {
   "cell_type": "markdown",
   "id": "7e7e0cf4",
   "metadata": {},
   "source": [
    "### 3-1 RecursiveCharacterTextSplitter"
   ]
  },
  {
   "cell_type": "code",
   "execution_count": 19,
   "id": "7dc4bc25",
   "metadata": {},
   "outputs": [
    {
     "name": "stdout",
     "output_type": "stream",
     "text": [
      "생성된 텍스트 청크 수: 52\n",
      "각 청크의 길이: [981, 910, 975, 451, 932, 998, 904, 907, 995, 385, 926, 953, 216, 920, 996, 829, 975, 910, 906, 870, 929, 961, 945, 997, 195, 977, 968, 947, 933, 965, 938, 915, 733, 952, 945, 948, 618, 980, 989, 994, 624, 945, 914, 946, 918, 988, 929, 929, 849, 812, 814, 817]\n"
     ]
    }
   ],
   "source": [
    "from langchain_text_splitters import RecursiveCharacterTextSplitter\n",
    "\n",
    "text_splitter = RecursiveCharacterTextSplitter(\n",
    "    chunk_size=1000,        # 청크 크기  \n",
    "    chunk_overlap=200,      # 청크 중 중복되는 부분 크기\n",
    "    length_function=len,    # 글자 수를 기준으로 분할\n",
    "    separators=[\"\\n\\n\", \"\\n\",\".\"],  # 구분자\n",
    ")\n",
    "\n",
    "texts = text_splitter.split_documents(pdf_docs)\n",
    "print(f\"생성된 텍스트 청크 수: {len(texts)}\")\n",
    "print(f\"각 청크의 길이: {list(len(text.page_content) for text in texts)}\")"
   ]
  },
  {
   "cell_type": "markdown",
   "id": "4ee0ca46",
   "metadata": {},
   "source": [
    "- RecursiveCharacterTextSplitter는 이름에서 알 수 있듯이 재귀적으로 텍스트를 분할합니다. \n",
    "- 구분자를 순차적으로 적용하여 큰 청크에서 시작하여 점진적으로 더 작은 단위로 나눕니다. \n",
    "- 일반적으로 CharacterTextSplitter보다 더 엄격하게 크기를 준수하려고 합니다.\n"
   ]
  },
  {
   "cell_type": "code",
   "execution_count": 20,
   "id": "714ba916",
   "metadata": {},
   "outputs": [
    {
     "name": "stdout",
     "output_type": "stream",
     "text": [
      "Provided proper attribution is provided, Google hereby grants permission to\n",
      "reproduce the tables and figures in this paper solely for use in journalistic or\n",
      "scholarly works.\n",
      "Attention Is All You Need\n",
      "\n",
      "--------------------------------------------------------------------------------------------------------------------------------------------------------------------------------------------------------\n",
      "the encoder and decoder through an attention\n",
      "mechanism. We propose a new simple network architecture, the Transformer,\n",
      "based solely on attention mechanisms, dispensing with recurrence and convolutions\n",
      "========================================================================================================================================================================================================\n",
      "\n",
      "mechanism. We propose a new simple network architecture, the Transformer,\n",
      "based solely on attention mechanisms, dispensing with recurrence and convolutions\n",
      "entirely. Experiments on two machine transla\n",
      "--------------------------------------------------------------------------------------------------------------------------------------------------------------------------------------------------------\n",
      "the\n",
      "best models from the literature. We show that the Transformer generalizes well to\n",
      "other tasks by applying it successfully to English constituency parsing both with\n",
      "large and limited training data.\n",
      "========================================================================================================================================================================================================\n",
      "\n",
      "best models from the literature. We show that the Transformer generalizes well to\n",
      "other tasks by applying it successfully to English constituency parsing both with\n",
      "large and limited training data.\n",
      "∗Eq\n",
      "--------------------------------------------------------------------------------------------------------------------------------------------------------------------------------------------------------\n",
      " experimented with novel model variants, was responsible for our initial codebase, and\n",
      "efficient inference and visualizations. Lukasz and Aidan spent countless long days designing various parts of and\n",
      "========================================================================================================================================================================================================\n",
      "\n",
      "efficient inference and visualizations. Lukasz and Aidan spent countless long days designing various parts of and\n",
      "implementing tensor2tensor, replacing our earlier codebase, greatly improving results \n",
      "--------------------------------------------------------------------------------------------------------------------------------------------------------------------------------------------------------\n",
      "ormed while at Google Brain.\n",
      "‡Work performed while at Google Research.\n",
      "31st Conference on Neural Information Processing Systems (NIPS 2017), Long Beach, CA, USA.arXiv:1706.03762v7  [cs.CL]  2 Aug 2023\n",
      "========================================================================================================================================================================================================\n",
      "\n",
      "1 Introduction\n",
      "Recurrent neural networks, long short-term memory [ 13] and gated recurrent [ 7] neural networks\n",
      "in particular, have been firmly established as state of the art approaches in sequence m\n",
      "--------------------------------------------------------------------------------------------------------------------------------------------------------------------------------------------------------\n",
      "\n",
      "sequential nature precludes parallelization within training examples, which becomes critical at longer\n",
      "sequence lengths, as memory constraints limit batching across examples. Recent work has achieved\n",
      "========================================================================================================================================================================================================\n",
      "\n"
     ]
    }
   ],
   "source": [
    "# 각 청크의 시작 부분과 끝 부분 확인\n",
    "for text in texts[:5]:\n",
    "    print(text.page_content[:200])\n",
    "    print(\"-\" * 200)\n",
    "    print(text.page_content[-200:])\n",
    "    print(\"=\" * 200)\n",
    "    print()"
   ]
  },
  {
   "cell_type": "markdown",
   "id": "fae8677d",
   "metadata": {},
   "source": [
    "### 3-2 정규표현식 사용"
   ]
  },
  {
   "cell_type": "code",
   "execution_count": 21,
   "id": "98e6e771",
   "metadata": {},
   "outputs": [
    {
     "name": "stderr",
     "output_type": "stream",
     "text": [
      "Created a chunk of size 11, which is longer than the specified 10\n",
      "Created a chunk of size 13, which is longer than the specified 10\n"
     ]
    },
    {
     "name": "stdout",
     "output_type": "stream",
     "text": [
      "생성된 텍스트 청크 수: 9\n",
      "각 청크의 길이: [31, 9, 15, 7, 11, 11, 27, 13, 13]\n",
      "\n",
      "안녕하세요 여러분, 오늘 회의 시간 확인차 연락드립니다.\n",
      "--------------------------------------------------\n",
      "안녕하세요 여러분, 오늘 회의 시간 확인차 연락드립니다.\n",
      "==================================================\n",
      "\n",
      "네, 안녕하세요.\n",
      "--------------------------------------------------\n",
      "네, 안녕하세요.\n",
      "==================================================\n",
      "\n",
      "오후 2시에 하기로 했어요.\n",
      "--------------------------------------------------\n",
      "오후 2시에 하기로 했어요.\n",
      "==================================================\n",
      "\n",
      "확인했습니다.\n",
      "--------------------------------------------------\n",
      "확인했습니다.\n",
      "==================================================\n",
      "\n",
      "회의실은 어디인가요?\n",
      "--------------------------------------------------\n",
      "회의실은 어디인가요?\n",
      "==================================================\n",
      "\n"
     ]
    }
   ],
   "source": [
    "# 문장을 구분하여 분할 (마침표, 느낌표, 물음표 다음에 공백이 오는 경우 문장의 끝으로 판단)\n",
    "from langchain_text_splitters import CharacterTextSplitter\n",
    "\n",
    "text_splitter = CharacterTextSplitter(\n",
    "    chunk_size=10,\n",
    "    chunk_overlap=0,\n",
    "    separator=r'(?<=[.!?])\\s+',\n",
    "    is_separator_regex=True,\n",
    "    keep_separator=True,\n",
    ")\n",
    "\n",
    "texts = text_splitter.split_documents(json_docs)\n",
    "print(f\"생성된 텍스트 청크 수: {len(texts)}\")\n",
    "print(f\"각 청크의 길이: {list(len(text.page_content) for text in texts)}\")\n",
    "print()\n",
    "\n",
    "# 각 청크의 시작 부분과 끝 부분 확인\n",
    "for text in texts[:5]:\n",
    "    print(text.page_content[:50])\n",
    "    print(\"-\" * 50)\n",
    "    print(text.page_content[-50:])\n",
    "    print(\"=\" * 50)\n",
    "    print()"
   ]
  },
  {
   "cell_type": "markdown",
   "id": "8bbe562f",
   "metadata": {},
   "source": [
    "### 3-3 토큰 수를 기반으로 분할"
   ]
  },
  {
   "cell_type": "markdown",
   "id": "d9198b73",
   "metadata": {},
   "source": [
    "`(1) tiktoken`  \n",
    "- OpenAI에서 만든 BPE Tokenizer"
   ]
  },
  {
   "cell_type": "code",
   "execution_count": 22,
   "id": "bdea518c",
   "metadata": {},
   "outputs": [
    {
     "data": {
      "text/plain": [
       "2853"
      ]
     },
     "execution_count": 22,
     "metadata": {},
     "output_type": "execute_result"
    }
   ],
   "source": [
    "len(pdf_docs[0].page_content)"
   ]
  },
  {
   "cell_type": "code",
   "execution_count": 23,
   "id": "49b5fda6",
   "metadata": {},
   "outputs": [
    {
     "name": "stdout",
     "output_type": "stream",
     "text": [
      "생성된 청크 수: 3\n",
      "각 청크의 길이: [1140, 1374, 337]\n",
      "page_content='Provided proper attribution is provided, Google hereby grants permission to\n",
      "reproduce the tables and figures in this paper solely for use in journalistic or\n",
      "scholarly works.\n",
      "Attention Is All You Need\n",
      "Ashish Vaswani∗\n",
      "Google Brain\n",
      "avaswani@google.comNoam Shazeer∗\n",
      "Google Brain\n",
      "noam@google.comNiki Parmar∗\n",
      "Google Research\n",
      "nikip@google.comJakob Uszkoreit∗\n",
      "Google Research\n",
      "usz@google.com\n",
      "Llion Jones∗\n",
      "Google Research\n",
      "llion@google.comAidan N. Gomez∗ †\n",
      "University of Toronto\n",
      "aidan@cs.toronto.eduŁukasz Kaiser∗\n",
      "Google Brain\n",
      "lukaszkaiser@google.com\n",
      "Illia Polosukhin∗ ‡\n",
      "illia.polosukhin@gmail.com\n",
      "Abstract\n",
      "The dominant sequence transduction models are based on complex recurrent or\n",
      "convolutional neural networks that include an encoder and a decoder. The best\n",
      "performing models also connect the encoder and decoder through an attention\n",
      "mechanism. We propose a new simple network architecture, the Transformer,\n",
      "based solely on attention mechanisms, dispensing with recurrence and convolutions\n",
      "entirely. Experiments on two machine translation tasks show these models to\n",
      "be superior in quality while being more parallelizable and requiring significantly' metadata={'source': './data/transformer.pdf', 'page': 0}\n",
      "-------------\n",
      "\n",
      "page_content='less time to train. Our model achieves 28.4 BLEU on the WMT 2014 English-\n",
      "to-German translation task, improving over the existing best results, including\n",
      "ensembles, by over 2 BLEU. On the WMT 2014 English-to-French translation task,\n",
      "our model establishes a new single-model state-of-the-art BLEU score of 41.8 after\n",
      "training for 3.5 days on eight GPUs, a small fraction of the training costs of the\n",
      "best models from the literature. We show that the Transformer generalizes well to\n",
      "other tasks by applying it successfully to English constituency parsing both with\n",
      "large and limited training data.\n",
      "∗Equal contribution. Listing order is random. Jakob proposed replacing RNNs with self-attention and started\n",
      "the effort to evaluate this idea. Ashish, with Illia, designed and implemented the first Transformer models and\n",
      "has been crucially involved in every aspect of this work. Noam proposed scaled dot-product attention, multi-head\n",
      "attention and the parameter-free position representation and became the other person involved in nearly every\n",
      "detail. Niki designed, implemented, tuned and evaluated countless model variants in our original codebase and\n",
      "tensor2tensor. Llion also experimented with novel model variants, was responsible for our initial codebase, and\n",
      "efficient inference and visualizations. Lukasz and Aidan spent countless long days designing various parts of and' metadata={'source': './data/transformer.pdf', 'page': 0}\n",
      "-------------\n",
      "\n",
      "page_content='implementing tensor2tensor, replacing our earlier codebase, greatly improving results and massively accelerating\n",
      "our research.\n",
      "†Work performed while at Google Brain.\n",
      "‡Work performed while at Google Research.\n",
      "31st Conference on Neural Information Processing Systems (NIPS 2017), Long Beach, CA, USA.arXiv:1706.03762v7  [cs.CL]  2 Aug 2023' metadata={'source': './data/transformer.pdf', 'page': 0}\n",
      "-------------\n",
      "\n"
     ]
    }
   ],
   "source": [
    "from langchain_text_splitters import RecursiveCharacterTextSplitter\n",
    "\n",
    "text_splitter = RecursiveCharacterTextSplitter.from_tiktoken_encoder(\n",
    "    encoding_name=\"cl100k_base\", \n",
    "    # model_name=\"gpt-4o-mini\",\n",
    "    chunk_size=300, \n",
    "    chunk_overlap=0,\n",
    ")\n",
    "\n",
    "chunks = text_splitter.split_documents(pdf_docs[:1])\n",
    "\n",
    "print(f\"생성된 청크 수: {len(chunks)}\")\n",
    "print(f\"각 청크의 길이: {list(len(chunk.page_content) for chunk in chunks)}\")\n",
    "\n",
    "# 각 청크의 시작 부분과 끝 부분 확인\n",
    "for chunk in chunks[:5]:\n",
    "    print(chunk)\n",
    "    print(\"-------------\")\n",
    "    # print(chunk.page_content[:50])\n",
    "    # print(\"-\" * 50)\n",
    "    # print(chunk.page_content[-50:])\n",
    "    # print(\"=\" * 50)\n",
    "    print()"
   ]
  },
  {
   "cell_type": "code",
   "execution_count": 24,
   "id": "f10e8b4b",
   "metadata": {},
   "outputs": [
    {
     "name": "stdout",
     "output_type": "stream",
     "text": [
      "283\n",
      "[36919, 291, 6300, 63124, 374, 3984, 11, 5195, 22552, 25076]\n",
      "['Provid', 'ed', ' proper', ' attribution', ' is', ' provided', ',', ' Google', ' hereby', ' grants']\n",
      "==================================================\n",
      "\n",
      "291\n",
      "[1752, 892, 311, 5542, 13, 5751, 1646, 83691, 220, 1591]\n",
      "['less', ' time', ' to', ' train', '.', ' Our', ' model', ' achieves', ' ', '28']\n",
      "==================================================\n",
      "\n",
      "83\n",
      "[95574, 287, 16000, 17, 47211, 11, 25935, 1057, 6931, 2082]\n",
      "['implement', 'ing', ' tensor', '2', 'tensor', ',', ' replacing', ' our', ' earlier', ' code']\n",
      "==================================================\n",
      "\n"
     ]
    }
   ],
   "source": [
    "import tiktoken\n",
    "\n",
    "tokenizer = tiktoken.get_encoding(\"cl100k_base\")\n",
    "# tokenizer = tiktoken.encoding_for_model(\"gpt-4o-mini\")\n",
    "\n",
    "for chunk in chunks[:5]:\n",
    "\n",
    "    # 각 청크를 토큰화\n",
    "    tokens = tokenizer.encode(chunk.page_content)\n",
    "    # 각 청크의 단어 수 확인\n",
    "    print(len(tokens))\n",
    "    # 각 청크의 토큰화 결과 확인 (첫 10개 토큰만 출력)\n",
    "    print(tokens[:10])\n",
    "    # 토큰 ID를 실제 토큰(문자열)로 변환해서 출력\n",
    "    token_strings = [tokenizer.decode([token]) for token in tokens[:10]]\n",
    "    print(token_strings)\n",
    "\n",
    "    print(\"=\" * 50)\n",
    "    print()"
   ]
  },
  {
   "cell_type": "markdown",
   "id": "a4b01677",
   "metadata": {},
   "source": [
    "`(2) Hugging Face 토크나이저`  \n",
    "- Hugging Face tokenizer 모델이 토큰 수를 기준으로 분할"
   ]
  },
  {
   "cell_type": "code",
   "execution_count": 25,
   "id": "c6872bee",
   "metadata": {},
   "outputs": [
    {
     "name": "stderr",
     "output_type": "stream",
     "text": [
      "c:\\Users\\1\\miniconda3\\envs\\langchain\\Lib\\site-packages\\tqdm\\auto.py:21: TqdmWarning: IProgress not found. Please update jupyter and ipywidgets. See https://ipywidgets.readthedocs.io/en/stable/user_install.html\n",
      "  from .autonotebook import tqdm as notebook_tqdm\n",
      "c:\\Users\\1\\miniconda3\\envs\\langchain\\Lib\\site-packages\\huggingface_hub\\file_download.py:143: UserWarning: `huggingface_hub` cache-system uses symlinks by default to efficiently store duplicated files but your machine does not support them in C:\\Users\\1\\.cache\\huggingface\\hub\\models--BAAI--bge-m3. Caching files will still work but in a degraded version that might require more space on your disk. This warning can be disabled by setting the `HF_HUB_DISABLE_SYMLINKS_WARNING` environment variable. For more details, see https://huggingface.co/docs/huggingface_hub/how-to-cache#limitations.\n",
      "To support symlinks on Windows, you either need to activate Developer Mode or to run Python as an administrator. In order to activate developer mode, see this article: https://docs.microsoft.com/en-us/windows/apps/get-started/enable-your-device-for-development\n",
      "  warnings.warn(message)\n"
     ]
    },
    {
     "data": {
      "text/plain": [
       "XLMRobertaTokenizerFast(name_or_path='BAAI/bge-m3', vocab_size=250002, model_max_length=8192, is_fast=True, padding_side='right', truncation_side='right', special_tokens={'bos_token': '<s>', 'eos_token': '</s>', 'unk_token': '<unk>', 'sep_token': '</s>', 'pad_token': '<pad>', 'cls_token': '<s>', 'mask_token': '<mask>'}, clean_up_tokenization_spaces=True),  added_tokens_decoder={\n",
       "\t0: AddedToken(\"<s>\", rstrip=False, lstrip=False, single_word=False, normalized=False, special=True),\n",
       "\t1: AddedToken(\"<pad>\", rstrip=False, lstrip=False, single_word=False, normalized=False, special=True),\n",
       "\t2: AddedToken(\"</s>\", rstrip=False, lstrip=False, single_word=False, normalized=False, special=True),\n",
       "\t3: AddedToken(\"<unk>\", rstrip=False, lstrip=False, single_word=False, normalized=False, special=True),\n",
       "\t250001: AddedToken(\"<mask>\", rstrip=False, lstrip=True, single_word=False, normalized=False, special=True),\n",
       "}"
      ]
     },
     "execution_count": 25,
     "metadata": {},
     "output_type": "execute_result"
    }
   ],
   "source": [
    "from transformers import AutoTokenizer\n",
    "tokenizer = AutoTokenizer.from_pretrained(\"BAAI/bge-m3\")\n",
    "\n",
    "tokenizer"
   ]
  },
  {
   "cell_type": "code",
   "execution_count": 26,
   "id": "1477bfbc",
   "metadata": {},
   "outputs": [
    {
     "name": "stdout",
     "output_type": "stream",
     "text": [
      "[0, 107687, 5, 20451, 54272, 16367, 5, 2]\n"
     ]
    }
   ],
   "source": [
    "# 토크나이저 인코딩\n",
    "tokens = tokenizer.encode(\"안녕하세요. 반갑습니다.\")\n",
    "print(tokens)"
   ]
  },
  {
   "cell_type": "code",
   "execution_count": 27,
   "id": "c07cafbc",
   "metadata": {},
   "outputs": [
    {
     "name": "stdout",
     "output_type": "stream",
     "text": [
      "['<s>', '▁안녕하세요', '.', '▁반', '갑', '습니다', '.', '</s>']\n"
     ]
    }
   ],
   "source": [
    "# 토큰을 출력\n",
    "print(tokenizer.convert_ids_to_tokens(tokens)) "
   ]
  },
  {
   "cell_type": "code",
   "execution_count": 28,
   "id": "fdcf6a3a",
   "metadata": {},
   "outputs": [
    {
     "name": "stdout",
     "output_type": "stream",
     "text": [
      "<s> 안녕하세요. 반갑습니다.</s>\n"
     ]
    }
   ],
   "source": [
    "# 디코딩\n",
    "print(tokenizer.decode(tokens))"
   ]
  },
  {
   "cell_type": "code",
   "execution_count": 29,
   "id": "311dec97",
   "metadata": {},
   "outputs": [
    {
     "name": "stdout",
     "output_type": "stream",
     "text": [
      "생성된 청크 수: 3\n",
      "각 청크의 길이: [749, 1094, 1008]\n",
      "\n",
      "204\n",
      "[0, 123089, 71, 27798, 99, 179236, 83, 62952, 4, 1815]\n",
      "['<s>', '▁Provide', 'd', '▁proper', '▁at', 'tribution', '▁is', '▁provided', ',', '▁Google']\n",
      "==================================================\n",
      "\n",
      "248\n",
      "[0, 51339, 214, 115774, 2843, 37067, 70, 22, 587, 820]\n",
      "['<s>', '▁perform', 'ing', '▁models', '▁also', '▁connect', '▁the', '▁en', 'co', 'der']\n",
      "==================================================\n",
      "\n",
      "232\n",
      "[0, 70, 71834, 47, 151575, 13, 903, 6528, 5, 62]\n",
      "['<s>', '▁the', '▁effort', '▁to', '▁evaluat', 'e', '▁this', '▁idea', '.', '▁A']\n",
      "==================================================\n",
      "\n"
     ]
    }
   ],
   "source": [
    "from langchain_text_splitters import RecursiveCharacterTextSplitter\n",
    "\n",
    "text_splitter = RecursiveCharacterTextSplitter.from_huggingface_tokenizer(\n",
    "    tokenizer=tokenizer,\n",
    "    chunk_size=300, \n",
    "    chunk_overlap=0,\n",
    ")\n",
    "\n",
    "chunks = text_splitter.split_documents(pdf_docs[:1])\n",
    "\n",
    "print(f\"생성된 청크 수: {len(chunks)}\")\n",
    "print(f\"각 청크의 길이: {list(len(chunk.page_content) for chunk in chunks)}\")\n",
    "print()\n",
    "\n",
    "for chunk in chunks[:5]:\n",
    "\n",
    "    # 각 청크를 토큰화\n",
    "    tokens = tokenizer.encode(chunk.page_content)\n",
    "    # 각 청크의 단어 수 확인\n",
    "    print(len(tokens))\n",
    "    # 각 청크의 토큰화 결과 확인 (첫 10개 토큰만 출력)\n",
    "    print(tokens[:10])\n",
    "    # 토큰 ID를 실제 토큰(문자열)로 변환해서 출력\n",
    "    token_strings = tokenizer.convert_ids_to_tokens(tokens[:10]) \n",
    "    print(token_strings)\n",
    "\n",
    "    print(\"=\" * 50)\n",
    "    print()"
   ]
  },
  {
   "cell_type": "markdown",
   "id": "2bc751ee",
   "metadata": {},
   "source": [
    "### 3-4 Semantic Chunking"
   ]
  },
  {
   "cell_type": "code",
   "execution_count": 30,
   "id": "043984b2",
   "metadata": {},
   "outputs": [],
   "source": [
    "from langchain_experimental.text_splitter import SemanticChunker\n",
    "from langchain_openai.embeddings import OpenAIEmbeddings\n",
    "\n",
    "# 임베딩 모델을 사용하여 SemanticChunker를 초기화 \n",
    "text_splitter = SemanticChunker(\n",
    "    embeddings=OpenAIEmbeddings(),         # OpenAI 임베딩 사용\n",
    "    breakpoint_threshold_type=\"gradient\",  # 기준점 타입 설정 (gradient, percentile, standard_deviation, interquartile)\n",
    "    )"
   ]
  },
  {
   "cell_type": "code",
   "execution_count": 31,
   "id": "e067dc67",
   "metadata": {},
   "outputs": [
    {
     "name": "stdout",
     "output_type": "stream",
     "text": [
      "생성된 청크 수: 2\n",
      "각 청크의 길이: [1736, 1116]\n",
      "\n",
      "424\n",
      "Provided proper attribution is provided, Google hereby grants permission to\n",
      "reproduce the tables and\n",
      "==================================================\n",
      "\n",
      "237\n",
      "∗Equal contribution. Listing order is random. Jakob proposed replacing RNNs with self-attention and \n",
      "==================================================\n",
      "\n"
     ]
    }
   ],
   "source": [
    "chunks = text_splitter.split_documents(pdf_docs[:1])\n",
    "\n",
    "print(f\"생성된 청크 수: {len(chunks)}\")\n",
    "print(f\"각 청크의 길이: {list(len(chunk.page_content) for chunk in chunks)}\")\n",
    "print()\n",
    "\n",
    "\n",
    "tokenizer = tiktoken.get_encoding(\"cl100k_base\")\n",
    "\n",
    "\n",
    "for chunk in chunks[:5]:\n",
    "\n",
    "    # 각 청크를 토큰화\n",
    "\n",
    "    tokens = tokenizer.encode(chunk.page_content)\n",
    "    # 각 청크의 단어 수 확인\n",
    "    print(len(tokens))\n",
    "    # 각 청크의 내용을 확인\n",
    "    print(chunk.page_content[:100])\n",
    "\n",
    "    print(\"=\" * 50)\n",
    "    print()"
   ]
  },
  {
   "cell_type": "markdown",
   "id": "b46491b1",
   "metadata": {},
   "source": [
    "## 4. 문서 임베딩(Embedding) 모델   \n",
    "### 4-1 OpenAI   \n",
    "(1) embedding 모델"
   ]
  },
  {
   "cell_type": "code",
   "execution_count": 33,
   "id": "1847b834",
   "metadata": {},
   "outputs": [
    {
     "data": {
      "text/plain": [
       "OpenAIEmbeddings(client=<openai.resources.embeddings.Embeddings object at 0x000001CE801A4A90>, async_client=<openai.resources.embeddings.AsyncEmbeddings object at 0x000001CE801A56D0>, model='text-embedding-3-small', dimensions=None, deployment='text-embedding-ada-002', openai_api_version='', openai_api_base=None, openai_api_type='', openai_proxy='', embedding_ctx_length=8191, openai_api_key=SecretStr('**********'), openai_organization=None, allowed_special=None, disallowed_special=None, chunk_size=1000, max_retries=2, request_timeout=None, headers=None, tiktoken_enabled=True, tiktoken_model_name=None, show_progress_bar=False, model_kwargs={}, skip_empty=False, default_headers=None, default_query=None, retry_min_seconds=4, retry_max_seconds=20, http_client=None, http_async_client=None, check_embedding_ctx_length=True)"
      ]
     },
     "execution_count": 33,
     "metadata": {},
     "output_type": "execute_result"
    }
   ],
   "source": [
    "from langchain_openai import OpenAIEmbeddings\n",
    "\n",
    "embeddings_model = OpenAIEmbeddings(model = 'text-embedding-3-small')\n",
    "\n",
    "embeddings_model"
   ]
  },
  {
   "cell_type": "code",
   "execution_count": 34,
   "id": "8ee667cd",
   "metadata": {},
   "outputs": [
    {
     "data": {
      "text/plain": [
       "8191"
      ]
     },
     "execution_count": 34,
     "metadata": {},
     "output_type": "execute_result"
    }
   ],
   "source": [
    "embeddings_model.embedding_ctx_length"
   ]
  },
  {
   "cell_type": "code",
   "execution_count": 35,
   "id": "55c8dce5",
   "metadata": {},
   "outputs": [
    {
     "name": "stdout",
     "output_type": "stream",
     "text": [
      "임베딩 벡터의 개수: 5\n",
      "임베딩 벡터의 차원: 1536\n",
      "[-0.002310403622686863, 0.012099752202630043, -0.002436630427837372, 0.015039036981761456, 0.018447164446115494, -0.04565808176994324, -0.003119608387351036, 0.046956416219472885, -0.018239790573716164, -0.031881313771009445, 0.006847810931503773, 0.006965021602809429, -0.018591422587633133, -0.027138788253068924, 0.004891293589025736, -0.015580009669065475, -0.041546691209077835, 0.010053073056042194, 0.05157271400094032, -0.045874472707509995, -0.01464232336729765, -0.027751890942454338, -0.018753714859485626, -0.022702815011143684, 0.004363845102488995, -0.03981557860970497, 0.05031044781208038, 0.017716851085424423, 0.00028372881934046745, -0.023333948105573654, 0.048976048827171326, -0.015273458324372768, -0.029933813959360123, -0.06159874051809311, 0.02044876292347908, 0.03537960350513458, 0.002585398033261299, -0.006807237863540649, -0.005130222998559475, 0.02477654255926609, 0.00756459916010499, 0.02753550186753273, -0.0025651114992797375, 0.025984713807702065, -0.017996354028582573, 0.005590049549937248, -0.025840455666184425, 0.0036064835730940104, 0.0075150104239583015, 0.056657858192920685, -0.025010963901877403, 0.030096106231212616, 0.007974836975336075, -0.03480256721377373, -0.0020331551786512136, 0.09542755782604218, 0.01380381640046835, 0.0292846467345953, 0.003762013278901577, 0.030276430770754814, 0.015165263786911964, 0.01509313378483057, 0.0036650889087468386, 0.02093563787639141, -0.0518612340092659, -0.024379828944802284, 0.036389417946338654, 0.026183070614933968, -0.01988975703716278, -0.02921251766383648, 0.008971127681434155, -0.019637303426861763, -0.04508104547858238, 0.02122415602207184, -0.000698756193742156, -0.012388271279633045, -0.0649167075753212, 0.025461774319410324, 0.01275793556123972, 0.024379828944802284, -0.004253396764397621, 0.0005328016122803092, 0.048002295196056366, -0.059939756989479065, -0.009241614490747452, -0.02282904088497162, -0.00111462885979563, -0.057667672634124756, -0.05326776206493378, -0.004670396447181702, -0.030492819845676422, 0.049012113362550735, 0.0043886397033929825, 0.0041722506284713745, -0.05305137485265732, 0.03235015645623207, 0.061057768762111664, -0.052149754017591476, 0.0037980780471116304, 0.02787811867892742, -0.05168091133236885, -0.005729801021516323, 0.0318993479013443, 0.05474642291665077, 0.001877625472843647, -0.021620869636535645, -0.007194934878498316, 0.019835660234093666, -0.021692998707294464, 0.008159669116139412, -0.010161267593502998, -0.004936374258249998, -0.07566402852535248, 0.040609005838632584, -0.05795619264245033, -0.01954714208841324, 0.02850925363600254, -0.023297883570194244, -0.023388046771287918, -0.0073527186177670956, -0.023496240377426147, 0.02962726354598999, 0.03447798267006874, -0.004454007372260094, -0.01800536923110485, -0.0248126070946455, 0.014948874711990356, -0.03269277513027191, -0.025083092972636223, -0.004357083234935999, -0.004864244721829891, -0.026615848764777184, -0.012135817669332027, 0.02798631228506565, 0.041727013885974884, -0.016526710242033005, 0.005242925602942705, 0.0251912884414196, -0.001341161085292697, -0.05326776206493378, 0.019258622080087662, -0.019529107958078384, 0.01779799722135067, 0.012784983962774277, -0.028942031785845757, -0.05251040309667587, -0.012929243966937065, 0.01793324016034603, 0.03988770768046379, 0.041546691209077835, -0.046920351684093475, -0.01880781166255474, -0.07057888060808182, -0.039238542318344116, -0.05052683502435684, 0.024163439869880676, 0.0005026536528021097, 0.03278293460607529, -0.011856314726173878, -0.028635479509830475, 0.008231799118220806, -0.008191226050257683, -0.03319768235087395, 0.009971926920115948, -0.026110941544175148, 0.040609005838632584, -0.022342165932059288, 0.046920351684093475, -0.018681585788726807, 0.002396057592704892, -0.027842054143548012, -0.010386672802269459, -0.024488024413585663, -0.021260220557451248, 0.005842503625899553, 0.014651339501142502, 0.021368416026234627, 0.01573328487575054, -0.049048177897930145, -0.026237167418003082, -0.030961662530899048, -0.018681585788726807, -0.0002795024774968624, 0.027030594646930695, -0.008358025923371315, -0.024794574826955795, 0.016689002513885498, -0.04771377891302109, -0.029122354462742805, 0.019384849816560745, 0.03651564568281174, 0.026128973811864853, 0.019222557544708252, 0.043566323816776276, 0.008258847519755363, -0.026615848764777184, -0.0011743612121790648, -0.05377266928553581, -0.010756337083876133, -0.0032345650251954794, 0.028942031785845757, -0.040500812232494354, -0.025389645248651505, -0.01397512387484312, 0.012262044474482536, 0.00656830845400691, 0.04187127575278282, 0.006784697063267231, -0.03161082789301872, -0.026814205572009087, -0.01869961805641651, -0.02551587112247944, 0.07328374683856964, 0.00046461651800200343, -0.03409930318593979, -0.06033647060394287, 0.020304502919316292, 0.007587139960378408, -0.014083318412303925, 0.03011413849890232, -0.006577324587851763, -0.008141636848449707, 0.013028422370553017, -0.005220384802669287, 0.005184320267289877, -0.0026192087680101395, 0.021692998707294464, -0.036245159804821014, 0.02593061700463295, -0.03418946638703346, -0.023568371310830116, 0.02977152168750763, 0.0028333435766398907, -0.00833999365568161, 0.0023442143574357033, -0.01326284371316433, -0.011730087921023369, -0.02272084727883339, 0.011459602043032646, 0.0057388171553611755, 0.008425647392868996, -0.00024780488456599414, -0.005125714931637049, -0.020015984773635864, -0.008646544069051743, -0.00591463316231966, -0.0004423577629495412, 0.027355177327990532, -0.00403024535626173, -0.011802217923104763, 0.01794225536286831, -0.028797771781682968, 0.023532304912805557, -0.02115202695131302, 0.011360423639416695, 0.004638839513063431, 0.030042007565498352, -0.026814205572009087, 0.005450298544019461, -0.0020162498112767935, -0.01451609656214714, 0.013641524128615856, -0.026201102882623672, -0.032332126051187515, 0.013217762112617493, 0.007271572481840849, -0.002925759879872203, 0.027156822383403778, -0.03887789323925972, -0.026147006079554558, -0.013289892114698887, 0.04035655036568642, 0.014633307233452797, -0.025389645248651505, -0.04075326398015022, 0.012433351948857307, -0.03689432889223099, 0.021692998707294464, -0.02246839366853237, 0.05052683502435684, -0.052330076694488525, 0.029951846227049828, 0.04573021084070206, -0.003597467439249158, -0.00174689048435539, 3.349380858708173e-05, -0.036659907549619675, -0.020917605608701706, -0.012262044474482536, -0.06286101043224335, 0.06253642588853836, 0.0021548739168792963, -0.01587754487991333, 0.04320567473769188, 0.02977152168750763, -0.01769881881773472, -0.011468618176877499, 0.046848222613334656, -0.005247433669865131, 0.00660437298938632, 0.023856889456510544, -0.05838897079229355, -0.017770947888493538, -0.02055695652961731, 0.004859736654907465, 0.023983115330338478, -0.04944489151239395, 0.01605786755681038, -0.0021965738851577044, -0.03696645796298981, -0.015589025802910328, 0.007289605215191841, 0.07443781942129135, 0.009038749150931835, -0.0274273082613945, -0.01626524142920971, -0.017428332939743996, -0.0570906363427639, 0.002955062547698617, -0.017220959067344666, -0.014759534038603306, 0.03812053054571152, 0.012334173545241356, -0.02795024774968624, -0.03056494891643524, 0.012703838758170605, -0.0008695006836205721, 0.01936681754887104, -0.014687404967844486, -0.04735312983393669, 0.07169689238071442, 0.06159874051809311, -0.030492819845676422, 0.004985963460057974, -0.008204749785363674, -0.03440585359930992, -0.02679617330431938, 0.014209545217454433, -0.05081535503268242, -0.03590254485607147, -0.05636933818459511, 0.02149464190006256, -0.048110492527484894, 0.050130121409893036, 0.010305526666343212, 0.0001662363501964137, -0.0021019037812948227, 0.007753939833492041, 0.019619271159172058, -0.0006102846236899495, 0.018825843930244446, -0.0112882936373353, -0.01751849427819252, -0.020394664257764816, -0.0369303934276104, -0.006550275720655918, -0.047064609825611115, -0.008678101003170013, -0.02425360307097435, -0.04024835675954819, -0.04839900881052017, -0.0013276367681100965, 0.03786807879805565, 0.042628634721040726, 0.03985164314508438, 0.010017008520662785, 0.002522284397855401, -0.026687977835536003, -0.007086740341037512, 0.0016082662623375654, -0.03235015645623207, -0.0003755814686883241, 0.011982541531324387, -0.07144443690776825, -0.009313743561506271, -0.029879717156291008, -0.01845617964863777, 0.0270486269146204, -0.045802343636751175, 0.01612098142504692, 0.02630929835140705, 0.05499887466430664, 0.007375258952379227, -0.0225765872746706, -0.032259996980428696, 0.005364644341170788, -0.01106288842856884, -0.012658757157623768, -0.06870350986719131, 0.032223932445049286, 0.029158420860767365, -0.03200754150748253, -0.029302679002285004, 0.003845413215458393, -0.012361222878098488, -0.027319112792611122, -0.018789779394865036, -0.05539558827877045, -0.0395631268620491, 0.024488024413585663, -0.03150263428688049, -0.030997727066278458, -0.02436179667711258, 0.021999549120664597, 0.014525112695991993, -0.04032048583030701, 0.05622508004307747, 0.059723369777202606, 0.009737505577504635, 0.03458617627620697, 0.004284953232854605, -0.06257249414920807, 0.038481179624795914, -0.00038966929423622787, -0.03510911762714386, -0.049120306968688965, -0.01985369250178337, 0.033305875957012177, 0.020827442407608032, 0.0006728345761075616, 0.01947501115500927, 0.027337145060300827, 0.03995983675122261, -0.03458617627620697, 0.007064200006425381, 0.02044876292347908, 0.037327107042074203, 0.0052699740044772625, 0.05283498391509056, -0.012225979007780552, -0.004823671653866768, 0.006744124460965395, -0.023225754499435425, -0.0034261594992130995, -0.05178910493850708, -0.0007274953532032669, 0.023225754499435425, 0.015561976470053196, -0.009710457175970078, 0.024469992145895958, 0.0032638676930218935, -0.02118809148669243, 0.006203151773661375, -0.02153070643544197, -0.014056270010769367, 0.038481179624795914, -0.0292846467345953, -0.02492080256342888, -0.010891580954194069, -0.05366447567939758, 0.02903219312429428, -0.065313421189785, 0.030997727066278458, 0.03891395777463913, -0.015543944202363491, -0.04937276244163513, 0.021278252825140953, -0.034459952265024185, 0.01141452044248581, 0.024830639362335205, -0.0006970656686462462, 0.016625888645648956, -0.026056844741106033, -0.008303928188979626, -0.005693736020475626, 0.038372986018657684, 0.04634331539273262, 0.006847810931503773, -0.051464520394802094, 0.038445115089416504, -0.011279277503490448, -0.035722218453884125, 0.01794225536286831, -0.02309952676296234, 0.015002971515059471, -0.0002056822704616934, -0.004523883108049631, -0.013073503039777279, -0.04500891640782356, -0.0071543618105351925, 0.00863752793520689, -0.002470441162586212, 0.010684208013117313, 0.011261245235800743, 0.035992708057165146, 0.04230405390262604, -0.06726092100143433, 0.005982254631817341, 0.059867627918720245, -0.0047064609825611115, 0.012415319681167603, -0.03267474099993706, 0.07941477000713348, 0.0025606034323573112, 0.02969939261674881, 0.049012113362550735, -0.012162866070866585, 0.006437573116272688, 0.010675191879272461, 0.013181697577238083, 0.023460175842046738, -0.029753489419817924, -0.010287494398653507, 0.02771582640707493, 0.005513411946594715, -0.0004795496060978621, -0.052257947623729706, 0.02208971232175827, -0.004264666698873043, -0.019745497032999992, 0.03207967057824135, 0.04302534833550453, -0.003737218677997589, 0.009737505577504635, -0.009800619445741177, 0.006671994458884001, -0.009313743561506271, 0.007943280041217804, 0.027174854651093483, -0.027228951454162598, -0.009313743561506271, -0.022288069128990173, -0.029014160856604576, 0.0022934982553124428, -0.000124254627735354, -0.05420544743537903, -0.009620294906198978, -0.01660785637795925, 0.00949406810104847, -0.017121780663728714, 0.016139013692736626, -0.01713981293141842, 0.015543944202363491, -0.03913034871220589, -0.01796930469572544, 0.013010389171540737, 0.010152251459658146, 0.01512919832020998, -0.04190734028816223, -0.010630110278725624, 0.016382452100515366, -0.014813631772994995, 0.009313743561506271, 0.0249929316341877, -0.007194934878498316, 0.047064609825611115, -0.01102682389318943, -0.037110716104507446, 0.003840905148535967, 0.029050225391983986, 0.020430728793144226, 0.00036177539732307196, 0.03696645796298981, -0.02302739769220352, 0.011198131367564201, -0.0045982664451003075, 0.00649167038500309, -0.025948649272322655, -0.0026349870022386312, -0.02690436691045761, 0.008583431132137775, -0.020791377872228622, -0.04212372750043869, -0.004192537162452936, 0.008457204326987267, 0.010494867339730263, 0.028455154970288277, -0.01643654890358448, 0.021873323246836662, 0.029483003541827202, -0.04554988816380501, 0.029789553955197334, -0.016382452100515366, 0.06235610321164131, -0.009800619445741177, -0.04205159842967987, 0.01003504078835249, -0.027301080524921417, -0.012117785401642323, 0.024542121216654778, 0.020502859726548195, 0.015480831265449524, 0.03202557563781738, 0.013154649175703526, 0.04075326398015022, 5.191364107304253e-05, 0.002767976140603423, 0.020502859726548195, 0.03262064605951309, -0.029230549931526184, 0.0341353677213192, 0.018519293516874313, -0.01380381640046835, -0.027319112792611122, -0.025732260197401047, -0.015787381678819656, 0.007699842564761639, 0.016274256631731987, 0.01378578320145607, 0.024379828944802284, -0.004967931192368269, 0.012902195565402508, 0.020466795191168785, 0.00526095787063241, -0.024830639362335205, -0.031773120164871216, -0.015796398743987083, 0.036245159804821014, 0.007442880421876907, -0.010458802804350853, -0.013443167321383953, 0.008312944322824478, 0.008087539114058018, -0.02324378676712513, -0.005815454758703709, -0.011144034564495087, 0.0005040624528191984, 0.0001804650528356433, 0.026147006079554558, -0.014957890845835209, 0.00886293314397335, -0.006500686518847942, 0.03366652503609657, -0.016111966222524643, 0.0043886397033929825, -0.031051823869347572, 0.0013129854341968894, -0.009394889697432518, -0.02093563787639141, 0.0017018094658851624, 0.00767730176448822, 0.07328374683856964, -0.013587427325546741, 0.036064837127923965, -0.009467019699513912, -0.06589045375585556, -0.0112882936373353, -0.006365443579852581, 0.012505481950938702, -0.009358825162053108, -0.022630684077739716, 0.004562201909720898, 0.009503084234893322, -0.031105920672416687, 0.029374809935688972, -0.008804327808320522, 0.0011512571945786476, -0.02872564271092415, 0.009047766216099262, 0.006784697063267231, 0.003432921599596739, -0.0253716129809618, -0.033414069563150406, 0.01266777329146862, -0.004546423442661762, -0.016770148649811745, -0.0036200080066919327, -0.030510852113366127, 0.023965083062648773, 0.0015812176279723644, 0.009881764650344849, -0.013848897069692612, 0.02041269652545452, -0.015381652861833572, -0.006699043326079845, 0.04645150899887085, 0.019456978887319565, 0.03640745207667351, -0.007014610804617405, -0.011784185655415058, -0.028419090434908867, 0.01936681754887104, 0.011135018430650234, 0.009575214236974716, -0.04032048583030701, 0.03364849090576172, 0.0020849984139204025, 0.01738325133919716, 0.04280896112322807, 0.03812053054571152, -0.014993955381214619, -0.018302904441952705, -0.018167661502957344, -0.043710581958293915, 0.017220959067344666, 0.004291715566068888, 0.014398885890841484, 0.01880781166255474, 0.019529107958078384, -0.0630413368344307, 0.015787381678819656, 0.029086289927363396, -0.025065060704946518, -0.004591504577547312, -0.065313421189785, -0.013001373037695885, 0.018573390319943428, -0.03959919139742851, -0.03272883966565132, 0.0253716129809618, -0.02484867163002491, 0.008817852474749088, 0.012171882204711437, -0.023514272645115852, -0.025804391130805016, -0.01576934941112995, 0.04536956548690796, -0.007726890966296196, -0.010882563889026642, -0.0035771809052675962, -0.01988975703716278, 0.000534492137376219, -0.018230775371193886, -0.010422737337648869, 0.03604680299758911, -0.008394090458750725, 0.04446794465184212, -0.0225765872746706, 0.009521116502583027, -0.04288109019398689, -0.026706011965870857, -0.025876520201563835, -0.012469417415559292, -0.012523514218628407, -0.005220384802669287, -0.027102723717689514, -0.0391664132475853, -0.007952296175062656, -0.03388291224837303, -0.00030683286604471505, 0.02526341751217842, -0.010693224146962166, -0.021656934171915054, -0.008596954867243767, 0.060047950595617294, -0.008015410043299198, -0.03876969963312149, -0.004372861236333847, -0.023748693987727165, -0.017563575878739357, 0.00011636544513748959, -0.018753714859485626, 0.027138788253068924, 0.03491076081991196, -0.017644720152020454, 0.026183070614933968, 0.0001629961479920894, 0.0019497552420943975, 0.013848897069692612, -0.04432368278503418, 0.009845700114965439, -0.002871662611141801, 0.03198951110243797, -0.025533903390169144, 0.00037501793121919036, -0.009926846250891685, 0.013037438504397869, 0.005089649930596352, 0.013668572530150414, -0.02306346222758293, 0.024451958015561104, 0.020809410139918327, 0.0016950472490862012, 0.0092325983569026, 0.0016860311152413487, 0.0021717792842537165, 0.004302985966205597, -0.02373066172003746, -0.002817565342411399, 0.012559578754007816, 0.029014160856604576, -0.012875146232545376, -0.005657671019434929, 0.0014347042888402939, 0.04017622768878937, -0.001599250128492713, 0.00623020064085722, -0.04785803705453873, -0.005856027826666832, 0.03148460015654564, 0.011531731113791466, -0.0201422106474638, -0.019384849816560745, -0.001532755559310317, -0.008087539114058018, -0.021206123754382133, 0.02641749195754528, 0.033341940492391586, -0.009602262638509274, -0.024343764409422874, -0.0050535849295556545, 0.021368416026234627, -0.040536876767873764, -0.005044568795710802, -0.013362022116780281, 0.011775168590247631, 0.002903219312429428, 0.012000573799014091, 0.0027972788084298372, -0.002849122043699026, 0.03815659508109093, 0.007695334497839212, 0.043710581958293915, 0.034604210406541824, 0.05398906022310257, 0.009169484488666058, -0.015327555127441883, 0.045802343636751175, -0.046956416219472885, -0.02921251766383648, 0.03260261192917824, -0.010512899607419968, -0.015327555127441883, 0.04569414630532265, -0.019619271159172058, -0.032512448728084564, -0.008898998610675335, -0.0026147007010877132, -0.005883076228201389, -0.014416918158531189, 0.03157476335763931, 0.00036459293914958835, -0.005675703752785921, -0.010476835072040558, 0.03866150602698326, -0.01490379311144352, -0.018131596967577934, 0.023604435846209526, -0.031322311609983444, 0.0047425259836018085, 0.07681810110807419, 0.018897974863648415, 0.033937010914087296, 0.0006131022237241268, 0.035055018961429596, 0.0009241614025086164, -0.01768980175256729, -0.010269462130963802, -0.028112540021538734, 0.032368190586566925, -0.013812832534313202, 0.006478146184235811, 0.002256306353956461, 0.018176676705479622, -0.035055018961429596, -0.0024591709952801466, -0.01765373721718788, 0.016950473189353943, -0.021620869636535645, -0.006252740975469351, -0.03159279748797417, 0.007203951012343168, 0.024902768433094025, -0.009791603311896324, 0.0663953647017479, 0.013280875980854034, 0.018420115113258362, -0.015381652861833572, 0.020899573341012, -0.007735907565802336, 0.011883363127708435, 0.03409930318593979, 0.0358123816549778, -0.017302105203270912, 0.03220589831471443, -0.017284072935581207, 0.001178869279101491, 0.022143809124827385, 0.0010954693425446749, 0.01581443101167679, 0.029194485396146774, 0.05171697586774826, -0.014813631772994995, -0.01734718680381775, -0.016310323029756546, -0.024866703897714615, -0.005062601529061794, 0.021999549120664597, -0.010864531621336937, -0.014344788156449795, 0.01266777329146862, -0.0820835679769516, 0.024596218019723892, -0.03485666587948799, 0.01832093670964241, -0.008844900876283646, -0.011964509263634682, 0.025678163394331932, -0.04746132344007492, 0.04208766296505928, -0.0030790353193879128, -0.03280096873641014, 0.011405504308640957, -0.012739903293550014, 0.028437122702598572, 0.03977951407432556, -0.01842913217842579, 0.009971926920115948, -0.0034013648983091116, 0.010729288682341576, -0.02007008157670498, -0.027156822383403778, -0.01432675588876009, -0.03703858703374863, -0.018122579902410507, 0.020538924261927605, 0.01626524142920971, 0.013758734799921513, 0.015625089406967163, -0.03658777475357056, 0.013948075473308563, 0.02391098625957966, -0.00041474562021903694, -0.021692998707294464, 0.011522714979946613, -0.05413331836462021, 0.013443167321383953, 0.02373066172003746, -0.07465421408414841, -0.004792115185409784, -0.008921538479626179, -0.009557181969285011, -0.001341161085292697, 0.0044968342408537865, 0.026724044233560562, 0.02787811867892742, -0.0402844212949276, -0.05160878226161003, -0.03179115429520607, 0.021963484585285187, 0.0026890842709690332, -0.010242413729429245, 0.010476835072040558, -0.012352206744253635, -0.005256449803709984, 0.001291571999900043, -0.011594844982028008, 0.00802442617714405, 0.008542858064174652, -0.06992971897125244, 0.00034317944664508104, -0.03070920705795288, -0.013073503039777279, -0.006694535259157419, -0.03213376924395561, 0.0065367515198886395, 0.025533903390169144, 0.006910924334079027, 0.010467818938195705, 0.048002295196056366, 0.007731399033218622, -0.06390689313411713, 0.023225754499435425, -0.0020478065125644207, 0.0274273082613945, 0.018266839906573296, 0.05810045078396797, 0.006176103372126818, -0.011162066832184792, 0.010720272548496723, 0.0008339993073605001, -0.05315956845879555, 0.005328579340130091, -0.012965308502316475, -0.013416118919849396, -0.01106288842856884, 0.0031331325881183147, -0.009421938098967075, 0.0066269137896597385, 0.019078297540545464, 0.015300506725907326, -0.01909632980823517, 0.027138788253068924, 0.013767750933766365, 0.009385873563587666, -0.021729063242673874, 0.024794574826955795, -0.032368190586566925, -0.02044876292347908, -0.03649761527776718, 0.05481855198740959, 0.006509703118354082, 0.005517920013517141, -0.01601278781890869, 0.03981557860970497, -0.007127313409000635, 0.025353580713272095, 0.01776193268597126, -0.0010098153725266457, -0.014633307233452797, -0.0010594045743346214, -0.03794020786881447, 0.00276572210714221, -0.052438270300626755, 0.04320567473769188, -0.00830843672156334, -0.0008441425743512809, -0.04764164984226227, -0.017013587057590485, 0.0021819225512444973, -0.025533903390169144, 0.016553759574890137, -0.021837258711457253, -0.022594619542360306, 0.008817852474749088, -0.028833836317062378, -0.04558595269918442, -0.00023442142992280424, 0.016454581171274185, 0.02906825765967369, 0.030312495306134224, -0.012812033295631409, 0.021584805101156235, -0.00018638194887898862, 0.03361242637038231, 0.02286510542035103, -0.03085346706211567, 0.014047253876924515, 0.017085716128349304, -0.0028108032420277596, 0.009917830117046833, -0.03750742971897125, 0.02787811867892742, -0.0455138236284256, -0.01598573848605156, 0.0034509541001170874, 0.024506056681275368, -0.01685129478573799, 0.003834142815321684, 0.01845617964863777, -0.023081494495272636, 0.005003996193408966, -0.004548677243292332, 0.022774944081902504, -0.015589025802910328, 0.04991373419761658, -0.022666748613119125, -0.023784758523106575, 0.054602161049842834, 0.005468330811709166, -0.00012115530989831313, 0.021368416026234627, -0.007469929289072752, 0.009746521711349487, -0.007997377775609493, 0.010449786670506, -0.03312555328011513, -0.014471015892922878, -0.006261757109314203, 0.056513600051403046, 0.02544374205172062, 0.007001086138188839, -0.02659781649708748, 0.030835434794425964, -0.023496240377426147, 0.027842054143548012, -0.043602388352155685, 0.00687485933303833, -0.0007844101637601852, -6.311346078291535e-05, -0.03619106486439705, -0.0020906333811581135, -0.00911087915301323, 0.020683184266090393, -0.010215364396572113, 0.012739903293550014, -0.013930043205618858, 0.02477654255926609, -0.00021103564358782023, -0.007203951012343168, 6.399395351763815e-05, -0.009259646758437157, 0.010179299861192703, -0.0324583537876606, 0.013479232788085938, 0.007614188361912966, -0.05478248745203018, -0.03335997462272644, 0.012379255145788193, 0.009034241549670696, 0.02421753667294979, 0.020701216533780098, 0.02118809148669243, 0.022450361400842667, 0.005720784422010183, 0.02977152168750763, 0.017374234274029732, 0.0067892055958509445, 0.005472838878631592, -0.020196307450532913, -0.03563205897808075, -0.00875924713909626, -0.016878344118595123, -0.004174504894763231, -0.004312002100050449, 0.01909632980823517, -0.01741029880940914, 0.02630929835140705, 0.019420914351940155, -0.01902420073747635, 0.007240016013383865, 0.01958320662379265, -0.026742076501250267, 0.00975553784519434, -0.011053872294723988, -0.017338169738650322, -0.018537325784564018, -0.041438497602939606, 0.009701441042125225, 0.039382800459861755, 0.028671544045209885, 0.02659781649708748, 0.014092334546148777, -0.005170796066522598, -0.03655171021819115, 0.01940288208425045, -0.018402082845568657, 0.009277679026126862, -0.005463822744786739, 0.022847073152661324, -0.009467019699513912, -0.0029415381141006947, -0.04540563002228737, 0.02935677580535412, 0.016878344118595123, -0.0024321223609149456, -0.010891580954194069, 0.009971926920115948, 0.0034780027344822884, 0.010539948008954525, -0.0328189991414547, 0.013966107740998268, 0.009313743561506271, -0.010332575999200344, 0.025047028437256813, -0.032999325543642044, -0.011089936830103397, 0.0008768263505771756, -0.013010389171540737, 0.02156677283346653, -0.005653162952512503, 0.017058666795492172, -0.014543144963681698, 0.0009838937548920512, -0.018591422587633133, 0.0006424048915505409, -0.03530747443437576, -0.008980143815279007, 0.026724044233560562, -0.0023599928244948387, 0.00806049071252346, -0.005896600894629955, -0.01661687344312668, -0.012541546486318111, 0.010062089189887047, -0.030474785715341568, -0.004406671971082687, 0.02331591583788395, -0.003888240084052086, 0.05103174224495888, 0.01633737049996853, -0.03417143225669861, -0.02712075598537922, 0.02959119714796543, -0.043602388352155685, 0.005626114550977945, 0.011351407505571842, -0.02488473616540432, 0.02648962289094925, -0.019168460741639137, -0.01591360941529274, -0.006144546438008547, 0.005544968415051699, 0.006676502991467714, 0.015174279920756817, -0.004643347579985857, 0.0028085492085665464, -0.0014031475875526667, -0.005143747199326754, -0.0061174980364739895, 0.01154976338148117, 0.061021704226732254, 0.007875658571720123, -0.05326776206493378, -0.028797771781682968, -0.01156779658049345, 0.031123952940106392, 0.017861109226942062, 0.017121780663728714, -0.024469992145895958, -0.044828590005636215, -0.009394889697432518, -0.03491076081991196, -0.006442081183195114, -0.050130121409893036, 0.010648142546415329, -0.036840230226516724, -0.020773345604538918, -0.019745497032999992, -0.013028422370553017, -0.015255426056683064, -0.0032931703608483076, 0.011270261369645596, -0.03873363509774208, 0.04493678733706474, 0.004397655837237835, -0.013930043205618858, 0.0055224280804395676, 0.003940083552151918, -0.02003401704132557, 0.021133994683623314, -0.04731706529855728, -0.03651564568281174, -0.06852319091558456, -0.023640500381588936, -0.011423536576330662, -0.019276654347777367, -0.010179299861192703, -0.004032499622553587, 0.019745497032999992, -0.01246040128171444, 0.027283048257231712, 0.024506056681275368, -0.0012273314641788602, 0.010098153725266457, 0.0033359972294420004, -0.030907563865184784, -0.03473043814301491, 0.054457902908325195, 0.057811930775642395, -0.01755455881357193, -0.00623020064085722, 0.029897749423980713, -0.0001415826554875821, -0.013848897069692612, 0.006013811565935612, 0.000311904470436275, -0.0034171431325376034, -0.03280096873641014, -0.019637303426861763, -0.01636441983282566, 0.026219135150313377, -0.0028355978429317474, -0.01951107569038868, -0.02425360307097435, -0.00691994046792388, 0.006527735386043787, -0.023568371310830116, 0.00207147398032248, -0.004411180038005114, -0.03559599444270134, 0.02932071126997471, -0.014317739754915237, 0.009313743561506271, 0.00161390146240592, 0.008299420587718487, -0.012730887159705162, -0.0184651967138052, 0.04497285187244415, 0.0041722506284713745, -0.010476835072040558, -0.025642098858952522, 0.018402082845568657, 0.02160283736884594, 0.025101125240325928, -0.016625888645648956, -0.00869162566959858, 0.018329953774809837, -0.036389417946338654, 0.027138788253068924, -0.0020286471117287874, 0.0005683029303327203, -0.035018954426050186, -0.0016432041302323341, -0.02059302106499672, 0.0221979059278965, -0.013325956650078297, -0.0002503406722098589, -0.030240364372730255, 0.0016499662306159735, -0.00830843672156334, 0.01787012629210949, 0.007943280041217804, 0.02708469144999981, -0.004656871780753136, -0.0012656503822654486, -0.04003196954727173, 0.023406079038977623, -0.009128911420702934, 0.0326567105948925, -0.0406811349093914, 0.016526710242033005, -0.018717650324106216, 0.007483453489840031, 0.001636441913433373, -0.02227003686130047, 0.001154074794612825, -0.017770947888493538, 0.007767464034259319, 0.006739616394042969, 0.03667793795466423, 0.0077178748324513435, -0.0028243274427950382, -0.005905617028474808, 0.008064999245107174, -0.029014160856604576, 0.003780045546591282, 0.01667998731136322, 0.02055695652961731, -0.03088953159749508, -0.002628224901854992, 0.021656934171915054, 0.00023892954050097615, -0.017329154536128044, 0.02582242339849472, -0.010864531621336937, -0.03029446303844452, 0.006608881056308746, 0.0010701112914830446, 0.012604660354554653, 0.026651913300156593, 0.009286695159971714, -0.06989365071058273, -0.017112765461206436, 0.017229976132512093, 0.0013648286694660783, 0.020737281069159508, 0.004787607118487358, 0.00020483699336182326, 0.013542345724999905, 0.009647343307733536, -0.007681810297071934, -0.02712075598537922, -0.02659781649708748, -0.0067215836606919765, -0.0006970656686462462, -0.0007849736721254885, -0.008876457810401917, 0.018555358052253723, -0.005040060728788376, -0.006040859967470169, -0.0003079598827753216, 0.03873363509774208, -0.002524538431316614, -0.026507655158638954, 0.04288109019398689, 0.0028829327784478664, -0.012072703801095486, 0.011820250190794468, -0.017491444945335388, -0.03308948874473572, 0.005396201275289059, 0.014218561351299286, 0.047028545290231705, 0.00019863835768774152, -0.023297883570194244, 0.04129423573613167, -0.025317514315247536, 0.003942337352782488, 0.0014177989214658737, -0.020430728793144226, -0.028419090434908867, -0.04075326398015022, -0.013884961605072021, 0.001855085021816194, -0.023460175842046738, -0.005441281944513321, 0.002050060546025634, 0.02585848793387413, 0.0010391180403530598, -0.0028874408453702927, 0.019655335694551468, -0.002366754924878478, -0.02593061700463295, 0.031069856137037277, 0.013343988917768002, -0.014489048160612583, 0.0033698081970214844, 0.04197946935892105, -0.00036008484312333167, -0.016589824110269547, -0.02003401704132557, 0.017843076959252357, -0.011089936830103397, 0.032440319657325745, 0.02962726354598999, 0.040464747697114944, -0.03647958114743233, 0.04353025555610657, -0.0006491670501418412, -0.021909387782216072, 0.05359234660863876, 0.0036109916400164366, -0.019673367962241173, -0.0388057641685009, 0.031123952940106392, 0.003574926871806383, 0.005599065683782101, 0.04753345251083374, -0.017572591081261635, 0.019348785281181335, 0.02048482745885849, -0.044395811855793, -0.012433351948857307, 0.03440585359930992, -0.0019598985090851784, 0.0227569118142128, -0.008894490078091621, 0.022991333156824112, 0.024307699874043465, 0.004073072224855423, 0.004481055773794651, 0.01608491688966751, -0.029374809935688972, 0.03678613156080246, -0.012559578754007816, -0.03202557563781738, 0.012649741023778915, 0.000413900357671082, -0.021837258711457253, -0.014930842444300652, 0.013930043205618858, 0.03909428417682648, -0.0054322658106684685, 0.030655110254883766, -0.009737505577504635, -0.01741931587457657, 0.004113645292818546, 0.010918629355728626, -0.01850126124918461, 0.005526936147361994, 0.035055018961429596, -0.013127600774168968, -0.00314891105517745, 0.02436179667711258, -0.006473638117313385, 0.024091310799121857, -0.003978402353823185, 0.002312657656148076, 0.03211573511362076, 0.00623020064085722, -0.006748632527887821, -0.025209320709109306, -0.024632282555103302, 0.020358599722385406, 0.04342206194996834, -0.015011987648904324, 0.010702240280807018, 0.0075014857575297356, -0.0018866417231038213, -0.01601278781890869, 0.030546916648745537, 0.009665376506745815, 0.010404705069959164, 0.000318103120662272, 0.004508104640990496, 0.024830639362335205, 0.003063257085159421, 0.004059548024088144, 0.0005519610713236034, 0.022252004593610764, -0.026669945567846298, 0.024379828944802284, 0.02872564271092415, -0.016355402767658234, 0.009728489443659782, -0.007388783153146505, 0.0018032417865470052, 0.02585848793387413, 0.009566198103129864, -0.007776480168104172, 0.020791377872228622, -0.005206860601902008, 0.030204299837350845, 0.027896150946617126, -0.027265015989542007, 0.031340342015028, 0.015516895800828934, -0.013425135053694248, -0.029266614466905594, -0.014921826310455799, 0.01933075301349163, 0.0053240712732076645, -0.030420688912272453, -0.02279297634959221, 0.008168685249984264, 0.0040167211554944515, -0.02302739769220352, -0.016184095293283463, -0.01111698616296053, -0.03162886202335358, 0.005729801021516323, 0.030691174790263176, -0.00019314410747028887, 0.012397287413477898, -0.016463598236441612, 0.03381078317761421, -0.00503555266186595, -0.014840680174529552, 0.015390668995678425, 0.031051823869347572, 0.0060093034990131855, -0.009845700114965439, -0.026471590623259544, 0.021783161908388138, 0.009854716248810291, 0.013677588663995266, -0.0005714022554457188, -0.0004217895329929888, 0.004963423125445843, 0.01895207166671753, 0.00040347536560148, -0.00833999365568161, -0.03963525593280792, -0.005342104006558657, -0.017491444945335388, -0.016202127560973167, 0.007817053236067295, -0.025119157508015633, 0.021512674167752266, -0.012307125143706799, 0.027517469599843025, -0.0221979059278965, -0.006910924334079027, 0.008258847519755363, -0.024488024413585663, -0.03747136518359184, 0.008596954867243767, -0.047100674360990524, 0.00764123722910881, 0.015480831265449524, 0.031250178813934326, -0.0025944141671061516, -0.0038296347483992577, 0.01246040128171444, 0.00029330854886211455]\n"
     ]
    }
   ],
   "source": [
    "documents = [\n",
    "    \"인공지능은 컴퓨터 과학의 한 분야입니다.\",\n",
    "    \"머신러닝은 인공지능의 하위 분야입니다.\",\n",
    "    \"딥러닁은 머신러닝의 한 종류입니다.\",\n",
    "    \"자연어 처리는 컴퓨터가 인간의 언어를 이해하고 생성하는 기술입니다.\",\n",
    "    \"컴퓨터 비전은 컴퓨터가 디지털 이미지나 비디오를 이해하는 방법을 연구합니다.\"\n",
    "]\n",
    "\n",
    "# 문서 임베딩\n",
    "document_embeddings = embeddings_model.embed_documents(documents)\n",
    "\n",
    "#임베딩 결과 출력\n",
    "print(f\"임베딩 벡터의 개수: {len(document_embeddings)}\")\n",
    "print(f\"임베딩 벡터의 차원: {len(document_embeddings[0])}\")\n",
    "print(document_embeddings[0])"
   ]
  },
  {
   "cell_type": "markdown",
   "id": "ad8ddc10",
   "metadata": {},
   "source": [
    "### 4-2 Huggingface - 오픈소스 LLM\n",
    "(1) embedding 모델"
   ]
  },
  {
   "cell_type": "code",
   "execution_count": 36,
   "id": "a5e6dbf0",
   "metadata": {},
   "outputs": [
    {
     "data": {
      "text/plain": [
       "HuggingFaceEmbeddings(client=SentenceTransformer(\n",
       "  (0): Transformer({'max_seq_length': 8192, 'do_lower_case': False}) with Transformer model: XLMRobertaModel \n",
       "  (1): Pooling({'word_embedding_dimension': 1024, 'pooling_mode_cls_token': True, 'pooling_mode_mean_tokens': False, 'pooling_mode_max_tokens': False, 'pooling_mode_mean_sqrt_len_tokens': False, 'pooling_mode_weightedmean_tokens': False, 'pooling_mode_lasttoken': False, 'include_prompt': True})\n",
       "  (2): Normalize()\n",
       "), model_name='BAAI/bge-m3', cache_folder=None, model_kwargs={}, encode_kwargs={}, multi_process=False, show_progress=False)"
      ]
     },
     "execution_count": 36,
     "metadata": {},
     "output_type": "execute_result"
    }
   ],
   "source": [
    "from langchain_huggingface.embeddings import HuggingFaceEmbeddings\n",
    "\n",
    "# Hugging Face의 임베딩 모델 생성\n",
    "embeddings_model = HuggingFaceEmbeddings(model_name = \"BAAI/bge-m3\")\n",
    "\n",
    "#임베딩 객체 출력\n",
    "embeddings_model"
   ]
  },
  {
   "cell_type": "code",
   "execution_count": 37,
   "id": "b59e9bfe",
   "metadata": {},
   "outputs": [
    {
     "name": "stdout",
     "output_type": "stream",
     "text": [
      "쿼리 임베딩 벡터의 차원: 1024\n",
      "[-0.03703910857439041, -0.004837977234274149, 0.002937301993370056, -0.0155146149918437, -0.0009442040463909507, -0.041501618921756744, -0.0065744430758059025, 0.011289611458778381, 0.021614037454128265, 0.004928721580654383, -0.020340586081147194, 0.016905207186937332, -0.01287413015961647, 0.005518912337720394, 0.014988313429057598, 0.024228766560554504, 0.0073691424913704395, -0.028049904853105545, -0.014938993379473686, -0.051851898431777954, -0.006705078296363354, -0.00925152376294136, -0.01698082871735096, 0.006491475272923708, 0.0529317781329155, 0.04813732951879501, -0.008069519884884357, -0.023171762004494667, 0.018143033608794212, -0.01132812350988388, -0.004240384325385094, -0.00635472172871232, -0.0022717099636793137, 0.014329420402646065, -0.03563680127263069, -0.008155823685228825, -0.011798215098679066, -0.04542406648397446, -0.040732864290475845, 0.002213909989222884, -0.012132315896451473, 0.01789611019194126, -0.01914467103779316, -0.041924431920051575, 0.0009190690470859408, -0.03915587440133095, -0.02435961924493313, -0.024489065632224083, -0.0221891850233078, -0.004594800993800163, 0.03145499899983406, -0.04872862994670868, 0.01798146218061447, 0.024992061778903008, 0.002237493870779872, 0.0484931543469429, -0.00827550608664751, 0.028034614399075508, -0.07396603375673294, -0.020461732521653175, -0.02633664943277836, -0.007573049049824476, -0.03894695267081261, -0.017513737082481384, 0.01922086998820305, 0.0637216717004776, 0.020348941907286644, -0.011644093319773674, -0.018541254103183746, -0.040831174701452255, 0.0024215863086283207, 0.04151124507188797, -0.05780715122818947, 0.05268526077270508, -0.04598036780953407, 0.01136146392673254, 0.020732011646032333, 0.006215624511241913, -0.034680865705013275, 0.017564894631505013, 0.04858102649450302, -0.011552084237337112, -0.029530895873904228, -0.013280296698212624, -0.006100402679294348, -0.0019025321817025542, -0.01976139098405838, 0.06854034215211868, -0.010715038515627384, 0.002307082060724497, -0.04258962348103523, -0.0015900882426649332, 0.051189228892326355, -0.1059906929731369, -0.018659505993127823, -0.08233021944761276, -0.03328856825828552, 0.010936746373772621, 0.014399300329387188, 0.032037153840065, -0.005423139315098524, 0.04439564421772957, 0.01600418984889984, -0.026697076857089996, 0.029552817344665527, 0.005722407251596451, 0.000792717793956399, 0.00944548100233078, -0.03795604780316353, -0.0065591055899858475, 0.03813176974654198, 0.03867703303694725, 0.019001876935362816, 0.032001249492168427, -0.04679051414132118, -0.05345744639635086, 0.008922774344682693, 0.0013820783933624625, 0.023152250796556473, 0.04090913012623787, -0.00774686923250556, 0.020619865506887436, -0.036084674298763275, -0.042336605489254, -0.008937300182878971, -0.01676204614341259, 0.03305098041892052, 0.03457774221897125, -0.00610669981688261, -0.014311729930341244, 0.026956042274832726, -0.01739504560828209, -0.07625304162502289, -0.006047247909009457, -0.05990391969680786, -0.020366089418530464, 0.006905903574079275, -0.031208118423819542, 0.02491195686161518, -0.033270444720983505, 0.034372515976428986, 0.006274032406508923, -0.03359514847397804, -0.02889174222946167, 0.018341289833188057, 0.00662935571745038, 0.004403310362249613, -0.00789885688573122, -0.010449218563735485, 0.0244990773499012, -0.01784856989979744, -0.023140765726566315, -0.026498056948184967, -0.009703992865979671, 0.008640225045382977, 0.046334803104400635, 0.010182344354689121, 0.023935405537486076, -0.05202912166714668, 0.034543391317129135, 0.04255595803260803, -0.0006984250503592193, 0.006904157344251871, 0.024554777890443802, -0.009249915368855, 0.0037500071339309216, 0.0019923136569559574, 0.022435232996940613, -0.007651494815945625, -0.026824641972780228, -0.03718419745564461, 0.010140026919543743, -0.03330319747328758, 0.03516095504164696, 0.014153017662465572, 0.0015179556794464588, 0.06473011523485184, 0.0334167443215847, -0.009922763332724571, -0.0082174027338624, -0.05553996562957764, -0.01752467080950737, -0.011371000669896603, 0.0038229895289987326, -0.003737520659342408, 0.011147863231599331, 0.015892645344138145, 0.011535942554473877, 0.019301921129226685, 6.596662569791079e-05, -0.016626128926873207, -0.02188459038734436, 0.013342275284230709, -0.004614612553268671, -0.0013086441904306412, -0.029976196587085724, 0.03368758037686348, 0.04602937027812004, -0.004229736514389515, -0.040023427456617355, -0.027000149711966515, 0.02847193367779255, 0.016615090891718864, 0.007433953694999218, -0.04309447109699249, 0.013872218318283558, 0.004785234574228525, -0.04215671122074127, 0.011164250783622265, -0.03745197504758835, 0.018990477547049522, 0.0484260618686676, 0.049872223287820816, -0.023933259770274162, -0.0551706999540329, -0.008649086579680443, -0.019167348742485046, 0.04419618844985962, -0.007545462343841791, -0.012426633387804031, -0.013597331941127777, 0.019231384620070457, 0.0015144867356866598, 0.025551628321409225, 0.035613253712654114, -0.0017695671413093805, 0.037005629390478134, -0.019344229251146317, 0.021112507209181786, 0.010621157474815845, 0.0018154603894799948, 0.05887378007173538, 0.016217155382037163, -0.03262634202837944, 0.0010106354020535946, -0.014767294749617577, -0.03783585876226425, -0.021514059975743294, 0.00684021133929491, 0.019496021792292595, -0.024711284786462784, 0.0021765169221907854, -0.03264019265770912, 0.026917017996311188, -0.011721826158463955, -0.013111687265336514, -0.016775289550423622, -0.02588149718940258, -0.012007081881165504, 0.025429394096136093, -0.001238988246768713, -0.03878544270992279, 0.005284710321575403, -0.012242447584867477, 0.05315488204360008, 0.014017323963344097, -0.010207867249846458, 0.0057085719890892506, 0.007218088023364544, 0.03655286505818367, 0.010486872866749763, -0.02365611307322979, 0.0005250502144917846, 0.0328153520822525, 0.05395575612783432, 0.010052726604044437, 0.0018817675299942493, -0.032363105565309525, 0.019335687160491943, 0.03375539183616638, -0.014729125425219536, -0.02018938586115837, -0.020224418491125107, 0.003361447947099805, 0.03844417631626129, -0.014588440768420696, -0.008461104705929756, -0.015727421268820763, 0.0253230482339859, 0.009637256152927876, -0.02126597799360752, -0.05622906982898712, -0.014719407074153423, 0.04648502916097641, 0.02474283240735531, -0.02521609701216221, -0.031498704105615616, 0.0021102996543049812, -0.0018524669576436281, -0.03766106441617012, -0.010685309767723083, -0.021195489913225174, 0.05994449928402901, -0.017540929839015007, -0.02929447405040264, -0.016515005379915237, -0.03334273025393486, -0.13450641930103302, 0.014861896634101868, -0.030510183423757553, 0.023870954290032387, -0.008990776725113392, -0.030506974086165428, 0.019909892231225967, -0.012342003174126148, 0.0009846341563388705, 0.02932538278400898, 0.008167671039700508, -0.046512071043252945, -0.04996279254555702, -0.032370492815971375, 0.031549837440252304, 0.0058265989646315575, 0.01724795438349247, -0.012478486634790897, -0.03253532573580742, -0.048687055706977844, -0.01688823476433754, -0.06612596660852432, 0.008022112771868706, -0.051493532955646515, 0.05662037059664726, -0.011946975253522396, 0.014184609055519104, -0.0032262708991765976, -0.047148387879133224, -0.0571012981235981, -0.013619956560432911, -0.04022351652383804, -0.00909147597849369, 0.05346470698714256, 0.051880255341529846, 0.005872086621820927, -0.003309068037196994, -0.024142449721693993, 0.04166966676712036, -0.006590451113879681, 0.0012395718367770314, 0.0040785097517073154, 0.027110610157251358, 0.04170549660921097, 0.0046242112293839455, 0.017327461391687393, 0.03122677281498909, -0.0188044011592865, 0.022112887352705002, -0.0014157312689349055, -0.031641408801078796, -0.003841669298708439, 0.04987513646483421, -0.04317937791347504, 0.019453616812825203, -0.004618063569068909, 0.03876299783587456, 0.0749245211482048, 0.046732209622859955, -0.012821913696825504, -0.04926648736000061, 0.03639502450823784, -0.016499239951372147, 0.02383751980960369, -0.014056315645575523, -0.008350440301001072, 0.0763549953699112, 0.021610692143440247, -0.0064717186614871025, -0.029888402670621872, 0.042987555265426636, -0.00631959130987525, 0.0034829399082809687, -0.011994454078376293, 0.018967216834425926, 0.036653585731983185, 0.011891364119946957, -0.055312544107437134, -0.043616119772195816, -0.07883046567440033, 0.026639524847269058, -0.016894187778234482, -0.0008407088462263346, -0.0007741173030808568, -0.02035100758075714, -0.019341684877872467, -0.0019193739863112569, 0.0029372405260801315, 0.01631166599690914, 0.2409517914056778, -0.020462974905967712, 0.016002878546714783, -0.02317243255674839, -0.009749184362590313, -0.005551529582589865, -0.022992251440882683, -0.021734096109867096, 0.010987715795636177, -0.022734830155968666, 0.005074290558695793, -0.016034021973609924, 0.0074820187874138355, 0.0038968510925769806, 0.024994494393467903, 0.06091343238949776, -0.034541621804237366, 0.00802217610180378, 0.06798815727233887, 0.011886147782206535, 0.0013998700305819511, 0.012133032083511353, 0.03347232937812805, 0.012255777604877949, -0.023566631600260735, -0.006584780290722847, 0.016387877985835075, 0.0323101207613945, -0.012116330675780773, -0.020721763372421265, -0.0006229066057130694, 0.006029612850397825, 0.015111194923520088, -0.005422507878392935, 0.002463556593284011, 0.008051221258938313, -0.012814352288842201, -0.02607821300625801, 0.016747526824474335, -0.0022051676642149687, -0.029849648475646973, -0.021296121180057526, 0.03523918241262436, -0.006630314514040947, 0.00959184393286705, 0.01828225888311863, 0.017618749290704727, 0.018735332414507866, -0.06494811177253723, -0.019879985600709915, -0.033681098371744156, -0.0021163381170481443, -0.05129685252904892, 0.002210034988820553, -0.011080113239586353, -0.020890509709715843, -0.015042426064610481, 0.03895008936524391, 0.01661725528538227, -0.017477532848715782, 0.06690279394388199, -0.0045629264786839485, 0.02343878708779812, -0.027877936139702797, 0.008510131388902664, -0.01647283136844635, -0.032951485365629196, -0.08128272742033005, -0.011990692466497421, 0.005866073537617922, 5.373989915824495e-05, -0.0034926149528473616, -0.035064514726400375, -0.005048494786024094, 0.02377402037382126, 0.029240328818559647, 0.030662521719932556, 0.03821937367320061, 0.007099430542439222, 0.010195662267506123, 0.01586768962442875, 0.0036338961217552423, -0.042615365236997604, 0.014660697430372238, 0.009449613280594349, -0.03942973539233208, -0.02807420678436756, 0.04945933073759079, 0.028142306953668594, -0.044728104025125504, 0.04677306115627289, -0.01853320375084877, -0.040078386664390564, 0.031544532626867294, 0.01186833344399929, -0.012655248865485191, 0.06579034775495529, 0.013060910627245903, 0.010287106968462467, 0.04188522696495056, -0.03937184065580368, -0.02285061404109001, 0.00016458418394904584, 0.05560564249753952, 0.04951546713709831, -0.008175370283424854, 0.010815388523042202, 0.06870771944522858, 0.007081430405378342, 0.09678666293621063, -0.017001140862703323, -0.005990356206893921, -0.03747912496328354, -0.0028822310268878937, 0.024536537006497383, 0.00673513300716877, 0.028513982892036438, -0.02395446226000786, 0.008569241501390934, 0.014626252464950085, -0.047746919095516205, 0.02744402177631855, -0.0009996879380196333, -0.023877520114183426, 0.024636924266815186, -0.03217218443751335, 0.03437192738056183, -0.010820289142429829, -0.013791021890938282, 0.01567731611430645, 0.03971211239695549, 0.0070311641320586205, 0.03324786573648453, 0.0676274523139, 0.04346627742052078, 0.010069793090224266, -0.006054588593542576, 0.03341538831591606, 0.023479772731661797, 0.022209590300917625, -0.010580615140497684, -0.006418732460588217, -0.0009642837685532868, 0.020537374541163445, 0.004917812533676624, 0.006863136310130358, 0.02614469639956951, 0.03087620995938778, -0.035683419555425644, -0.03693292289972305, -0.03490952029824257, -0.016222765669226646, -0.007834149524569511, -0.08086274564266205, -0.0026362640783190727, -0.026474623009562492, -0.0013029559049755335, -0.03466775640845299, -0.0015013203956186771, -0.03400755301117897, 0.029870472848415375, -0.023574404418468475, 0.05143370479345322, 0.10243327170610428, 0.016947420313954353, 0.07389853149652481, 0.04954985901713371, 0.011109059676527977, 0.008857875131070614, -0.06901870667934418, 0.04607084020972252, -0.031760718673467636, -0.0435081422328949, 0.00694748992100358, -0.028536885976791382, -0.02870975248515606, -0.02836226113140583, 0.0007430750411003828, 0.009753096848726273, -0.05102904140949249, 0.016081800684332848, 0.019987232983112335, 0.02581094577908516, 0.05375566706061363, -0.0053192987106740475, 0.003931467887014151, 0.05399198830127716, -0.005129014141857624, 0.014109095558524132, -0.015200208872556686, -0.0002676274161785841, 0.07187123596668243, 0.01199684850871563, -0.006195000372827053, 0.020591942593455315, -0.039722684770822525, 0.007841473445296288, -0.020624708384275436, 0.046031106263399124, 0.02848253957927227, 0.03369215875864029, -0.051017455756664276, -0.0006113676936365664, -0.0005767529946751893, 0.02063206024467945, 0.009316285140812397, -0.02317875064909458, -0.0013654694193974137, -0.01855292357504368, 0.044818975031375885, 0.026425611227750778, -0.005445383954793215, -0.030831264331936836, -0.007227353285998106, -0.0332685187458992, 0.0180924441665411, -0.04253166913986206, 0.033409442752599716, 0.022858314216136932, -0.0566527284681797, -0.03302739933133125, 0.030000600963830948, 0.012428211979568005, -0.07073477655649185, 0.00037813358358107507, 0.0529303140938282, -0.028434911742806435, -0.021334771066904068, 0.025617264211177826, 0.03773924708366394, 0.008760221302509308, -0.06261825561523438, 0.02034134604036808, 0.03599686920642853, 0.0127682751044631, -0.0152438934892416, -0.021516699343919754, -0.016208602115511894, -0.014530643820762634, -0.030245466157794, 0.034258753061294556, -0.013401299715042114, 0.06385199725627899, 0.02114606834948063, 0.01792151853442192, -0.0193473007529974, 0.011336950585246086, -0.008723476901650429, -0.015219813212752342, 0.028517642989754677, -0.03264106810092926, -0.010743842460215092, 0.041790079325437546, 0.0026681963354349136, 0.00961543433368206, -0.012813898734748363, 0.03967619314789772, 0.0013596791541203856, -0.011945155449211597, -0.002205192344263196, 0.0029573398642241955, 0.02780296839773655, -0.030607184395194054, 0.0018586432561278343, -0.0024497087579220533, 0.021612195298075676, 0.007533807307481766, 0.0033528006169945, -0.05431551858782768, -0.04692956432700157, 0.03315075859427452, 0.019050760194659233, -0.02316315844655037, -0.044608645141124725, -0.028425147756934166, 0.025952907279133797, -0.04476160928606987, 0.018117744475603104, 0.006036276929080486, 0.04835161194205284, -0.018086079508066177, 0.07059591263532639, -0.012845794670283794, 0.03550199046730995, -0.02840566076338291, -0.00429058400914073, 0.009981376118957996, -0.025032423436641693, 0.00034159107599407434, -0.07229295372962952, -0.007575966417789459, -0.01706044003367424, -0.053740907460451126, 0.017092838883399963, -0.006584623362869024, 0.0584757961332798, -0.019886884838342667, 0.03939032182097435, -0.02440888248383999, -0.022697584703564644, -0.03535720705986023, 0.001493095769546926, -0.014277797192335129, 0.019025186076760292, -0.001035403343848884, 0.024349763989448547, 0.012797086499631405, -0.03189678490161896, 0.02428225800395012, -0.0005900897667743266, -0.01870226487517357, 0.006278887391090393, 0.028228409588336945, 0.029838599264621735, -0.045945361256599426, -0.016823938116431236, 0.04754149541258812, -0.07021923363208771, 0.025104248896241188, 0.023485660552978516, 0.057677507400512695, 0.02342895045876503, 0.0015275656478479505, -0.045842912048101425, 0.030835416167974472, 0.000490450591314584, -0.02095084823668003, -0.030310699716210365, 0.026045264676213264, -0.07034263014793396, -0.015839887782931328, 0.04656244069337845, -0.007092789281159639, -0.003866113256663084, -0.008796448819339275, 0.0005151097429916263, -0.03027923032641411, -0.024433648213744164, 0.03805068880319595, -0.01650296337902546, 0.04245004430413246, 0.005689399782568216, 0.04680785909295082, -0.01727033592760563, -0.016238803043961525, -0.05630577728152275, 0.008184343576431274, 0.020044399425387383, -0.0024435354862362146, 0.03499756380915642, 0.00968275684863329, 0.04170863330364227, -0.04717320576310158, -0.057114508002996445, 0.03945715352892876, 0.016719825565814972, -0.03055381029844284, -0.025327634066343307, 0.02032640017569065, 0.010175067000091076, -0.040363602340221405, 0.03164279833436012, 0.014100948348641396, 0.03561710566282272, 0.013648394495248795, 0.013169459067285061, 0.0028140428476035595, -0.024342941120266914, 0.013845599256455898, -0.014623359777033329, -0.010815776884555817, 0.014875141903758049, 0.05588502064347267, -0.03753667697310448, -0.024807624518871307, 0.01653847098350525, -0.016592448577284813, -0.019737496972084045, -0.010183039121329784, -0.023496873676776886, -0.011645304039120674, -0.062323879450559616, -0.03916674479842186, -0.03645595535635948, -0.01106002926826477, -0.023356176912784576, 2.1593439669231884e-05, -0.04460373893380165, 0.040201395750045776, -0.05502589792013168, -0.03401712328195572, -0.03588032349944115, -0.012097464874386787, -0.00696257408708334, -0.12520672380924225, 0.02568047307431698, -0.0006912040989845991, -0.005511785391718149, -0.04034445807337761, 0.012482887133955956, -0.023088689893484116, -0.0004981646779924631, 0.01412761677056551, -0.023778708651661873, -0.022780047729611397, 0.050184525549411774, -0.04474738612771034, -0.01480012759566307, -0.004711489658802748, 0.02802039496600628, -0.016769614070653915, 0.016406241804361343, -0.016325613483786583, -0.021781690418720245, -0.04240022599697113, -0.012077446095645428, 0.028010835871100426, -0.02755483239889145, 0.05169368535280228, 0.02230638451874256, 0.02518993243575096, 0.04332414269447327, -0.038832128047943115, -0.014297817833721638, 0.01759355328977108, -0.069396011531353, 0.041472721844911575, -0.0013704551383852959, -0.05102717876434326, -0.027104703709483147, -0.025515060871839523, -0.01919970102608204, -0.004185955971479416, 0.000927886925637722, -0.004753044340759516, 0.017131242901086807, 0.00520741892978549, -0.02561447024345398, -0.035888273268938065, 0.045889027416706085, -0.02758384495973587, -0.027078984305262566, -0.024635158479213715, 0.004591120406985283, 0.026804644614458084, -0.019332097843289375, 0.001126508112065494, 0.01927037164568901, -0.0068404111079871655, 0.024125071242451668, -0.0545220747590065, 0.025098688900470734, -0.002562602050602436, 0.09898555278778076, -0.002052217721939087, -0.0008181518060155213, -0.027206964790821075, 0.028830399736762047, -0.023654181510210037, 0.01934931054711342, -0.035168688744306564, 0.005421272944658995, 0.024397531524300575, 0.006299026310443878, -0.011892029084265232, 0.005306425970047712, 0.011678384616971016, -0.017512744292616844, 0.03408222645521164, 0.01178277563303709, 0.03477010875940323, 0.015950998291373253, -0.01795613020658493, -0.028450580313801765, 0.0356270894408226, 0.0067557985894382, -0.04474259167909622, -0.012436754070222378, -0.01788584515452385, 0.00677082734182477, -0.030114205554127693, 0.014468451030552387, 0.012383914552628994, -0.010364186018705368, -0.0745256096124649, -0.013963388279080391, 0.004212424159049988, 0.010386229492723942, -0.050680238753557205, 0.0054351892322301865, -0.021549994125962257, 0.004790780134499073, -0.03258195146918297, -0.01671919971704483, -0.017220938578248024, -0.0008278289460577071, 0.017261909320950508, 0.026830047369003296, -0.015174456872045994, 0.008098145946860313, 0.0670638456940651, -0.018373597413301468, 0.006587144453078508, -0.004388123285025358, 0.015563716180622578, -0.007881883531808853, 0.0040450324304401875, 0.03504034876823425, 0.0011946010636165738, -0.01016332022845745, 0.02928173914551735, 0.03393736854195595, 0.0009082824108190835, 0.026278499513864517, -0.010453011840581894, -0.009190752170979977, -0.021630320698022842, -0.012689596973359585, 0.041912633925676346, 0.05326979607343674, 0.004059993661940098, 0.01584012061357498, 0.09813225269317627, -0.0013113933382555842, 0.026166267693042755, -0.06436094641685486, 0.015403516590595245, -0.009460696950554848, 0.02918069064617157, -0.03512231260538101, 0.030463190749287605, 0.04443252459168434, -0.038153667002916336, -0.06943000108003616, -0.012108893133699894, 0.023328503593802452, -0.022528203204274178, -0.0024424733128398657, -0.0498543344438076, -0.030899671837687492, 0.017584804445505142, -0.01000173483043909, -0.050213608890771866, -0.05402825027704239, -0.0072016604244709015, -0.01813683472573757, 0.0014227799838408828, 0.0258195661008358, -0.0021001638378947973, 0.03713342547416687, -0.023976365104317665, 0.008912111632525921, -0.027604233473539352, 0.02880190685391426, 0.010518441908061504, -0.01337383221834898, -0.029343457892537117, -0.004075908102095127, -0.03959450498223305, -0.024744534865021706, -0.00998631864786148, -0.012933130376040936, -0.01710483245551586, 0.021259376779198647, 0.00532779423519969, 0.06360169500112534, -0.0350000225007534, 0.04053357616066933, 0.03943650424480438, -0.011726203374564648, -0.0027182288467884064, 0.06286504119634628, 0.012967726215720177, -0.018978148698806763, 0.02584891952574253, -0.029939107596874237, 0.014617039822041988, 0.02057117410004139, -0.029358789324760437, -0.040003687143325806, -0.012205011211335659, 0.06588025391101837, 0.03213939443230629, -0.004850604571402073, -0.006376998499035835, 0.00693507818505168, 0.012511452659964561, -0.00910195428878069, 0.03476705029606819, 0.038523610681295395, 0.03456319868564606, 0.03191705793142319, -0.02738853543996811, 0.02758033387362957, -0.055879052728414536, -0.014389981515705585, 0.04932107403874397, -0.015086084604263306, -0.012660960666835308, -0.0031209071166813374, -0.04098908230662346, -0.010736663825809956, -0.01865495927631855, 0.0017576979007571936, -0.015417609363794327, -0.02493094839155674, 0.01627216301858425, 0.008303995244204998, 0.012492227368056774, -0.026104366406798363, 0.028651615604758263, -0.006774331443011761, -0.021069392561912537, -0.012413207441568375, -0.004087885841727257, -0.0118772704154253, -0.010481772944331169, -0.022585267201066017, 0.013596571981906891, -0.058351997286081314, 0.0075412024743855, 0.04869065433740616, -0.024091770872473717, 0.006596357561647892, 0.02685137279331684, -0.05219598487019539, -0.04545801877975464, 0.045182209461927414, 0.015354703180491924, -0.016589941456913948, 0.05032368376851082, 0.012740373611450195, -0.00861627422273159, -0.037519313395023346, 0.05184703320264816, -0.018242692574858665, 0.0012517484137788415, -0.025500047951936722]\n"
     ]
    }
   ],
   "source": [
    "embeded_query = embeddings_model.embed_query(\"인공지능이란 무엇인가요?\")\n",
    "\n",
    "# 쿼리 임베딩 결과 출력\n",
    "print(f\"쿼리 임베딩 벡터의 차원: {len(embeded_query)}\")\n",
    "print(embeded_query)"
   ]
  },
  {
   "cell_type": "markdown",
   "id": "5dfa49b6",
   "metadata": {},
   "source": [
    "## 5. 다국어 RAG 시스템 구축\n",
    "### 5-1 언어 교차 검색\n",
    "(1) 다국어 문서 로드 및 전처리"
   ]
  },
  {
   "cell_type": "code",
   "execution_count": 4,
   "id": "e2895d6a",
   "metadata": {},
   "outputs": [
    {
     "name": "stdout",
     "output_type": "stream",
     "text": [
      "한국어 텍스트 파일 :  ['data\\\\리비안_KR.txt', 'data\\\\테슬라_KR.txt']\n",
      "영어 텍스트 파일 :  ['data\\\\Rivian_EN.txt', 'data\\\\Tesla_EN.txt']\n"
     ]
    }
   ],
   "source": [
    "korean_txt_files = glob(os.path.join('data','*_KR.txt'))\n",
    "english_txt_files = glob(os.path.join('data','*_EN.txt'))\n",
    "\n",
    "print(\"한국어 텍스트 파일 : \", korean_txt_files)\n",
    "print(\"영어 텍스트 파일 : \",english_txt_files)"
   ]
  },
  {
   "cell_type": "code",
   "execution_count": 5,
   "id": "bd88853c",
   "metadata": {},
   "outputs": [
    {
     "name": "stdout",
     "output_type": "stream",
     "text": [
      "한국어 데이터 수: 2\n",
      "영어 데이터 수: 2\n"
     ]
    }
   ],
   "source": [
    "from langchain_community.document_loaders import TextLoader\n",
    "\n",
    "def load_text_files(txt_files):\n",
    "    data = []\n",
    "\n",
    "    for text_file in txt_files:\n",
    "        loader = TextLoader(text_file, encoding='utf-8')\n",
    "        data += loader.load()\n",
    "\n",
    "    return data\n",
    "\n",
    "korean_data = load_text_files(korean_txt_files)\n",
    "english_data = load_text_files(english_txt_files)\n",
    "\n",
    "print(\"한국어 데이터 수:\", len(korean_data))\n",
    "print(\"영어 데이터 수:\", len(english_data))"
   ]
  },
  {
   "cell_type": "code",
   "execution_count": 10,
   "id": "d654ba1a",
   "metadata": {},
   "outputs": [
    {
     "name": "stdout",
     "output_type": "stream",
     "text": [
      "13\n",
      "6\n"
     ]
    }
   ],
   "source": [
    "from langchain_text_splitters import CharacterTextSplitter\n",
    "\n",
    "text_splitter = CharacterTextSplitter.from_tiktoken_encoder(\n",
    "    model_name=\"text-embedding-3-small\",\n",
    "    separator=r\"[.!?]\\s+\",\n",
    "    chunk_size=100,\n",
    "    chunk_overlap=0,\n",
    "    is_separator_regex=True,\n",
    "    keep_separator=False,\n",
    ")\n",
    "\n",
    "korean_docs = text_splitter.split_documents(korean_data)\n",
    "english_docs = text_splitter.split_documents(english_data)\n",
    "\n",
    "print(len(korean_docs))\n",
    "print(len(english_docs))"
   ]
  }
 ],
 "metadata": {
  "kernelspec": {
   "display_name": "langchain",
   "language": "python",
   "name": "python3"
  },
  "language_info": {
   "codemirror_mode": {
    "name": "ipython",
    "version": 3
   },
   "file_extension": ".py",
   "mimetype": "text/x-python",
   "name": "python",
   "nbconvert_exporter": "python",
   "pygments_lexer": "ipython3",
   "version": "3.11.13"
  }
 },
 "nbformat": 4,
 "nbformat_minor": 5
}
